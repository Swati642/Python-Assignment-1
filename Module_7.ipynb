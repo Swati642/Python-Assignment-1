{
  "nbformat": 4,
  "nbformat_minor": 0,
  "metadata": {
    "colab": {
      "provenance": [],
      "authorship_tag": "ABX9TyOqsdtNp9Q3sUxY7qldSjT3",
      "include_colab_link": true
    },
    "kernelspec": {
      "name": "python3",
      "display_name": "Python 3"
    },
    "language_info": {
      "name": "python"
    }
  },
  "cells": [
    {
      "cell_type": "markdown",
      "metadata": {
        "id": "view-in-github",
        "colab_type": "text"
      },
      "source": [
        "<a href=\"https://colab.research.google.com/github/Swati642/Python-Assignment-1/blob/main/Module_7.ipynb\" target=\"_parent\"><img src=\"https://colab.research.google.com/assets/colab-badge.svg\" alt=\"Open In Colab\"/></a>"
      ]
    },
    {
      "cell_type": "markdown",
      "source": [
        "1. What are the five key concepts of Object-Oriented Programming (OOP)?"
      ],
      "metadata": {
        "id": "XLqAyBR-ZgnO"
      }
    },
    {
      "cell_type": "markdown",
      "source": [
        "Encapsulation: The bundling of data (attributes) and methods (functions) that operate on the data within a single unit, known as a class. It also restricts direct access to some of an object's components, which helps in protecting the object's state by using access modifiers (e.g., private, protected).\n",
        "\n",
        "Abstraction: The process of hiding complex implementation details and showing only the essential features of an object. This allows the programmer to focus on high-level functionality without worrying about the underlying complexity.\n",
        "\n",
        "Inheritance: A mechanism where a new class (child class) inherits the attributes and methods of an existing class (parent class). It promotes code reuse and establishes a relationship between classes, allowing one class to extend another.\n",
        "\n",
        "Polymorphism: The ability of different classes to provide a method with the same name but different implementations. It allows objects of different classes to be treated as objects of a common super class, enabling one interface to be used for different data types.\n",
        "\n",
        "Composition: The practice of building complex objects by combining simpler objects. Unlike inheritance, composition allows creating relationships between classes by having objects of other classes as attributes of a class. It models a \"has-a\" relationship as opposed to the \"is-a\" relationship in inheritance."
      ],
      "metadata": {
        "id": "UgHQY5PaZmf-"
      }
    },
    {
      "cell_type": "markdown",
      "source": [
        "2. Write a Python class for a `Car` with attributes for `make`, `model`, and `year`. Include a method to display\n",
        "the car's information."
      ],
      "metadata": {
        "id": "LXBTTxXfZr4M"
      }
    },
    {
      "cell_type": "code",
      "source": [
        "class Car:\n",
        "    # Constructor to initialize the car's attributes\n",
        "    def __init__(self, make, model, year):\n",
        "        self.make = make\n",
        "        self.model = model\n",
        "        self.year = year\n",
        "\n",
        "    # Method to display the car's information\n",
        "    def display_info(self):\n",
        "        print(f\"Car Information: {self.year} {self.make} {self.model}\")\n",
        "\n",
        "# Example usage:\n",
        "car1 = Car(\"Toyota\", \"Corolla\", 2020)\n",
        "car1.display_info()\n",
        "\n",
        "car2 = Car(\"Ford\", \"Mustang\", 2021)\n",
        "car2.display_info()"
      ],
      "metadata": {
        "id": "lE_8LdcOZvUn"
      },
      "execution_count": null,
      "outputs": []
    },
    {
      "cell_type": "markdown",
      "source": [
        "3. Explain the difference between instance methods and class methods. Provide an example of each."
      ],
      "metadata": {
        "id": "v7OBD3G3Z0Ic"
      }
    },
    {
      "cell_type": "markdown",
      "source": [
        "Instance Methods:\n",
        "Instance methods are functions defined within a class that operate on individual instances of the class.\n",
        "\n",
        "These methods can access and modify the instance's attributes (data).\n",
        "\n",
        "The first parameter of an instance method is always self, which refers to the current instance of the class.\n",
        "\n",
        "Class Methods:\n",
        "Class methods are functions defined within a class but are bound to the class itself rather than an instance of the class.\n",
        "\n",
        "They can modify the class's state that applies across all instances of the class, but they cannot access or modify instance-specific data.\n",
        "\n",
        "The first parameter of a class method is always cls, which refers to the class itself (not the instance).\n",
        "\n",
        "Class methods are defined using the @classmethod decorator."
      ],
      "metadata": {
        "id": "NGbfxK3iZ25d"
      }
    },
    {
      "cell_type": "code",
      "source": [
        "class Car:\n",
        "    # Class attribute\n",
        "    wheels = 4\n",
        "\n",
        "    def __init__(self, make, model, year):\n",
        "        self.make = make\n",
        "        self.model = model\n",
        "        self.year = year\n",
        "\n",
        "    # Instance method (operates on instance attributes)\n",
        "    def display_info(self):\n",
        "        print(f\"{self.year} {self.make} {self.model}\")\n",
        "        print(f\"Number of wheels: {self.wheels}\")\n",
        "\n",
        "    # Class method (operates on class attribute)\n",
        "    @classmethod\n",
        "    def change_wheels(cls, new_wheel_count):\n",
        "        cls.wheels = new_wheel_count\n",
        "        print(f\"Number of wheels has been changed to: {cls.wheels}\")\n",
        "\n",
        "# Creating an instance of Car\n",
        "car1 = Car(\"Toyota\", \"Corolla\", 2020)\n",
        "car1.display_info()  # Calls instance method\n",
        "\n",
        "# Changing the class attribute using a class method\n",
        "Car.change_wheels(6)\n",
        "\n",
        "# Creating a new instance of Car to see the change in wheels count\n",
        "car2 = Car(\"Ford\", \"Mustang\", 2021)\n",
        "car2.display_info()  # Calls instance method, but shows updated wheels"
      ],
      "metadata": {
        "id": "AL3mNGbfaC80"
      },
      "execution_count": null,
      "outputs": []
    },
    {
      "cell_type": "markdown",
      "source": [
        "4. How does Python implement method overloading? Give an example."
      ],
      "metadata": {
        "id": "nwo9EGPuaHPs"
      }
    },
    {
      "cell_type": "markdown",
      "source": [
        "In Python, method overloading (the ability to define multiple methods with the same name but different parameters) is not directly supported like in other languages (e.g., Java or C++). However, Python can mimic method overloading through default arguments or by checking the number and type of arguments passed using conditional logic within the method."
      ],
      "metadata": {
        "id": "NBG_SEVmaRO7"
      }
    },
    {
      "cell_type": "code",
      "source": [
        "class MathOperations:\n",
        "\n",
        "    # Method that handles different numbers of arguments\n",
        "    def add(self, a, b=0, c=0):\n",
        "        return a + b + c\n",
        "\n",
        "# Create an instance of the class\n",
        "math_ops = MathOperations()\n",
        "\n",
        "# Call the method with different numbers of arguments\n",
        "print(math_ops.add(5))       # Output: 5\n",
        "print(math_ops.add(5, 3))    # Output: 8\n",
        "print(math_ops.add(5, 3, 2)) # Output: 10"
      ],
      "metadata": {
        "id": "BPXNCQBhaR_I"
      },
      "execution_count": null,
      "outputs": []
    },
    {
      "cell_type": "markdown",
      "source": [
        "5. What are the three types of access modifiers in Python? How are they denoted?"
      ],
      "metadata": {
        "id": "AcG57jW5aT3A"
      }
    },
    {
      "cell_type": "markdown",
      "source": [
        "1. Public:\n",
        "Denoted by: No leading underscore (variable_name)\n",
        "Description: Public members (attributes or methods) are accessible from outside the class. There is no restriction on accessing them.\n",
        "Usage: Public attributes and methods are meant to be accessed directly from outside the class."
      ],
      "metadata": {
        "id": "aL7oA2b8aYNl"
      }
    },
    {
      "cell_type": "code",
      "source": [
        "class Car:\n",
        "    def __init__(self, make, model):\n",
        "        self.make = make  # public attribute\n",
        "        self.model = model  # public attribute\n",
        "\n",
        "    def display_info(self):  # public method\n",
        "        print(f\"Make: {self.make}, Model: {self.model}\")\n",
        "\n",
        "# Example usage:\n",
        "car = Car(\"Toyota\", \"Corolla\")\n",
        "print(car.make)  # Accessing public attribute\n",
        "car.display_info()  # Calling public method"
      ],
      "metadata": {
        "id": "FlQhF3CiapUZ"
      },
      "execution_count": null,
      "outputs": []
    },
    {
      "cell_type": "markdown",
      "source": [
        "2. Protected:\n",
        "Denoted by: A single leading underscore (_variable_name)\n",
        "Description: Protected members are intended to be accessed only within the class and by subclasses. This is a convention and not enforced by Python, meaning it is still possible to access these attributes from outside the class, but it is discouraged.\n",
        "Usage: Protected attributes are typically used for internal operations within a class and by subclasses."
      ],
      "metadata": {
        "id": "QEAU6eEIarpg"
      }
    },
    {
      "cell_type": "code",
      "source": [
        "class Car:\n",
        "    def __init__(self, make, model):\n",
        "        self._make = make  # protected attribute\n",
        "        self._model = model  # protected attribute\n",
        "\n",
        "    def display_info(self):  # public method\n",
        "        print(f\"Make: {self._make}, Model: {self._model}\")\n",
        "\n",
        "# Example usage:\n",
        "car = Car(\"Toyota\", \"Corolla\")\n",
        "print(car._make)  # It is possible, but discouraged to access protected attribute\n",
        "car.display_info()"
      ],
      "metadata": {
        "id": "DsHgJHQpauBu"
      },
      "execution_count": null,
      "outputs": []
    },
    {
      "cell_type": "markdown",
      "source": [
        "3. Private:\n",
        "Denoted by: A double leading underscore (__variable_name)\n",
        "Description: Private members are intended to be accessible only within the class. Python performs name mangling to prevent direct access to private attributes and methods from outside the class.\n",
        "Usage: Private attributes and methods are used when you want to hide the internal state or implementation details and restrict access from outside the class."
      ],
      "metadata": {
        "id": "VfDogCzyawZd"
      }
    },
    {
      "cell_type": "code",
      "source": [
        "class Car:\n",
        "    def __init__(self, make, model):\n",
        "        self.__make = make  # private attribute\n",
        "        self.__model = model  # private attribute\n",
        "\n",
        "    def display_info(self):  # public method\n",
        "        print(f\"Make: {self.__make}, Model: {self.__model}\")\n",
        "\n",
        "# Example usage:\n",
        "car = Car(\"Toyota\", \"Corolla\")\n",
        "# print(car.__make)  # This will raise an AttributeError\n",
        "car.display_info()\n",
        "\n",
        "# Accessing private attribute through name mangling\n",
        "print(car._Car__make)  # Output: Toyota"
      ],
      "metadata": {
        "id": "Azh3UAAaay2e"
      },
      "execution_count": null,
      "outputs": []
    },
    {
      "cell_type": "markdown",
      "source": [
        "6. Describe the five types of inheritance in Python. Provide a simple example of multiple inheritance"
      ],
      "metadata": {
        "id": "Fuar44AZa1X3"
      }
    },
    {
      "cell_type": "markdown",
      "source": [
        " Single Inheritance\n",
        "A class inherits from a single base class.\n",
        "This is the simplest form of inheritance."
      ],
      "metadata": {
        "id": "hEK6Kix4cJrk"
      }
    },
    {
      "cell_type": "code",
      "source": [
        "class Animal:\n",
        "    def speak(self):\n",
        "        print(\"Animal speaks\")\n",
        "\n",
        "class Dog(Animal):\n",
        "    def speak(self):\n",
        "        print(\"Dog barks\")\n",
        "\n",
        "# Example usage\n",
        "dog = Dog()\n",
        "dog.speak()  # Output: Dog barks"
      ],
      "metadata": {
        "id": "_1HEEqPxcKgE"
      },
      "execution_count": null,
      "outputs": []
    },
    {
      "cell_type": "markdown",
      "source": [
        "2. Multiple Inheritance\n",
        "A class inherits from more than one base class.\n",
        "This allows a class to have features from multiple classes."
      ],
      "metadata": {
        "id": "mk5M0ZwJcQHt"
      }
    },
    {
      "cell_type": "code",
      "source": [
        "class Animal:\n",
        "    def speak(self):\n",
        "        print(\"Animal speaks\")\n",
        "\n",
        "class Mammal:\n",
        "    def walk(self):\n",
        "        print(\"Mammal walks\")\n",
        "\n",
        "class Dog(Animal, Mammal):\n",
        "    def bark(self):\n",
        "        print(\"Dog barks\")\n",
        "\n",
        "# Example usage\n",
        "dog = Dog()\n",
        "dog.speak()  # Output: Animal speaks\n",
        "dog.walk()   # Output: Mammal walks\n",
        "dog.bark()   # Output: Dog barks\n"
      ],
      "metadata": {
        "id": "JxVuZEQncScN"
      },
      "execution_count": null,
      "outputs": []
    },
    {
      "cell_type": "markdown",
      "source": [
        "3. Multilevel Inheritance\n",
        "A class inherits from a class that is also derived from another class.\n",
        "It creates a chain of inheritance."
      ],
      "metadata": {
        "id": "tQBwn4gmcW6e"
      }
    },
    {
      "cell_type": "code",
      "source": [
        "class Animal:\n",
        "    def speak(self):\n",
        "        print(\"Animal speaks\")\n",
        "\n",
        "class Mammal(Animal):\n",
        "    def walk(self):\n",
        "        print(\"Mammal walks\")\n",
        "\n",
        "class Dog(Mammal):\n",
        "    def bark(self):\n",
        "        print(\"Dog barks\")\n",
        "\n",
        "# Example usage\n",
        "dog = Dog()\n",
        "dog.speak()  # Output: Animal speaks\n",
        "dog.walk()   # Output: Mammal walks\n",
        "dog.bark()   # Output: Dog barks"
      ],
      "metadata": {
        "id": "MbpxZ4JscaQB"
      },
      "execution_count": null,
      "outputs": []
    },
    {
      "cell_type": "markdown",
      "source": [
        "4. Hierarchical Inheritance\n",
        "Multiple classes inherit from a single parent class.\n",
        "All subclasses share the same base class."
      ],
      "metadata": {
        "id": "GXHwmymkcdW8"
      }
    },
    {
      "cell_type": "code",
      "source": [
        "class Animal:\n",
        "    def speak(self):\n",
        "        print(\"Animal speaks\")\n",
        "\n",
        "class Dog(Animal):\n",
        "    def bark(self):\n",
        "        print(\"Dog barks\")\n",
        "\n",
        "class Cat(Animal):\n",
        "    def meow(self):\n",
        "        print(\"Cat meows\")\n",
        "\n",
        "# Example usage\n",
        "dog = Dog()\n",
        "dog.speak()  # Output: Animal speaks\n",
        "dog.bark()   # Output: Dog barks\n",
        "\n",
        "cat = Cat()\n",
        "cat.speak()  # Output: Animal speaks\n",
        "cat.meow()   # Output: Cat meows"
      ],
      "metadata": {
        "id": "EpHAriQPcf7U"
      },
      "execution_count": null,
      "outputs": []
    },
    {
      "cell_type": "markdown",
      "source": [
        "5. Hybrid Inheritance\n",
        "A combination of two or more types of inheritance (such as multiple and multilevel inheritance).\n",
        "This can result in a more complex inheritance structure."
      ],
      "metadata": {
        "id": "6ILO5kojci5m"
      }
    },
    {
      "cell_type": "code",
      "source": [
        "class Animal:\n",
        "    def speak(self):\n",
        "        print(\"Animal speaks\")\n",
        "\n",
        "class Mammal(Animal):\n",
        "    def walk(self):\n",
        "        print(\"Mammal walks\")\n",
        "\n",
        "class Bird(Animal):\n",
        "    def fly(self):\n",
        "        print(\"Bird flies\")\n",
        "\n",
        "class Bat(Mammal, Bird):  # Multiple Inheritance\n",
        "    def hang(self):\n",
        "        print(\"Bat hangs upside down\")\n",
        "\n",
        "# Example usage\n",
        "bat = Bat()\n",
        "bat.speak()  # Output: Animal speaks\n",
        "bat.walk()   # Output: Mammal walks\n",
        "bat.fly()    # Output: Bird flies\n",
        "bat.hang()   # Output: Bat hangs upside down"
      ],
      "metadata": {
        "id": "quAiyWnscltw"
      },
      "execution_count": null,
      "outputs": []
    },
    {
      "cell_type": "markdown",
      "source": [
        "7. What is the Method Resolution Order (MRO) in Python? How can you retrieve it programmatically?"
      ],
      "metadata": {
        "id": "B1EI6IwecoxX"
      }
    },
    {
      "cell_type": "markdown",
      "source": [
        "The Method Resolution Order (MRO) is the order in which Python looks for a method in a class hierarchy. It determines the sequence in which base classes are searched when a method is called on an object.\n",
        "\n",
        "In Python, classes can inherit from multiple classes (multiple inheritance), and in such cases, the MRO helps in determining which method or attribute should be called when there is ambiguity due to multiple classes having the same method or attribute name.\n",
        "\n",
        "Python uses the C3 Linearization Algorithm (also known as C3 superclass linearization) to define the MRO for a class. The C3 algorithm ensures that the MRO follows a specific order to prevent ambiguity and maintain consistency when resolving methods."
      ],
      "metadata": {
        "id": "ExxvAlofcxbf"
      }
    },
    {
      "cell_type": "code",
      "source": [
        "class A:\n",
        "    def greet(self):\n",
        "        print(\"Hello from A\")\n",
        "\n",
        "class B(A):\n",
        "    def greet(self):\n",
        "        print(\"Hello from B\")\n",
        "\n",
        "class C(A):\n",
        "    def greet(self):\n",
        "        print(\"Hello from C\")\n",
        "\n",
        "class D(B, C):\n",
        "    pass\n",
        "\n",
        "# Example usage\n",
        "d = D()\n",
        "d.greet()  # Output: Hello from B"
      ],
      "metadata": {
        "id": "Yc-GURDRcyY8"
      },
      "execution_count": null,
      "outputs": []
    },
    {
      "cell_type": "markdown",
      "source": [
        "Retrieving MRO Programmatically\n",
        "To retrieve the MRO programmatically, you can use the mro() method or the __mro__ attribute on a class. This will give you the sequence in which classes are checked when resolving a method."
      ],
      "metadata": {
        "id": "c3-klcvqc1Ok"
      }
    },
    {
      "cell_type": "code",
      "source": [
        "print(D.mro())  # Using the mro() method\n",
        "# Output: [<class '__main__.D'>, <class '__main__.B'>, <class '__main__.C'>, <class '__main__.A'>, <class 'object'>]\n",
        "\n",
        "print(D.__mro__)  # Using the __mro__ attribute\n",
        "# Output: (<class '__main__.D'>, <class '__main__.B'>, <class '__main__.C'>, <class '__main__.A'>, <class 'object'>)"
      ],
      "metadata": {
        "id": "eEbWeH_Ic5Nh"
      },
      "execution_count": null,
      "outputs": []
    },
    {
      "cell_type": "markdown",
      "source": [
        "8. Create an abstract base class `Shape` with an abstract method `area()`. Then create two subclasses\n",
        "`Circle` and `Rectangle` that implement the `area()` method."
      ],
      "metadata": {
        "id": "Fq2oxpAZc8-g"
      }
    },
    {
      "cell_type": "code",
      "source": [
        "from abc import ABC, abstractmethod\n",
        "import math\n",
        "\n",
        "# Abstract Base Class\n",
        "class Shape(ABC):\n",
        "    @abstractmethod\n",
        "    def area(self):\n",
        "        pass\n",
        "\n",
        "# Subclass Circle\n",
        "class Circle(Shape):\n",
        "    def __init__(self, radius):\n",
        "        self.radius = radius\n",
        "\n",
        "    def area(self):\n",
        "        return math.pi * (self.radius ** 2)\n",
        "\n",
        "# Subclass Rectangle\n",
        "class Rectangle(Shape):\n",
        "    def __init__(self, length, width):\n",
        "        self.length = length\n",
        "        self.width = width\n",
        "\n",
        "    def area(self):\n",
        "        return self.length * self.width\n",
        "\n",
        "# Example usage\n",
        "circle = Circle(5)\n",
        "rectangle = Rectangle(4, 6)\n",
        "\n",
        "print(f\"Area of Circle: {circle.area()}\")  # Output: Area of Circle: 78.53981633974483\n",
        "print(f\"Area of Rectangle: {rectangle.area()}\")  # Output: Area of Rectangle: 24"
      ],
      "metadata": {
        "id": "SH7Iu0NpdKr3"
      },
      "execution_count": null,
      "outputs": []
    },
    {
      "cell_type": "markdown",
      "source": [
        "9. Demonstrate polymorphism by creating a function that can work with different shape objects to calculate\n",
        "and print their areas."
      ],
      "metadata": {
        "id": "HjfqG67ndLlc"
      }
    },
    {
      "cell_type": "code",
      "source": [
        "from abc import ABC, abstractmethod\n",
        "import math\n",
        "\n",
        "# Abstract Base Class\n",
        "class Shape(ABC):\n",
        "    @abstractmethod\n",
        "    def area(self):\n",
        "        pass\n",
        "\n",
        "# Subclass Circle\n",
        "class Circle(Shape):\n",
        "    def __init__(self, radius):\n",
        "        self.radius = radius\n",
        "\n",
        "    def area(self):\n",
        "        return math.pi * (self.radius ** 2)\n",
        "\n",
        "# Subclass Rectangle\n",
        "class Rectangle(Shape):\n",
        "    def __init__(self, length, width):\n",
        "        self.length = length\n",
        "        self.width = width\n",
        "\n",
        "    def area(self):\n",
        "        return self.length * self.width\n",
        "\n",
        "# Subclass Triangle\n",
        "class Triangle(Shape):\n",
        "    def __init__(self, base, height):\n",
        "        self.base = base\n",
        "        self.height = height\n",
        "\n",
        "    def area(self):\n",
        "        return 0.5 * self.base * self.height\n",
        "\n",
        "# Function to calculate and print area of any shape\n",
        "def print_area(shape: Shape):\n",
        "    print(f\"The area of the {shape.__class__.__name__} is: {shape.area()}\")\n",
        "\n",
        "# Example usage\n",
        "circle = Circle(5)\n",
        "rectangle = Rectangle(4, 6)\n",
        "triangle = Triangle(10, 7)\n",
        "\n",
        "# Calling the function with different shape objects\n",
        "print_area(circle)       # Output: The area of the Circle is: 78.53981633974483\n",
        "print_area(rectangle)    # Output: The area of the Rectangle is: 24\n",
        "print_area(triangle)     # Output: The area of the Triangle is: 35.0"
      ],
      "metadata": {
        "id": "f64-r5KEdZnV"
      },
      "execution_count": null,
      "outputs": []
    },
    {
      "cell_type": "markdown",
      "source": [
        "10. Implement encapsulation in a `BankAccount` class with private attributes for `balance` and\n",
        "`account_number`. Include methods for deposit, withdrawal, and balance inquiry."
      ],
      "metadata": {
        "id": "wRL6pByjdikn"
      }
    },
    {
      "cell_type": "code",
      "source": [
        "class BankAccount:\n",
        "    def __init__(self, account_number, initial_balance=0):\n",
        "        # Private attributes (encapsulation)\n",
        "        self.__account_number = account_number\n",
        "        self.__balance = initial_balance\n",
        "\n",
        "    # Public method to deposit money\n",
        "    def deposit(self, amount):\n",
        "        if amount > 0:\n",
        "            self.__balance += amount\n",
        "            print(f\"Deposited: {amount} | New Balance: {self.__balance}\")\n",
        "        else:\n",
        "            print(\"Deposit amount must be positive.\")\n",
        "\n",
        "    # Public method to withdraw money\n",
        "    def withdraw(self, amount):\n",
        "        if amount > 0 and amount <= self.__balance:\n",
        "            self.__balance -= amount\n",
        "            print(f\"Withdrew: {amount} | New Balance: {self.__balance}\")\n",
        "        elif amount > self.__balance:\n",
        "            print(\"Insufficient funds.\")\n",
        "        else:\n",
        "            print(\"Withdrawal amount must be positive.\")\n",
        "\n",
        "    # Public method to get balance (read-only access)\n",
        "    def get_balance(self):\n",
        "        return self.__balance\n",
        "\n",
        "    # Public method to get account number (read-only access)\n",
        "    def get_account_number(self):\n",
        "        return self.__account_number\n",
        "\n",
        "\n",
        "# Example usage\n",
        "account = BankAccount(\"1234567890\", 1000)\n",
        "\n",
        "# Deposit money\n",
        "account.deposit(500)\n",
        "\n",
        "# Withdraw money\n",
        "account.withdraw(200)\n",
        "\n",
        "# Get balance and account number\n",
        "print(f\"Account Number: {account.get_account_number()}\")\n",
        "print(f\"Current Balance: {account.get_balance()}\")"
      ],
      "metadata": {
        "id": "Qh90OfLXdmQW"
      },
      "execution_count": null,
      "outputs": []
    },
    {
      "cell_type": "markdown",
      "source": [
        "11. Write a class that overrides the `__str__` and `__add__` magic methods. What will these methods allow\n",
        "you to do?"
      ],
      "metadata": {
        "id": "__8cxadNdtSr"
      }
    },
    {
      "cell_type": "code",
      "source": [
        "class Book:\n",
        "    def __init__(self, title, author, price):\n",
        "        self.title = title\n",
        "        self.author = author\n",
        "        self.price = price\n",
        "\n",
        "    # Overriding __str__ to define string representation of the object\n",
        "    def __str__(self):\n",
        "        return f\"Book: {self.title} by {self.author}, Price: ${self.price}\"\n",
        "\n",
        "    # Overriding __add__ to define custom addition behavior\n",
        "    def __add__(self, other):\n",
        "        if isinstance(other, Book):\n",
        "            return f\"Combining books: {self.title} and {other.title}\"\n",
        "        return \"Cannot combine with a non-book object.\"\n",
        "\n",
        "\n",
        "# Example usage:\n",
        "book1 = Book(\"Learning Python\", \"Mark Lutz\", 45.99)\n",
        "book2 = Book(\"Automate the Boring Stuff\", \"Al Sweigart\", 29.99)\n",
        "\n",
        "# Using the __str__ method to print the object\n",
        "print(book1)  # Output: Book: Learning Python by Mark Lutz, Price: $45.99\n",
        "\n",
        "# Using the __add__ method to combine two Book objects\n",
        "print(book1 + book2)  # Output: Combining books: Learning Python and Automate the Boring Stuff"
      ],
      "metadata": {
        "id": "7hYHae5hdweo"
      },
      "execution_count": null,
      "outputs": []
    },
    {
      "cell_type": "markdown",
      "source": [
        "12. Create a decorator that measures and prints the execution time of a function"
      ],
      "metadata": {
        "id": "QGe0Rbvwd4BJ"
      }
    },
    {
      "cell_type": "code",
      "source": [
        "import time\n",
        "\n",
        "# Decorator to measure execution time\n",
        "def measure_execution_time(func):\n",
        "    def wrapper(*args, **kwargs):\n",
        "        start_time = time.time()  # Record start time\n",
        "        result = func(*args, **kwargs)  # Call the original function\n",
        "        end_time = time.time()  # Record end time\n",
        "        execution_time = end_time - start_time  # Calculate execution time\n",
        "        print(f\"Execution time of {func.__name__}: {execution_time:.6f} seconds\")\n",
        "        return result  # Return the result of the original function\n",
        "    return wrapper\n",
        "\n",
        "# Example function to demonstrate the decorator\n",
        "@measure_execution_time\n",
        "def long_running_function():\n",
        "    time.sleep(2)  # Simulate a function that takes 2 seconds to execute\n",
        "    print(\"Function executed.\")\n",
        "\n",
        "# Call the decorated function\n",
        "long_running_function()"
      ],
      "metadata": {
        "id": "FX5BffKud7qw"
      },
      "execution_count": null,
      "outputs": []
    },
    {
      "cell_type": "markdown",
      "source": [
        "13. Explain the concept of the Diamond Problem in multiple inheritance. How does Python resolve it?"
      ],
      "metadata": {
        "id": "B5Vb0JKHeBN9"
      }
    },
    {
      "cell_type": "markdown",
      "source": [
        "The Diamond Problem occurs in object-oriented programming when a class inherits from two classes that both inherit from the same base class, forming a diamond-shaped hierarchy. This leads to ambiguity because the derived class could inherit methods or properties from the base class through multiple paths, and it's unclear which path should be used."
      ],
      "metadata": {
        "id": "XNwaqRyPf0VF"
      }
    },
    {
      "cell_type": "code",
      "source": [
        "class A:\n",
        "    def hello(self):\n",
        "        print(\"Hello from A\")\n",
        "\n",
        "class B(A):\n",
        "    def hello(self):\n",
        "        print(\"Hello from B\")\n",
        "\n",
        "class C(A):\n",
        "    def hello(self):\n",
        "        print(\"Hello from C\")\n",
        "\n",
        "class D(B, C):  # D inherits from both B and C\n",
        "    pass\n",
        "\n",
        "d = D()\n",
        "d.hello()  # Which hello() method should be called?"
      ],
      "metadata": {
        "id": "DxGiiAyzf1GR"
      },
      "execution_count": null,
      "outputs": []
    },
    {
      "cell_type": "markdown",
      "source": [
        "How Python Resolves the Diamond Problem:\n",
        "Python uses a method resolution order (MRO) to handle the ambiguity. The MRO defines the order in which classes are searched when looking for a method or attribute. Python's MRO is determined by the C3 Linearization algorithm, which ensures a consistent and unambiguous method lookup.\n",
        "\n",
        "How MRO Works:\n",
        "Python uses the C3 Linearization algorithm, which linearizes the inheritance order in a consistent way.\n",
        "The MRO can be viewed using the mro() method or the __mro__ attribute."
      ],
      "metadata": {
        "id": "--NC4Hclf4Dp"
      }
    },
    {
      "cell_type": "code",
      "source": [
        "class D(B, C):\n",
        "    pass\n",
        "\n",
        "print(D.mro())\n",
        "# Output: [<class '__main__.D'>, <class '__main__.B'>, <class '__main__.C'>, <class '__main__.A'>, <class 'object'>]"
      ],
      "metadata": {
        "id": "uYCmzdyof6ad"
      },
      "execution_count": null,
      "outputs": []
    },
    {
      "cell_type": "markdown",
      "source": [
        "14. Write a class method that keeps track of the number of instances created from a class."
      ],
      "metadata": {
        "id": "wpclW4IMf8s_"
      }
    },
    {
      "cell_type": "markdown",
      "source": [
        "To track the number of instances created from a class, we can use a class method along with a class-level variable. The class method will access and modify a variable that is shared among all instances of the class, keeping count of how many instances have been created."
      ],
      "metadata": {
        "id": "spOR1QtRh49d"
      }
    },
    {
      "cell_type": "code",
      "source": [
        "class MyClass:\n",
        "    # Class-level attribute to store the count of instances\n",
        "    instance_count = 0\n",
        "\n",
        "    def __init__(self):\n",
        "        # Increment the instance count each time an instance is created\n",
        "        MyClass.instance_count += 1\n",
        "\n",
        "    @classmethod\n",
        "    def get_instance_count(cls):\n",
        "        # Return the number of instances created\n",
        "        return cls.instance_count\n",
        "\n",
        "\n",
        "# Creating instances of MyClass\n",
        "obj1 = MyClass()\n",
        "obj2 = MyClass()\n",
        "obj3 = MyClass()\n",
        "\n",
        "# Accessing the class method to get the number of instances\n",
        "print(f\"Number of instances created: {MyClass.get_instance_count()}\")"
      ],
      "metadata": {
        "id": "13u-UBQqh6zy"
      },
      "execution_count": null,
      "outputs": []
    },
    {
      "cell_type": "markdown",
      "source": [
        "15. Implement a static method in a class that checks if a given year is a leap year."
      ],
      "metadata": {
        "id": "30eusT43iDYz"
      }
    },
    {
      "cell_type": "code",
      "source": [
        "class YearUtils:\n",
        "    @staticmethod\n",
        "    def is_leap_year(year):\n",
        "        # A leap year is divisible by 4, but not divisible by 100 unless divisible by 400\n",
        "        if (year % 4 == 0 and year % 100 != 0) or (year % 400 == 0):\n",
        "            return True\n",
        "        else:\n",
        "            return False\n",
        "\n",
        "\n",
        "# Examples of using the static method\n",
        "print(YearUtils.is_leap_year(2020))  # True (2020 is a leap year)\n",
        "print(YearUtils.is_leap_year(2021))  # False (2021 is not a leap year)\n",
        "print(YearUtils.is_leap_year(1900))  # False (1900 is not a leap year)\n",
        "print(YearUtils.is_leap_year(2000))  # True (2000 is a leap year)"
      ],
      "metadata": {
        "id": "tPB5okxziEBa"
      },
      "execution_count": null,
      "outputs": []
    }
  ]
}