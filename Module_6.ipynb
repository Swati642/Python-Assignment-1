{
  "nbformat": 4,
  "nbformat_minor": 0,
  "metadata": {
    "colab": {
      "provenance": [],
      "authorship_tag": "ABX9TyOpkVIlNa7gfDPoAMCC219D",
      "include_colab_link": true
    },
    "kernelspec": {
      "name": "python3",
      "display_name": "Python 3"
    },
    "language_info": {
      "name": "python"
    }
  },
  "cells": [
    {
      "cell_type": "markdown",
      "metadata": {
        "id": "view-in-github",
        "colab_type": "text"
      },
      "source": [
        "<a href=\"https://colab.research.google.com/github/Swati642/Python-Assignment-1/blob/main/Module_6.ipynb\" target=\"_parent\"><img src=\"https://colab.research.google.com/assets/colab-badge.svg\" alt=\"Open In Colab\"/></a>"
      ]
    },
    {
      "cell_type": "markdown",
      "source": [
        "1. What is the difference between a function and a method in Python?"
      ],
      "metadata": {
        "id": "ckxauq1a4Rq4"
      }
    },
    {
      "cell_type": "markdown",
      "source": [
        "\n",
        "In Python, a function is a reusable block of code that is defined independently and can be called on its own. A method, on the other hand, is a function that is associated with an object or class and operates on that object. While functions are standalone, methods are always called on instances or classes, and they automatically receive the object as the first argument (commonly self)."
      ],
      "metadata": {
        "id": "nFLiAH2Y4Uzm"
      }
    },
    {
      "cell_type": "markdown",
      "source": [
        "2.  Explain the concept of function arguments and parameters in Python"
      ],
      "metadata": {
        "id": "a9T3dnOF4fRd"
      }
    },
    {
      "cell_type": "markdown",
      "source": [
        "In Python, parameters and arguments are used to pass information into functions.\n",
        "\n",
        "Parameters are variables defined in a function's definition. They act as placeholders for the values that will be passed when the function is called. For example, in def add(a, b), a and b are parameters.\n",
        "\n",
        "Arguments are the actual values or data that are passed to a function when it is called. For example, in add(3, 5), 3 and 5 are arguments that correspond to the parameters a and b.\n",
        "\n",
        "Thus, parameters are defined when writing the function, and arguments are provided when calling it."
      ],
      "metadata": {
        "id": "zEi7JY5X4jwp"
      }
    },
    {
      "cell_type": "markdown",
      "source": [
        "3. What are the different ways to define and call a function in Python"
      ],
      "metadata": {
        "id": "UXJcvMQL4vdS"
      }
    },
    {
      "cell_type": "markdown",
      "source": [
        "In Python, functions can be defined and called in various ways depending on the requirements and the context. Here are the different methods:\n",
        "a) . Basic Function Definition and Call:\n",
        "Definition: Use the def keyword to define a function with parameters.\n",
        "Call: Call the function by its name and pass the appropriate arguments."
      ],
      "metadata": {
        "id": "t7LiTBzR4zjW"
      }
    },
    {
      "cell_type": "code",
      "source": [
        "def greet(name):\n",
        "    return f\"Hello, {name}!\"\n",
        "\n",
        "print(greet(\"Swati\"))  # Output: Hello, Swati!"
      ],
      "metadata": {
        "id": "fBhLDWG-5S8m"
      },
      "execution_count": null,
      "outputs": []
    },
    {
      "cell_type": "markdown",
      "source": [
        "b) Function with Default Parameters:\n",
        "Definition: You can assign default values to parameters, which will be used if no argument is passed.\n",
        "Call: You can either provide a value or use the default."
      ],
      "metadata": {
        "id": "kltzocEi5bUk"
      }
    },
    {
      "cell_type": "code",
      "source": [
        "def greet(name=\"Guest\"):\n",
        "    return f\"Hello, {name}!\"\n",
        "\n",
        "print(greet())       # Output: Hello, Guest!\n",
        "print(greet(\"Bob\"))  # Output: Hello, Bob!"
      ],
      "metadata": {
        "id": "6c89IhmY5fE_"
      },
      "execution_count": null,
      "outputs": []
    },
    {
      "cell_type": "markdown",
      "source": [
        "c)Function with Variable Number of Arguments:\n",
        "Definition: Use *args for a variable number of positional arguments and **kwargs for keyword arguments.\n",
        "Call: Pass any number of arguments.\n"
      ],
      "metadata": {
        "id": "PLcwrO9k5h1n"
      }
    },
    {
      "cell_type": "code",
      "source": [
        "def greet(*names):\n",
        "    for name in names:\n",
        "        print(f\"Hello, {name}!\")\n",
        "\n",
        "greet(\"Alice\", \"Bob\", \"Charlie\")  # Output: Hello, Alice! Hello, Bob! Hello, Charlie!"
      ],
      "metadata": {
        "id": "fakRpRza5p4Q"
      },
      "execution_count": null,
      "outputs": []
    },
    {
      "cell_type": "markdown",
      "source": [
        "d) Lambda Function (Anonymous Function):\n",
        "Definition: A function can be defined without a name using lambda and is usually used for small, simple operations.\n",
        "Call: Lambda functions can be called immediately or assigned to a variable."
      ],
      "metadata": {
        "id": "klS-wRzZ5uPi"
      }
    },
    {
      "cell_type": "code",
      "source": [
        "square = lambda x: x * x\n",
        "print(square(5))  # Output: 25"
      ],
      "metadata": {
        "id": "H4d6FJAn5xs6"
      },
      "execution_count": null,
      "outputs": []
    },
    {
      "cell_type": "markdown",
      "source": [
        "4. What is the purpose of the `return` statement in a Python function?"
      ],
      "metadata": {
        "id": "oHx7KG8v50oB"
      }
    },
    {
      "cell_type": "markdown",
      "source": [
        "\n",
        "The return statement in a Python function serves the purpose of sending a result or value back from the function to the caller. When a function is executed, the return statement ends the function's execution and optionally passes a value back to where the function was called."
      ],
      "metadata": {
        "id": "B16u7DNJ59QW"
      }
    },
    {
      "cell_type": "markdown",
      "source": [
        "5. What are iterators in Python and how do they differ from iterables"
      ],
      "metadata": {
        "id": "Zs5QRvNJ597u"
      }
    },
    {
      "cell_type": "markdown",
      "source": [
        "Iterable:\n",
        "\n",
        "An iterable is an object that can return an iterator when the iter() function is called.\n",
        "It doesn't keep track of the iteration state, it simply provides the data to be iterated over.\n",
        "\n",
        "Iterator:\n",
        "\n",
        "An iterator is an object that keeps track of the current position of iteration.\n",
        "It generates the next value each time next() is called and raises StopIteration when there are no more items."
      ],
      "metadata": {
        "id": "U0SZy-nN6PNm"
      }
    },
    {
      "cell_type": "markdown",
      "source": [
        "6. Explain the concept of generators in Python and how they are defined"
      ],
      "metadata": {
        "id": "IhDYzIOA6Tyy"
      }
    },
    {
      "cell_type": "markdown",
      "source": [
        "In Python, a generator is an iterator that generates values one at a time using the yield keyword. It allows for lazy evaluation, meaning values are computed and returned only when needed, making it memory efficient. Generators are defined using a function with yield or a generator expression (similar to list comprehensions but with parentheses). Unlike regular functions, which return a single value, a generator can produce multiple values over time, pausing execution after each yield and resuming when the next value is requested."
      ],
      "metadata": {
        "id": "81GwUbjq6awx"
      }
    },
    {
      "cell_type": "code",
      "source": [
        "def generator_function():\n",
        "    # Code before yield\n",
        "    yield value  # Return a value and pause\n",
        "    # Code after yield will execute when resumed"
      ],
      "metadata": {
        "id": "73Ux9rH87mhY"
      },
      "execution_count": null,
      "outputs": []
    },
    {
      "cell_type": "markdown",
      "source": [
        "7.  What are the advantages of using generators over regular functions"
      ],
      "metadata": {
        "id": "EF_Z_Ob67nnw"
      }
    },
    {
      "cell_type": "markdown",
      "source": [
        "Generators offer several advantages over regular functions:\n",
        "\n",
        "Memory Efficiency: They generate values one at a time, so they don't store the entire sequence in memory, making them ideal for working with large datasets.\n",
        "\n",
        "Lazy Evaluation: Values are produced only when needed, which can improve performance, especially for infinite sequences or large data streams.\n",
        "\n",
        "Better Performance: By avoiding the overhead of creating large collections, generators can be faster for certain tasks, particularly when iterating over large datasets or streams of data.\n",
        "\n",
        "\n",
        "\n"
      ],
      "metadata": {
        "id": "7x7YT5mr753e"
      }
    },
    {
      "cell_type": "markdown",
      "source": [
        "8.  What is a lambda function in Python and when is it typically used?"
      ],
      "metadata": {
        "id": "w98R6lRF77HG"
      }
    },
    {
      "cell_type": "markdown",
      "source": [
        "A lambda function in Python is a small, anonymous function defined using the lambda keyword. It can have any number of input parameters but only a single expression. The result of the expression is automatically returned.\n",
        "\n",
        "syntax\n",
        "lambda arguments: expression\n",
        "\n",
        "It is used?\n",
        "Short, simple functions: Lambda functions are used for small operations that can be written in a single line, often as arguments to higher-order functions like map(), filter(), and sorted().\n",
        "Inline use: They are useful when you don’t want to define a full function using def for a one-time operation.\n",
        "Callbacks or function arguments: Lambda functions are commonly used in situations where a function is needed as an argument, such as in sorting or filtering."
      ],
      "metadata": {
        "id": "y0g-xD_G7-nZ"
      }
    },
    {
      "cell_type": "markdown",
      "source": [
        " 9. Explain the purpose and usage of the `map()` function in Python"
      ],
      "metadata": {
        "id": "79bYGVrI9I96"
      }
    },
    {
      "cell_type": "markdown",
      "source": [
        "The map() function in Python is used to apply a given function to all items in an iterable (like a list, tuple, etc.) and return a map object (an iterator) that produces the results.\n",
        "\n",
        "Syntax:\n",
        "map(function, iterable, ...)\n",
        "\n",
        "The map() function is useful when you want to apply a specific operation to all items in an iterable, such as transforming values, without writing a loop."
      ],
      "metadata": {
        "id": "5ldVVsLzFxRC"
      }
    },
    {
      "cell_type": "code",
      "source": [
        "numbers = [1, 2, 3, 4]\n",
        "squared_numbers = map(lambda x: x ** 2, numbers)\n",
        "print(list(squared_numbers))  # Output: [1, 4, 9, 16]"
      ],
      "metadata": {
        "id": "a1pwdGaxF7vK"
      },
      "execution_count": null,
      "outputs": []
    },
    {
      "cell_type": "markdown",
      "source": [
        "10. What is the difference between `map()`, `reduce()`, and `filter()` functions in Python"
      ],
      "metadata": {
        "id": "AgOiXFQIF_Zr"
      }
    },
    {
      "cell_type": "markdown",
      "source": [
        "Key Differences between them are:\n",
        "map(): Transforms each element of the iterable by applying a function to it, producing a new iterable of the same size.\n",
        "\n",
        "filter(): Filters elements of the iterable based on a condition, producing an iterable with only the elements that satisfy the condition.\n",
        "\n",
        "reduce(): Combines all elements of the iterable into a single value by applying a binary function cumulatively"
      ],
      "metadata": {
        "id": "_03oSGCxGKVG"
      }
    },
    {
      "cell_type": "markdown",
      "source": [
        "11.  Using pen & Paper write the internal mechanism for sum operation using  reduce function on this given\n",
        "list:[47,11,42,13]\n",
        "\n",
        "![WhatsApp Image 2024-11-20 at 11.19.49 AM.jpeg](data:image/jpeg;base64,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)"
      ],
      "metadata": {
        "id": "rTglWsjIGYGr"
      }
    },
    {
      "cell_type": "markdown",
      "source": [
        "1.  Write a Python function that takes a list of numbers as input and returns the sum of all even numbers in\n",
        "the list"
      ],
      "metadata": {
        "id": "XX3QG6YuIsch"
      }
    },
    {
      "cell_type": "code",
      "source": [
        "def sum_of_even_numbers(numbers):\n",
        "    # Use the filter function to keep only even numbers, then sum them\n",
        "    even_numbers = filter(lambda x: x % 2 == 0, numbers)\n",
        "    return sum(even_numbers)\n",
        "\n",
        "# Example usage:\n",
        "numbers = [47, 11, 42, 13, 8, 22]\n",
        "result = sum_of_even_numbers(numbers)\n",
        "print(\"Sum of even numbers:\", result)"
      ],
      "metadata": {
        "id": "QceXGIDHI0ed"
      },
      "execution_count": null,
      "outputs": []
    },
    {
      "cell_type": "markdown",
      "source": [
        "2. Create a Python function that accepts a string and returns the reverse of that string."
      ],
      "metadata": {
        "id": "eq7hTbeGI_Jr"
      }
    },
    {
      "cell_type": "code",
      "source": [
        "def reverse_string(input_string):\n",
        "    return input_string[::-1]\n",
        "\n",
        "# Example usage:\n",
        "string = \"hello\"\n",
        "reversed_string = reverse_string(string)\n",
        "print(\"Reversed string:\", reversed_string)"
      ],
      "metadata": {
        "id": "CGoyeaU7JF1b"
      },
      "execution_count": null,
      "outputs": []
    },
    {
      "cell_type": "markdown",
      "source": [
        "3. . Implement a Python function that takes a list of integers and returns a new list containing the squares of\n",
        "each number."
      ],
      "metadata": {
        "id": "uISLpddQJKjU"
      }
    },
    {
      "cell_type": "code",
      "source": [
        "def square_numbers(numbers):\n",
        "    return [x ** 2 for x in numbers]\n",
        "\n",
        "# Example usage:\n",
        "numbers = [1, 2, 3, 4, 5]\n",
        "squared_numbers = square_numbers(numbers)\n",
        "print(\"Squared numbers:\", squared_numbers)"
      ],
      "metadata": {
        "id": "7oMxQMtwJOx6"
      },
      "execution_count": null,
      "outputs": []
    },
    {
      "cell_type": "markdown",
      "source": [
        "4. Write a Python function that checks if a given number is prime or not from 1 to 200"
      ],
      "metadata": {
        "id": "5_LDwkzRJWwo"
      }
    },
    {
      "cell_type": "code",
      "source": [
        "def is_prime(number):\n",
        "    if number <= 1:\n",
        "        return False\n",
        "    for i in range(2, int(number ** 0.5) + 1):\n",
        "        if number % i == 0:\n",
        "            return False\n",
        "    return True\n",
        "\n",
        "# Check prime numbers from 1 to 200\n",
        "for num in range(1, 201):\n",
        "    if is_prime(num):\n",
        "        print(num, \"is prime\")"
      ],
      "metadata": {
        "id": "2n5nqEZTJe3f"
      },
      "execution_count": null,
      "outputs": []
    },
    {
      "cell_type": "markdown",
      "source": [
        "5.  Create an iterator class in Python that generates the Fibonacci sequence up to a specified number of\n",
        "terms."
      ],
      "metadata": {
        "id": "SAmtdqdTJfml"
      }
    },
    {
      "cell_type": "code",
      "source": [
        "class FibonacciIterator:\n",
        "    def __init__(self, terms):\n",
        "        self.terms = terms  # Total number of terms in the Fibonacci sequence\n",
        "        self.count = 0      # Counter to track the number of terms generated\n",
        "        self.a, self.b = 0, 1  # Starting values of the Fibonacci sequence\n",
        "\n",
        "    def __iter__(self):\n",
        "        return self  # Return the iterator object itself\n",
        "\n",
        "    def __next__(self):\n",
        "        if self.count < self.terms:\n",
        "            # If we haven't reached the desired number of terms, return the next Fibonacci number\n",
        "            fib_number = self.a\n",
        "            self.a, self.b = self.b, self.a + self.b  # Update Fibonacci sequence\n",
        "            self.count += 1  # Increment the counter\n",
        "            return fib_number\n",
        "        else:\n",
        "            raise StopIteration  # Stop the iteration when the desired number of terms is reached\n",
        "\n",
        "fibonacci_sequence = FibonacciIterator(10)  # Create an iterator for the first 10 Fibonacci numbers\n",
        "for number in fibonacci_sequence:\n",
        "    print(number)"
      ],
      "metadata": {
        "id": "ABHK8p0HJixy"
      },
      "execution_count": null,
      "outputs": []
    },
    {
      "cell_type": "markdown",
      "source": [
        "6. Write a generator function in Python that yields the powers of 2 up to a given exponent."
      ],
      "metadata": {
        "id": "lJtl1UtJJ4zK"
      }
    },
    {
      "cell_type": "code",
      "source": [
        "def powers_of_2(exponent):\n",
        "    for i in range(exponent + 1):\n",
        "        yield 2 ** i  # Yield the power of 2 for the current exponent\n",
        "\n",
        "# Example usage:\n",
        "for power in powers_of_2(5):\n",
        "    print(power)"
      ],
      "metadata": {
        "id": "yiMqFRG_J7d1"
      },
      "execution_count": null,
      "outputs": []
    },
    {
      "cell_type": "markdown",
      "source": [
        "7. Implement a generator function that reads a file line by line and yields each line as a string"
      ],
      "metadata": {
        "id": "Co59XF1ZKFG9"
      }
    },
    {
      "cell_type": "code",
      "source": [
        "def read_file_line_by_line(file_path):\n",
        "    with open(file_path, 'r') as file:\n",
        "        for line in file:\n",
        "            yield line.strip()  # Yield each line without trailing newline characters\n",
        "\n",
        "# Example usage:\n",
        "file_path = 'example.txt'  # Replace with your file path\n",
        "for line in read_file_line_by_line(file_path):\n",
        "    print(line)"
      ],
      "metadata": {
        "id": "ZK0Cld68KIHd"
      },
      "execution_count": null,
      "outputs": []
    },
    {
      "cell_type": "markdown",
      "source": [
        "8. Use a lambda function in Python to sort a list of tuples based on the second element of each tuple."
      ],
      "metadata": {
        "id": "1sMG84clKM5q"
      }
    },
    {
      "cell_type": "code",
      "source": [
        "# List of tuples\n",
        "tuples_list = [(1, 3), (2, 1), (4, 2), (5, 5)]\n",
        "\n",
        "# Sort the list of tuples based on the second element using a lambda function\n",
        "sorted_list = sorted(tuples_list, key=lambda x: x[1])\n",
        "\n",
        "# Print the sorted list\n",
        "print(sorted_list)"
      ],
      "metadata": {
        "id": "9MReDFX2KTiC"
      },
      "execution_count": null,
      "outputs": []
    },
    {
      "cell_type": "markdown",
      "source": [
        "9. Write a Python program that uses `map()` to convert a list of temperatures from Celsius to Fahrenheit"
      ],
      "metadata": {
        "id": "i7IR6OO_KYuO"
      }
    },
    {
      "cell_type": "code",
      "source": [
        "# List of temperatures in Celsius\n",
        "celsius_temperatures = [0, 10, 20, 30, 40, 50]\n",
        "\n",
        "# Function to convert Celsius to Fahrenheit\n",
        "def celsius_to_fahrenheit(celsius):\n",
        "    return (celsius * 9/5) + 32\n",
        "\n",
        "# Use map() to convert each temperature in the list\n",
        "fahrenheit_temperatures = list(map(celsius_to_fahrenheit, celsius_temperatures))\n",
        "\n",
        "# Print the result\n",
        "print(\"Celsius temperatures:\", celsius_temperatures)\n",
        "print(\"Fahrenheit temperatures:\", fahrenheit_temperatures)"
      ],
      "metadata": {
        "id": "gHYgoQwnKcFH"
      },
      "execution_count": null,
      "outputs": []
    },
    {
      "cell_type": "markdown",
      "source": [
        "10. Create a Python program that uses `filter()` to remove all the vowels from a given string."
      ],
      "metadata": {
        "id": "LEXcn5GYKjr-"
      }
    },
    {
      "cell_type": "code",
      "source": [
        "# Function to check if a character is a vowel\n",
        "def is_not_vowel(char):\n",
        "    vowels = \"aeiouAEIOU\"\n",
        "    return char not in vowels\n",
        "\n",
        "# Given string\n",
        "input_string = \"Hello World\"\n",
        "\n",
        "# Use filter() to remove vowels\n",
        "filtered_string = ''.join(filter(is_not_vowel, input_string))\n",
        "\n",
        "# Print the result\n",
        "print(\"Original string:\", input_string)\n",
        "print(\"String without vowels:\", filtered_string)"
      ],
      "metadata": {
        "id": "BOVqeNZpKpS8"
      },
      "execution_count": null,
      "outputs": []
    },
    {
      "cell_type": "markdown",
      "source": [
        "11."
      ],
      "metadata": {
        "id": "w909ozCCKqHL"
      }
    },
    {
      "cell_type": "code",
      "source": [
        "orders = [\n",
        "    [34587, \"Learning Python, Mark Lutz\", 4, 40.95],\n",
        "    [98762, \"Programming Python, Mark Lutz\", 5, 56.80],\n",
        "    [77226, \"Head First Python, Paul Barry\", 3, 32.95],\n",
        "    [88112, \"Einführung in Python3, Bern Klein\", 3, 24.99]\n",
        "]"
      ],
      "metadata": {
        "id": "HtquaP1mNEY_"
      },
      "execution_count": null,
      "outputs": []
    },
    {
      "cell_type": "code",
      "source": [
        "# List of orders: [order_number, book_title_and_author, quantity, price_per_item]\n",
        "orders = [\n",
        "    [34587, \"Learning Python, Mark Lutz\", 4, 40.95],\n",
        "    [98762, \"Programming Python, Mark Lutz\", 5, 56.80],\n",
        "    [77226, \"Head First Python, Paul Barry\", 3, 32.95],\n",
        "    [88112, \"Einführung in Python3, Bern Klein\", 3, 24.99]\n",
        "]\n",
        "\n",
        "# Define the lambda function to process each order\n",
        "process_order = lambda order: (\n",
        "    order[0],  # Order number\n",
        "    (order[2] * order[3]) + 10 if (order[2] * order[3]) < 100 else order[2] * order[3]\n",
        ")\n",
        "\n",
        "# Use map() to apply the lambda function to each order\n",
        "order_totals = list(map(process_order, orders))\n",
        "\n",
        "# Print the resulting list of 2-tuples\n",
        "print(order_totals)"
      ],
      "metadata": {
        "id": "U8noFWdANFNb"
      },
      "execution_count": null,
      "outputs": []
    }
  ]
}