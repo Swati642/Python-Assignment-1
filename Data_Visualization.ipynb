{
  "nbformat": 4,
  "nbformat_minor": 0,
  "metadata": {
    "colab": {
      "provenance": [],
      "authorship_tag": "ABX9TyMysAsGPymeE0aVlx9nFOfO",
      "include_colab_link": true
    },
    "kernelspec": {
      "name": "python3",
      "display_name": "Python 3"
    },
    "language_info": {
      "name": "python"
    }
  },
  "cells": [
    {
      "cell_type": "markdown",
      "metadata": {
        "id": "view-in-github",
        "colab_type": "text"
      },
      "source": [
        "<a href=\"https://colab.research.google.com/github/Swati642/Python-Assignment-1/blob/main/Data_Visualization.ipynb\" target=\"_parent\"><img src=\"https://colab.research.google.com/assets/colab-badge.svg\" alt=\"Open In Colab\"/></a>"
      ]
    },
    {
      "cell_type": "markdown",
      "source": [
        "Create a scatter plot using Matplotlib to visualize the relationship between two arrays, x and y for the given\n",
        "data.\n",
        "x = [1, 2, 3, 4, 5, 6, 7, 8, 9, 10]\n",
        "y = [2, 4, 5, 7, 6, 8, 9, 10, 12, 13]"
      ],
      "metadata": {
        "id": "j0NrNOrtIEUq"
      }
    },
    {
      "cell_type": "code",
      "source": [
        "import matplotlib.pyplot as plt\n",
        "\n",
        "# Given data\n",
        "x = [1, 2, 3, 4, 5, 6, 7, 8, 9, 10]\n",
        "y = [2, 4, 5, 7, 6, 8, 9, 10, 12, 13]\n",
        "\n",
        "# Create a scatter plot\n",
        "plt.scatter(x, y)\n",
        "\n",
        "# Add labels and title\n",
        "plt.xlabel('X values')\n",
        "plt.ylabel('Y values')\n",
        "plt.title('Scatter plot of X vs Y')\n",
        "\n",
        "# Display the plot\n",
        "plt.show()\n"
      ],
      "metadata": {
        "id": "8XMhOOQ2I2zm"
      },
      "execution_count": null,
      "outputs": []
    },
    {
      "cell_type": "markdown",
      "source": [
        "2.  Generate a line plot to visualize the trend of values for the given data.\n",
        "data = np.array([3, 7, 9, 15, 22, 29, 35])"
      ],
      "metadata": {
        "id": "hl2sP7sFI46A"
      }
    },
    {
      "cell_type": "code",
      "source": [
        "import matplotlib.pyplot as plt\n",
        "import numpy as np\n",
        "\n",
        "# Given data\n",
        "data = np.array([3, 7, 9, 15, 22, 29, 35])\n",
        "\n",
        "# Create a line plot\n",
        "plt.plot(data, marker='o', color='b')\n",
        "\n",
        "# Adding title and labels\n",
        "plt.title(\"Trend of Values\")\n",
        "plt.xlabel(\"Index\")\n",
        "plt.ylabel(\"Value\")\n",
        "\n",
        "# Show the plot\n",
        "plt.show()\n"
      ],
      "metadata": {
        "id": "906lZDfWJJDv"
      },
      "execution_count": null,
      "outputs": []
    },
    {
      "cell_type": "markdown",
      "source": [
        "3. Display a bar chart to represent the frequency of each item in the given array categories\n",
        "categories = ['A', 'B', 'C', 'D', 'E']\n",
        "values = [25, 40, 30, 35, 20]"
      ],
      "metadata": {
        "id": "1mBFz_RnJJsp"
      }
    },
    {
      "cell_type": "code",
      "source": [
        "import matplotlib.pyplot as plt\n",
        "\n",
        "# Given data\n",
        "categories = ['A', 'B', 'C', 'D', 'E']\n",
        "values = [25, 40, 30, 35, 20]\n",
        "\n",
        "# Create a bar chart\n",
        "plt.bar(categories, values, color='skyblue')\n",
        "\n",
        "# Adding title and labels\n",
        "plt.title(\"Frequency of Each Category\")\n",
        "plt.xlabel(\"Category\")\n",
        "plt.ylabel(\"Frequency\")\n",
        "\n",
        "# Show the plot\n",
        "plt.show()\n"
      ],
      "metadata": {
        "id": "sqIdRyJ-JPxs"
      },
      "execution_count": null,
      "outputs": []
    },
    {
      "cell_type": "markdown",
      "source": [
        "4. Create a histogram to visualize the distribution of values in the array data.\n",
        "data = np.random.normal(0, 1, 1000)"
      ],
      "metadata": {
        "id": "zGmdy9alJ1sI"
      }
    },
    {
      "cell_type": "code",
      "source": [
        "import matplotlib.pyplot as plt\n",
        "import numpy as np\n",
        "\n",
        "# Generate data from a normal distribution\n",
        "data = np.random.normal(0, 1, 1000)\n",
        "\n",
        "# Create a histogram\n",
        "plt.hist(data, bins=30, color='skyblue', edgecolor='black')\n",
        "\n",
        "# Adding title and labels\n",
        "plt.title(\"Histogram of Normally Distributed Data\")\n",
        "plt.xlabel(\"Value\")\n",
        "plt.ylabel(\"Frequency\")\n",
        "\n",
        "# Show the plot\n",
        "plt.show()\n"
      ],
      "metadata": {
        "id": "WJy544a_J3_2"
      },
      "execution_count": null,
      "outputs": []
    },
    {
      "cell_type": "markdown",
      "source": [
        "5. Show a pie chart to represent the percentage distribution of different sections in the array `sections`.\n",
        "sections = ['Section A', 'Section B', 'Section C', 'Section D']\n",
        "sizes = [25, 30, 15, 30]"
      ],
      "metadata": {
        "id": "eSu0QTsCKDyN"
      }
    },
    {
      "cell_type": "markdown",
      "source": [
        "import matplotlib.pyplot as plt\n",
        "\n",
        "# Data\n",
        "sections = ['Section A', 'Section B', 'Section C', 'Section D']\n",
        "sizes = [25, 30, 15, 30]\n",
        "\n",
        "# Create a pie chart\n",
        "plt.pie(sizes, labels=sections, autopct='%1.1f%%', colors=['lightblue', 'lightgreen', 'lightcoral', 'lightskyblue'])\n",
        "\n",
        "# Adding a title\n",
        "plt.title(\"Percentage Distribution of Sections\")\n",
        "\n",
        "# Show the plot\n",
        "plt.show()\n"
      ],
      "metadata": {
        "id": "EKdsOIGdKI1c"
      }
    },
    {
      "cell_type": "markdown",
      "source": [
        "1. Create a scatter plot to visualize the relationship between two variables, by generating a synthetic\n",
        "dataset."
      ],
      "metadata": {
        "id": "upHK_yIKKbAx"
      }
    },
    {
      "cell_type": "code",
      "source": [
        "import matplotlib.pyplot as plt\n",
        "import numpy as np\n",
        "\n",
        "# Generate synthetic dataset\n",
        "np.random.seed(42)\n",
        "x = np.random.rand(100)  # 100 random values for x-axis\n",
        "y = 2 * x + np.random.randn(100) * 0.1  # Linear relationship with some noise for y-axis\n",
        "\n",
        "# Create scatter plot\n",
        "plt.scatter(x, y, color='blue', alpha=0.7)\n",
        "\n",
        "# Adding titles and labels\n",
        "plt.title('Scatter Plot: Relationship between x and y')\n",
        "plt.xlabel('X Variable')\n",
        "plt.ylabel('Y Variable')\n",
        "\n",
        "# Show the plot\n",
        "plt.show()\n"
      ],
      "metadata": {
        "id": "8sEUFIxkKk5l"
      },
      "execution_count": null,
      "outputs": []
    },
    {
      "cell_type": "markdown",
      "source": [
        "2. Generate a dataset of random numbers. Visualize the distribution of a numerical variable."
      ],
      "metadata": {
        "id": "YvpB96SBKlZX"
      }
    },
    {
      "cell_type": "code",
      "source": [
        "import matplotlib.pyplot as plt\n",
        "import numpy as np\n",
        "\n",
        "# Generate a dataset of 1000 random numbers drawn from a normal distribution\n",
        "data = np.random.randn(1000)\n",
        "\n",
        "# Create a histogram to visualize the distribution\n",
        "plt.hist(data, bins=30, color='skyblue', edgecolor='black', alpha=0.7)\n",
        "\n",
        "# Adding titles and labels\n",
        "plt.title('Distribution of Random Numbers')\n",
        "plt.xlabel('Value')\n",
        "plt.ylabel('Frequency')\n",
        "\n",
        "# Show the plot\n",
        "plt.show()\n"
      ],
      "metadata": {
        "id": "pRgp2N2yKnXU"
      },
      "execution_count": null,
      "outputs": []
    },
    {
      "cell_type": "markdown",
      "source": [
        "3.  Create a dataset representing categories and their corresponding values. Compare different categories\n",
        "based on numerical values."
      ],
      "metadata": {
        "id": "zFLsRBGqKtac"
      }
    },
    {
      "cell_type": "code",
      "source": [
        "import matplotlib.pyplot as plt\n",
        "import numpy as np\n",
        "\n",
        "# Define categories and corresponding values\n",
        "categories = ['Category A', 'Category B', 'Category C', 'Category D', 'Category E']\n",
        "values = [25, 40, 30, 35, 20]\n",
        "\n",
        "# Create a bar chart to compare the categories based on their values\n",
        "plt.bar(categories, values, color='lightgreen')\n",
        "\n",
        "# Adding titles and labels\n",
        "plt.title('Comparison of Categories Based on Values')\n",
        "plt.xlabel('Categories')\n",
        "plt.ylabel('Values')\n",
        "\n",
        "# Show the plot\n",
        "plt.show()\n"
      ],
      "metadata": {
        "id": "dKkzx3qaK02l"
      },
      "execution_count": null,
      "outputs": []
    },
    {
      "cell_type": "markdown",
      "source": [
        "4.Generate a dataset with categories and numerical values. Visualize the distribution of a numerical\n",
        "variable across different categories."
      ],
      "metadata": {
        "id": "hZ-bUMcmK1kE"
      }
    },
    {
      "cell_type": "code",
      "source": [
        "import matplotlib.pyplot as plt\n",
        "import seaborn as sns\n",
        "import numpy as np\n",
        "import pandas as pd\n",
        "\n",
        "# Generate synthetic data\n",
        "np.random.seed(42)\n",
        "categories = ['Category A', 'Category B', 'Category C', 'Category D']\n",
        "values = {\n",
        "    'Category A': np.random.normal(10, 5, 100),\n",
        "    'Category B': np.random.normal(15, 7, 100),\n",
        "    'Category C': np.random.normal(20, 3, 100),\n",
        "    'Category D': np.random.normal(25, 4, 100)\n",
        "}\n",
        "\n",
        "# Convert to DataFrame\n",
        "data = []\n",
        "for category, val in values.items():\n",
        "    data.extend([[category, v] for v in val])\n",
        "df = pd.DataFrame(data, columns=['Category', 'Value'])\n",
        "\n",
        "# Create a box plot to visualize the distribution\n",
        "plt.figure(figsize=(8, 6))\n",
        "sns.boxplot(x='Category', y='Value', data=df, palette='Set2')\n",
        "\n",
        "# Add titles and labels\n",
        "plt.title('Distribution of Values Across Different Categories')\n",
        "plt.xlabel('Categories')\n",
        "plt.ylabel('Values')\n",
        "\n",
        "# Show the plot\n",
        "plt.show()\n"
      ],
      "metadata": {
        "id": "HWj1pVSEK9d3"
      },
      "execution_count": null,
      "outputs": []
    },
    {
      "cell_type": "markdown",
      "source": [
        "5. Generate a synthetic dataset with correlated features. Visualize the correlation matrix of a dataset using a\n",
        "heatmap."
      ],
      "metadata": {
        "id": "5rAG9cOFK-8u"
      }
    },
    {
      "cell_type": "code",
      "source": [
        "import numpy as np\n",
        "import pandas as pd\n",
        "import seaborn as sns\n",
        "import matplotlib.pyplot as plt\n",
        "\n",
        "# Generate synthetic data with correlated features\n",
        "np.random.seed(42)\n",
        "\n",
        "# Generate random data\n",
        "n_samples = 100\n",
        "feature_1 = np.random.normal(0, 1, n_samples)\n",
        "feature_2 = feature_1 * 0.8 + np.random.normal(0, 0.5, n_samples)  # Strong correlation with feature_1\n",
        "feature_3 = np.random.normal(0, 1, n_samples)\n",
        "\n",
        "# Create a DataFrame\n",
        "data = pd.DataFrame({\n",
        "    'Feature 1': feature_1,\n",
        "    'Feature 2': feature_2,\n",
        "    'Feature 3': feature_3\n",
        "})\n",
        "\n",
        "# Calculate the correlation matrix\n",
        "correlation_matrix = data.corr()\n",
        "\n",
        "# Visualize the correlation matrix with a heatmap\n",
        "plt.figure(figsize=(8, 6))\n",
        "sns.heatmap(correlation_matrix, annot=True, cmap='coolwarm', vmin=-1, vmax=1, fmt='.2f')\n",
        "\n",
        "# Add title and labels\n",
        "plt.title('Correlation Matrix of the Synthetic Dataset')\n",
        "plt.show()\n"
      ],
      "metadata": {
        "id": "6E68w9AALA_f"
      },
      "execution_count": null,
      "outputs": []
    },
    {
      "cell_type": "markdown",
      "source": [
        "1. Using the given dataset, to generate a 3D scatter plot to visualize the distribution of data points in a threedimensional space\n",
        "np.random.seed(30)\n",
        "data = {\n",
        "    'X': np.random.uniform(-10, 10, 300),\n",
        "    'Y': np.random.uniform(-10, 10, 300),\n",
        "    'Z': np.random.uniform(-10, 10, 300)\n",
        "}\n",
        "df = pd.DataFrame(data)"
      ],
      "metadata": {
        "id": "-COVQk1zLt-B"
      }
    },
    {
      "cell_type": "code",
      "source": [
        "import numpy as np\n",
        "import pandas as pd\n",
        "import matplotlib.pyplot as plt\n",
        "from mpl_toolkits.mplot3d import Axes3D\n",
        "\n",
        "np.random.seed(30)\n",
        "data = {\n",
        "    'X': np.random.uniform(-10, 10, 300),\n",
        "    'Y': np.random.uniform(-10, 10, 300),\n",
        "    'Z': np.random.uniform(-10, 10, 300)\n",
        "}\n",
        "df = pd.DataFrame(data)\n",
        "\n",
        "fig = plt.figure(figsize=(8,6))\n",
        "ax = fig.add_subplot(111, projection='3d')\n",
        "ax.scatter(df['X'], df['Y'], df['Z'], c='blue', marker='o')\n",
        "ax.set_xlabel('X')\n",
        "ax.set_ylabel('Y')\n",
        "ax.set_zlabel('Z')\n",
        "plt.title('3D Scatter Plot')\n",
        "plt.show()\n"
      ],
      "metadata": {
        "id": "N1Wv2sQHL8-E"
      },
      "execution_count": null,
      "outputs": []
    },
    {
      "cell_type": "markdown",
      "source": [
        "2. Using the Student Grades, create a violin plot to display the distribution of scores across different grade\n",
        "categories.\n",
        "np.random.seed(15)\n",
        "data = {\n",
        "    'Grade': np.random.choice(['A', 'B', 'C', 'D', 'F'], 200),\n",
        "    'Score': np.random.randint(50, 100, 200)\n",
        "}\n",
        "df = pd.DataFrame(data\n",
        " Using the sales data, generate a heatmap to visualize the variation in sales across\n",
        "different months and days.\n",
        "\n",
        "np.random.seed(20)\n",
        "data = {\n",
        "    'Month': np.random.choice(['Jan', 'Feb', 'Mar', 'Apr', 'May'], 100),\n",
        "    'Day': np.random.choice(range(1, 31), 100),\n",
        "    'Sales': np.random.randint(1000, 5000, 100)\n",
        "}\n",
        "df = pd.DataFrame(data)"
      ],
      "metadata": {
        "id": "IkR5jB6ML-Qu"
      }
    },
    {
      "cell_type": "code",
      "source": [
        "import seaborn as sns\n",
        "import matplotlib.pyplot as plt\n",
        "import numpy as np\n",
        "import pandas as pd\n",
        "\n",
        "np.random.seed(15)\n",
        "data = {\n",
        "    'Grade': np.random.choice(['A', 'B', 'C', 'D', 'F'], 200),\n",
        "    'Score': np.random.randint(50, 100, 200)\n",
        "}\n",
        "df = pd.DataFrame(data)\n",
        "\n",
        "sns.violinplot(x='Grade', y='Score', data=df)\n",
        "plt.title('Distribution of Scores by Grade')\n",
        "plt.show()\n"
      ],
      "metadata": {
        "id": "Wxeerg0YMGt_"
      },
      "execution_count": null,
      "outputs": []
    },
    {
      "cell_type": "code",
      "source": [
        "np.random.seed(20)\n",
        "data = {\n",
        "    'Month': np.random.choice(['Jan', 'Feb', 'Mar', 'Apr', 'May'], 100),\n",
        "    'Day': np.random.choice(range(1, 31), 100),\n",
        "    'Sales': np.random.randint(1000, 5000, 100)\n",
        "}\n",
        "df = pd.DataFrame(data)\n",
        "\n",
        "pivot = df.pivot_table(index='Day', columns='Month', values='Sales', aggfunc='mean')\n",
        "sns.heatmap(pivot, annot=True, fmt=\".0f\", cmap=\"YlGnBu\")\n",
        "plt.title('Sales Heatmap')\n",
        "plt.show()\n"
      ],
      "metadata": {
        "id": "8pat7bEbMA-V"
      },
      "execution_count": null,
      "outputs": []
    },
    {
      "cell_type": "markdown",
      "source": [
        "3.Using the sales data, generate a heatmap to visualize the variation in sales across different months and\n",
        "days.\n",
        "np.random.seed(20)\n",
        "data = {\n",
        "    'Month': np.random.choice(['Jan', 'Feb', 'Mar', 'Apr', 'May'], 100),\n",
        "    'Day': np.random.choice(range(1, 31), 100),\n",
        "    'Sales': np.random.randint(1000, 5000, 100)\n",
        "}\n",
        "df = pd.DataFrame(data)"
      ],
      "metadata": {
        "id": "QRUjbNAZMSWZ"
      }
    },
    {
      "cell_type": "code",
      "source": [
        "import numpy as np\n",
        "import pandas as pd\n",
        "import seaborn as sns\n",
        "import matplotlib.pyplot as plt\n",
        "\n",
        "np.random.seed(20)\n",
        "data = {\n",
        "    'Month': np.random.choice(['Jan', 'Feb', 'Mar', 'Apr', 'May'], 100),\n",
        "    'Day': np.random.choice(range(1, 31), 100),\n",
        "    'Sales': np.random.randint(1000, 5000, 100)\n",
        "}\n",
        "df = pd.DataFrame(data)\n",
        "\n",
        "# Create pivot table\n",
        "pivot = df.pivot_table(index='Day', columns='Month', values='Sales', aggfunc='mean')\n",
        "\n",
        "# Plot heatmap\n",
        "plt.figure(figsize=(10, 8))\n",
        "sns.heatmap(pivot, annot=True, fmt=\".0f\", cmap=\"YlOrRd\")\n",
        "plt.title(\"Sales Heatmap: Day vs Month\")\n",
        "plt.show()\n"
      ],
      "metadata": {
        "id": "eoJlmkFwMfMX"
      },
      "execution_count": null,
      "outputs": []
    },
    {
      "cell_type": "markdown",
      "source": [
        "4. Using the given x and y data, generate a 3D surface plot to visualize the function z= sin(underroot of (xsquare + y square))\n",
        "x = np.linspace(-5, 5, 100)\n",
        "y = np.linspace(-5, 5, 100)\n",
        "x, y = np.meshgrid(x, y)\n",
        "z = np.sin(np.sqrt(x**2 + y**2))\n",
        "data = {\n",
        "    'X': x.flatten(),\n",
        "    'Y': y.flatten(),\n",
        "    'Z': z.flatten()\n",
        "}\n",
        "df = pd.DataFrame(data)"
      ],
      "metadata": {
        "id": "PxoN401RMlYN"
      }
    },
    {
      "cell_type": "code",
      "source": [
        "import numpy as np\n",
        "import pandas as pd\n",
        "import matplotlib.pyplot as plt\n",
        "from mpl_toolkits.mplot3d import Axes3D\n",
        "\n",
        "# Generate data\n",
        "x = np.linspace(-5, 5, 100)\n",
        "y = np.linspace(-5, 5, 100)\n",
        "x, y = np.meshgrid(x, y)\n",
        "z = np.sin(np.sqrt(x**2 + y**2))\n",
        "\n",
        "# Create DataFrame\n",
        "data = {\n",
        "    'X': x.flatten(),\n",
        "    'Y': y.flatten(),\n",
        "    'Z': z.flatten()\n",
        "}\n",
        "df = pd.DataFrame(data)\n",
        "\n",
        "# Plot 3D surface\n",
        "fig = plt.figure(figsize=(10, 7))\n",
        "ax = fig.add_subplot(111, projection='3d')\n",
        "ax.plot_surface(x, y, z, cmap='viridis')\n",
        "ax.set_title(\"3D Surface Plot: z = sin(sqrt(x² + y²))\")\n",
        "ax.set_xlabel('X')\n",
        "ax.set_ylabel('Y')\n",
        "ax.set_zlabel('Z')\n",
        "plt.show()\n"
      ],
      "metadata": {
        "id": "8XcgDfhiNAMU"
      },
      "execution_count": null,
      "outputs": []
    },
    {
      "cell_type": "markdown",
      "source": [
        "5. Using the given dataset, create a bubble chart to represent each country's population (y-axis), GDP (xaxis), and bubble size proportional to the population\n",
        "np.random.seed(25)\n",
        "data = {\n",
        "    'Country': ['USA', 'Canada', 'UK',\n",
        "'Germany', 'France'],\n",
        "    'Population':\n",
        "np.random.randint(100, 1000, 5),\n",
        "    'GDP': np.random.randint(500, 2000,\n",
        "5)\n",
        "}\n",
        "df = pd.DataFrame(data)"
      ],
      "metadata": {
        "id": "TJGopBGcNA4F"
      }
    },
    {
      "cell_type": "code",
      "source": [
        "import numpy as np\n",
        "import pandas as pd\n",
        "import matplotlib.pyplot as plt\n",
        "\n",
        "# Data\n",
        "np.random.seed(25)\n",
        "data = {\n",
        "    'Country': ['USA', 'Canada', 'UK', 'Germany', 'France'],\n",
        "    'Population': np.random.randint(100, 1000, 5),\n",
        "    'GDP': np.random.randint(500, 2000, 5)\n",
        "}\n",
        "df = pd.DataFrame(data)\n",
        "\n",
        "# Bubble chart\n",
        "plt.figure(figsize=(10, 6))\n",
        "plt.scatter(df['GDP'], df['Population'], s=df['Population']*2, alpha=0.6, c='skyblue', edgecolors='black')\n",
        "\n",
        "# Labels\n",
        "for i in range(len(df)):\n",
        "    plt.text(df['GDP'][i]+10, df['Population'][i], df['Country'][i])\n",
        "\n",
        "plt.xlabel('GDP')\n",
        "plt.ylabel('Population')\n",
        "plt.title('Bubble Chart: Population vs GDP')\n",
        "plt.grid(True)\n",
        "plt.show()\n"
      ],
      "metadata": {
        "id": "FRSerQE9NEVu"
      },
      "execution_count": null,
      "outputs": []
    },
    {
      "cell_type": "markdown",
      "source": [
        "1..Create a Bokeh plot displaying a sine wave. Set x-values from 0 to 10 and y-values as the sine of x"
      ],
      "metadata": {
        "id": "z_dDhB7TNTZt"
      }
    },
    {
      "cell_type": "code",
      "source": [
        "from bokeh.plotting import figure, show, output_notebook\n",
        "import numpy as np\n",
        "\n",
        "# Prepare data\n",
        "x = np.linspace(0, 10, 100)\n",
        "y = np.sin(x)\n",
        "\n",
        "# Enable inline display\n",
        "output_notebook()\n",
        "\n",
        "# Create plot\n",
        "p = figure(title=\"Sine Wave\", x_axis_label='x', y_axis_label='sin(x)')\n",
        "p.line(x, y, legend_label=\"sin(x)\", line_width=2, color=\"blue\")\n",
        "\n",
        "# Show plot\n",
        "show(p)\n"
      ],
      "metadata": {
        "id": "fBGAOysINXmd"
      },
      "execution_count": null,
      "outputs": []
    },
    {
      "cell_type": "markdown",
      "source": [
        "2.Create a Bokeh scatter plot using randomly generated x and y values. Use different sizes and colors for the\n",
        "markers based on the 'sizes' and 'colors' columns."
      ],
      "metadata": {
        "id": "gL8MvroyNdl1"
      }
    },
    {
      "cell_type": "code",
      "source": [
        "from bokeh.plotting import figure, show, output_notebook\n",
        "from bokeh.palettes import Category10\n",
        "import pandas as pd\n",
        "import numpy as np\n",
        "\n",
        "# Enable inline display\n",
        "output_notebook()\n",
        "\n",
        "# Generate random data\n",
        "np.random.seed(42)\n",
        "x = np.random.rand(100) * 100\n",
        "y = np.random.rand(100) * 100\n",
        "sizes = np.random.randint(5, 20, 100)\n",
        "colors = np.random.choice(Category10[10], 100)\n",
        "\n",
        "# Create a DataFrame\n",
        "df = pd.DataFrame({'x': x, 'y': y, 'size': sizes, 'color': colors})\n",
        "\n",
        "# Create figure\n",
        "p = figure(title=\"Random Scatter Plot\", x_axis_label='x', y_axis_label='y')\n",
        "p.scatter('x', 'y', size='size', color='color', source=df, fill_alpha=0.6)\n",
        "\n",
        "# Show plot\n",
        "show(p)\n"
      ],
      "metadata": {
        "id": "3HgtRhFQNiDN"
      },
      "execution_count": null,
      "outputs": []
    },
    {
      "cell_type": "markdown",
      "source": [
        "3. Generate a Bokeh bar chart representing the counts of different fruits using the following dataset\n",
        "fruits = ['Apples', 'Oranges', 'Bananas', 'Pears']\n",
        "counts = [20, 25, 30, 35]"
      ],
      "metadata": {
        "id": "qR9Ceg2NNo3t"
      }
    },
    {
      "cell_type": "code",
      "source": [
        "from bokeh.plotting import figure, show, output_notebook\n",
        "from bokeh.models import ColumnDataSource\n",
        "\n",
        "output_notebook()\n",
        "\n",
        "# Data\n",
        "fruits = ['Apples', 'Oranges', 'Bananas', 'Pears']\n",
        "counts = [20, 25, 30, 35]\n",
        "\n",
        "source = ColumnDataSource(data=dict(fruits=fruits, counts=counts))\n",
        "\n",
        "# Plot\n",
        "p = figure(x_range=fruits, height=350, title=\"Fruit Counts\",\n",
        "           toolbar_location=None, tools=\"\")\n",
        "\n",
        "p.vbar(x='fruits', top='counts', width=0.6, source=source, color=\"coral\")\n",
        "\n",
        "p.xgrid.grid_line_color = None\n",
        "p.y_range.start = 0\n",
        "\n",
        "show(p)\n",
        "\n"
      ],
      "metadata": {
        "id": "uiJMxl_XNx1f"
      },
      "execution_count": null,
      "outputs": []
    },
    {
      "cell_type": "markdown",
      "source": [
        "4.Create a Bokeh histogram to visualize the distribution of the given data\n",
        "data_hist = np.random.randn(1000)\n",
        "hist, edges = np.histogram(data_hist, bins=30)"
      ],
      "metadata": {
        "id": "S4oH0xIrNymb"
      }
    },
    {
      "cell_type": "code",
      "source": [
        "from bokeh.plotting import figure, show\n",
        "from bokeh.io import output_file\n",
        "import numpy as np\n",
        "\n",
        "# Generate data\n",
        "data_hist = np.random.randn(1000)\n",
        "\n",
        "# Compute histogram\n",
        "hist, edges = np.histogram(data_hist, bins=30)\n",
        "\n",
        "# Create a Bokeh plot\n",
        "p = figure(title=\"Histogram of Random Data\",\n",
        "           x_axis_label='Value',\n",
        "           y_axis_label='Frequency',\n",
        "           tools=\"pan,box_zoom,reset\")\n",
        "\n",
        "# Plot the histogram as a quad glyph\n",
        "p.quad(top=hist, bottom=0, left=edges[:-1], right=edges[1:],\n",
        "       fill_color=\"skyblue\", line_color=\"white\", alpha=0.7)\n",
        "\n",
        "# Show the plot\n",
        "output_file(\"histogram.html\")\n",
        "show(p)\n"
      ],
      "metadata": {
        "id": "BLuv0cDBOEN_"
      },
      "execution_count": null,
      "outputs": []
    },
    {
      "cell_type": "markdown",
      "source": [
        "5. Create a Bokeh heatmap using the provided dataset.\n",
        "data_heatmap = np.random.rand(10, 10)\n",
        "x = np.linspace(0, 1, 10)\n",
        "y = np.linspace(0, 1, 10)\n",
        "xx, yy = np.meshgrid(x, y)"
      ],
      "metadata": {
        "id": "KZoqYS7POWrR"
      }
    },
    {
      "cell_type": "code",
      "source": [
        "from bokeh.plotting import figure, show\n",
        "from bokeh.io import output_file\n",
        "import numpy as np\n",
        "\n",
        "# Generate dataset\n",
        "data_heatmap = np.random.rand(10, 10)\n",
        "x = np.linspace(0, 1, 10)\n",
        "y = np.linspace(0, 1, 10)\n",
        "xx, yy = np.meshgrid(x, y)\n",
        "\n",
        "# Flatten the grid and the data\n",
        "x_vals = xx.flatten()\n",
        "y_vals = yy.flatten()\n",
        "z_vals = data_heatmap.flatten()\n",
        "\n",
        "# Create a Bokeh plot\n",
        "p = figure(title=\"Heatmap\",\n",
        "           x_axis_label='X',\n",
        "           y_axis_label='Y',\n",
        "           tools=\"pan,box_zoom,reset\")\n",
        "\n",
        "# Create the heatmap using a square marker\n",
        "p.square(x=x_vals, y=y_vals, size=15, color=z_vals,\n",
        "         color_mapper={'field': 'z', 'transform': 'linear'}, legend_field='z', alpha=0.7)\n",
        "\n",
        "# Show the plot\n",
        "output_file(\"heatmap.html\")\n",
        "show(p)\n"
      ],
      "metadata": {
        "id": "pyK4KIcqOcfF"
      },
      "execution_count": null,
      "outputs": []
    }
  ]
}