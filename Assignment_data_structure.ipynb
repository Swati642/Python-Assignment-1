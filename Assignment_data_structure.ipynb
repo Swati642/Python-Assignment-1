{
  "nbformat": 4,
  "nbformat_minor": 0,
  "metadata": {
    "colab": {
      "provenance": [],
      "authorship_tag": "ABX9TyNH4U1l3286TGd2AdfhUAY5",
      "include_colab_link": true
    },
    "kernelspec": {
      "name": "python3",
      "display_name": "Python 3"
    },
    "language_info": {
      "name": "python"
    }
  },
  "cells": [
    {
      "cell_type": "markdown",
      "metadata": {
        "id": "view-in-github",
        "colab_type": "text"
      },
      "source": [
        "<a href=\"https://colab.research.google.com/github/Swati642/Python-Assignment-1/blob/main/Assignment_data_structure.ipynb\" target=\"_parent\"><img src=\"https://colab.research.google.com/assets/colab-badge.svg\" alt=\"Open In Colab\"/></a>"
      ]
    },
    {
      "cell_type": "code",
      "execution_count": null,
      "metadata": {
        "id": "6n-I6S-iAR-E"
      },
      "outputs": [],
      "source": [
        "#Discuss string slicing and provide examples"
      ]
    },
    {
      "cell_type": "markdown",
      "source": [
        "String slicing is a way to get a part of a string by picking a starting point, an ending point, and sometimes a \"step\" to skip some characters."
      ],
      "metadata": {
        "id": "ICkGRUlEAcmB"
      }
    },
    {
      "cell_type": "code",
      "source": [
        "text = \"Hello, World!\"\n",
        "slice = text[0:5]\n",
        "print(slice)  # Output: \"Hello\""
      ],
      "metadata": {
        "id": "RosnnYoQA-M3"
      },
      "execution_count": null,
      "outputs": []
    },
    {
      "cell_type": "markdown",
      "source": [
        "#2. Explain the key features of lists in Python"
      ],
      "metadata": {
        "id": "3Om-UtcqBLDZ"
      }
    },
    {
      "cell_type": "markdown",
      "source": [
        "a. Ordered: Lists maintain the order of elements. You can access items using their index, and the order is preserved.\n",
        "\n",
        "b. Mutable: Lists can be changed after creation. You can modify, add, or remove elements.\n",
        "\n",
        "c. Heterogeneous: Lists can store elements of different data types, such as numbers, strings, and even other lists.\n",
        "\n",
        "d. Supports Negative Indexing: You can access elements from the end of the list using negative indices (-1 for the last item, -2 for the second-to-last, etc.).\n",
        "\n",
        "e. Dynamic Size: Lists can grow or shrink in size. You can add elements using append() or remove them with remove() and pop()."
      ],
      "metadata": {
        "id": "vlyLfvBuBSAA"
      }
    },
    {
      "cell_type": "markdown",
      "source": [
        "3. Describe how to access, modify, and delete elements in a list with examples."
      ],
      "metadata": {
        "id": "kd48nI-zB4VQ"
      }
    },
    {
      "cell_type": "markdown",
      "source": [
        "a.  Accessing Elements\n",
        "Use the index (starting from 0) to access elements."
      ],
      "metadata": {
        "id": "eQwRzSxsCTvA"
      }
    },
    {
      "cell_type": "code",
      "source": [
        "my_list = [10, 20, 30, 40]\n",
        "print(my_list[2])  # Output: 30 (third element)"
      ],
      "metadata": {
        "id": "Gdws3mNVCU-n"
      },
      "execution_count": null,
      "outputs": []
    },
    {
      "cell_type": "markdown",
      "source": [
        "b. Modifying Elements\n",
        "Assign a new value to an existing index to modify an element."
      ],
      "metadata": {
        "id": "nVZdHV8xCbrB"
      }
    },
    {
      "cell_type": "code",
      "source": [
        "my_list = [10, 20, 30]\n",
        "my_list[1] = 25  # Modify the second element\n",
        "print(my_list)   # Output: [10, 25, 30]"
      ],
      "metadata": {
        "id": "1NQO2xrsChHe"
      },
      "execution_count": null,
      "outputs": []
    },
    {
      "cell_type": "markdown",
      "source": [
        "c. Deleting Elements\n",
        "Use del, remove(), or pop() to delete elements.\n",
        "\n",
        "Using del: Deletes an element by index."
      ],
      "metadata": {
        "id": "fmW6UbS1Cq1w"
      }
    },
    {
      "cell_type": "code",
      "source": [
        "my_list = [10, 20, 30]\n",
        "del my_list[1]  # Delete second element\n",
        "print(my_list)  # Output: [10, 30]"
      ],
      "metadata": {
        "id": "9G9j5ZiNC6FY"
      },
      "execution_count": null,
      "outputs": []
    },
    {
      "cell_type": "markdown",
      "source": [
        "4.  Compare and contrast tuples and lists with examples."
      ],
      "metadata": {
        "id": "2-J11oULC-pA"
      }
    },
    {
      "cell_type": "markdown",
      "source": [
        "a. Mutability\n",
        "List: Mutable — You can modify, add, or remove elements.\n",
        "Tuple: Immutable — Once created, you cannot modify, add, or remove elements."
      ],
      "metadata": {
        "id": "ODKRJ7A4EhMH"
      }
    },
    {
      "cell_type": "code",
      "source": [
        "\n",
        "# List Example (Mutable)\n",
        "my_list = [1, 2, 3]\n",
        "my_list[0] = 10  # You can change elements\n",
        "print(my_list)  # Output: [10, 2, 3]\n",
        "\n",
        "# Tuple Example (Immutable)\n",
        "my_tuple = (1, 2, 3)\n",
        "# my_tuple[0] = 10  # This would raise an error because tuples are immutable"
      ],
      "metadata": {
        "id": "k58gfpjZEbd_"
      },
      "execution_count": null,
      "outputs": []
    },
    {
      "cell_type": "markdown",
      "source": [
        "b. Syntax\n",
        "List: Defined using square brackets [].\n",
        "Tuple: Defined using parentheses ()."
      ],
      "metadata": {
        "id": "Na98ZYk3EqB_"
      }
    },
    {
      "cell_type": "code",
      "source": [
        "# List\n",
        "my_list = [1, 2, 3]\n",
        "\n",
        "# Tuple\n",
        "my_tuple = (1, 2, 3)"
      ],
      "metadata": {
        "id": "e75sAcu6Et45"
      },
      "execution_count": null,
      "outputs": []
    },
    {
      "cell_type": "markdown",
      "source": [
        "5 Describe the key features of sets and provide examples of their use.\n"
      ],
      "metadata": {
        "id": "vxjX3mosE1hX"
      }
    },
    {
      "cell_type": "markdown",
      "source": [
        "A set is an unordered collection of unique elements. Sets are commonly used for storing data where duplicates are not allowed, and the order of the elements doesn't matter.\n",
        "\n",
        "a. Unordered\n",
        "Sets do not maintain the order of elements. When you iterate over a set, the order can appear random."
      ],
      "metadata": {
        "id": "XDhhpHHBFAF_"
      }
    },
    {
      "cell_type": "code",
      "source": [
        "my_set = {1, 2, 3}\n",
        "print(my_set)  # Output could be {1, 2, 3}, but the order is not guaranteed."
      ],
      "metadata": {
        "id": "myBSO_53FWVZ"
      },
      "execution_count": null,
      "outputs": []
    },
    {
      "cell_type": "markdown",
      "source": [
        "b. Unique Elements\n",
        "Sets automatically eliminate duplicate values. If you try to add a duplicate, it won’t be included"
      ],
      "metadata": {
        "id": "ru9q9ezPFXaD"
      }
    },
    {
      "cell_type": "code",
      "source": [
        "my_set = {1, 2, 3, 3, 2}\n",
        "print(my_set)  # Output: {1, 2, 3} (duplicates removed)"
      ],
      "metadata": {
        "id": "0KTOARanFcXH"
      },
      "execution_count": null,
      "outputs": []
    },
    {
      "cell_type": "markdown",
      "source": [
        "c. Mutable\n",
        "You can add or remove elements from a set after it's created."
      ],
      "metadata": {
        "id": "sAQRcmxXFfXH"
      }
    },
    {
      "cell_type": "code",
      "source": [
        "my_set = {1, 2, 3}\n",
        "my_set.add(4)      # Add an element\n",
        "my_set.remove(2)   # Remove an element\n",
        "print(my_set)      # Output: {1, 3, 4}"
      ],
      "metadata": {
        "id": "3xu_kmYBFk0Q"
      },
      "execution_count": null,
      "outputs": []
    },
    {
      "cell_type": "markdown",
      "source": [
        "d. Set Operations\n",
        "Sets support various mathematical operations like union, intersection, difference, and symmetric difference."
      ],
      "metadata": {
        "id": "6J-dVZsAFp9I"
      }
    },
    {
      "cell_type": "code",
      "source": [
        "set1 = {1, 2, 3}\n",
        "set2 = {3, 4, 5}\n",
        "\n",
        "# Union: Combine all elements from both sets\n",
        "union_set = set1 | set2  # or set1.union(set2)\n",
        "print(union_set)  # Output: {1, 2, 3, 4, 5}\n",
        "\n",
        "# Intersection: Common elements between both sets\n",
        "intersection_set = set1 & set2  # or set1.intersection(set2)\n",
        "print(intersection_set)  # Output: {3}\n",
        "\n",
        "# Difference: Elements in set1 but not in set2\n",
        "difference_set = set1 - set2  # or set1.difference(set2)\n",
        "print(difference_set)  # Output: {1, 2}"
      ],
      "metadata": {
        "id": "X0pmnxG8FyMC"
      },
      "execution_count": null,
      "outputs": []
    },
    {
      "cell_type": "markdown",
      "source": [
        "6. Discuss the use cases of tuples and sets in Python programming\n",
        "Tuples are ideal when you need:\n",
        "\n",
        "Immutability (data integrity).\n",
        "Efficient memory usage for large collections of data.\n",
        "To store fixed data, such as coordinates, configuration settings, or records.\n",
        "To use data as dictionary keys or return multiple values from functions.\n",
        "Sets are ideal when you need:\n",
        "\n",
        "Unique data without duplicates.\n",
        "To perform set operations (union, intersection, difference).\n",
        "Fast membership testing and data filtering.\n",
        "To handle large datasets efficiently.\n"
      ],
      "metadata": {
        "id": "GZpzZd3aF2TH"
      }
    },
    {
      "cell_type": "markdown",
      "source": [
        "7.  Describe how to add, modify, and delete items in a dictionary with examples"
      ],
      "metadata": {
        "id": "piaDG8npHpeq"
      }
    },
    {
      "cell_type": "markdown",
      "source": [
        "Adding Items to a Dictionary\n",
        "Method: To add a new key-value pair, you simply assign a value to a new key."
      ],
      "metadata": {
        "id": "XIrsHp1gHvFR"
      }
    },
    {
      "cell_type": "code",
      "source": [
        "my_dict = {'name': 'Alice', 'age': 25}\n",
        "\n",
        "# Adding a new key-value pair\n",
        "my_dict['city'] = 'New York'\n",
        "\n",
        "print(my_dict)\n",
        "# Output: {'name': 'Alice', 'age': 25, 'city': 'New York'}"
      ],
      "metadata": {
        "id": "dH_H25rlIDOi"
      },
      "execution_count": null,
      "outputs": []
    },
    {
      "cell_type": "markdown",
      "source": [
        "Modifying Items in a Dictionary\n",
        "Method: To modify an existing key's value, use the key and assign it a new value."
      ],
      "metadata": {
        "id": "f69zGHCmIGCI"
      }
    },
    {
      "cell_type": "code",
      "source": [
        "my_dict = {'name': 'Alice', 'age': 25}\n",
        "\n",
        "# Modifying the value of an existing key\n",
        "my_dict['age'] = 26\n",
        "\n",
        "print(my_dict)\n",
        "# Output: {'name': 'Alice', 'age': 26}"
      ],
      "metadata": {
        "id": "aGxhb2cBIKXx"
      },
      "execution_count": null,
      "outputs": []
    },
    {
      "cell_type": "markdown",
      "source": [
        "Deleting Items from a Dictionary\n",
        "There are multiple ways to delete items from a dictionary:\n",
        "\n",
        "a. Using del:\n",
        "Method: del removes an item by key.\n",
        "Example:"
      ],
      "metadata": {
        "id": "F3dd6Cd7INoq"
      }
    },
    {
      "cell_type": "code",
      "source": [
        "my_dict = {'name': 'Alice', 'age': 25, 'city': 'New York'}\n",
        "\n",
        "# Deleting a key-value pair\n",
        "del my_dict['city']\n",
        "\n",
        "print(my_dict)\n",
        "# Output: {'name': 'Alice', 'age': 25}"
      ],
      "metadata": {
        "id": "YYLEzoiuISvR"
      },
      "execution_count": null,
      "outputs": []
    },
    {
      "cell_type": "markdown",
      "source": [
        " Using pop():\n",
        "Method: pop() removes an item by key and returns the value of the removed item."
      ],
      "metadata": {
        "id": "kArdS200IVSo"
      }
    },
    {
      "cell_type": "code",
      "source": [
        "my_dict = {'name': 'Alice', 'age': 25, 'city': 'New York'}\n",
        "\n",
        "# Deleting an item and getting its value\n",
        "removed_value = my_dict.pop('age')\n",
        "\n",
        "print(my_dict)\n",
        "# Output: {'name': 'Alice', 'city': 'New York'}\n",
        "print(removed_value)\n",
        "# Output: 25"
      ],
      "metadata": {
        "id": "Y01EoWsiIZQY"
      },
      "execution_count": null,
      "outputs": []
    },
    {
      "cell_type": "markdown",
      "source": [
        "7. Discuss the importance of dictionary keys being immutable and provide examples"
      ],
      "metadata": {
        "id": "z0F3a2gsIjyf"
      }
    },
    {
      "cell_type": "markdown",
      "source": [
        "Dictionary keys in Python must be immutable (e.g., strings, numbers, tuples) because they are hashed for quick lookup. If keys were mutable (e.g., lists, dictionaries), their hash value could change during their use, leading to incorrect behavior and lookup errors. Immutable keys ensure consistency and allow Python to maintain an efficient hash table for fast retrieval."
      ],
      "metadata": {
        "id": "9xpIVGyOI3Kv"
      }
    },
    {
      "cell_type": "code",
      "source": [
        "# Valid: Tuple is immutable\n",
        "my_dict = {('x', 'y'): 'Point 1'}\n",
        "print(my_dict[('x', 'y')])  # Output: Point 1\n",
        "\n",
        "# Invalid: List is mutable, so it can't be a dictionary key\n",
        "my_dict = {[1, 2]: 'Invalid'}  # TypeError: unhashable type: 'list'"
      ],
      "metadata": {
        "id": "JkvC41_CI4K6"
      },
      "execution_count": null,
      "outputs": []
    },
    {
      "cell_type": "markdown",
      "source": [
        "In the first example, the tuple ('x', 'y') is immutable and can be used as a key, while in the second, the list [1, 2] is mutable, so it raises an error."
      ],
      "metadata": {
        "id": "AfZS2NYjI81n"
      }
    },
    {
      "cell_type": "markdown",
      "source": [],
      "metadata": {
        "id": "7xq7xoG2JBwp"
      }
    }
  ]
}