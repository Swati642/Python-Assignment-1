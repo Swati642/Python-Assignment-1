{
  "nbformat": 4,
  "nbformat_minor": 0,
  "metadata": {
    "colab": {
      "provenance": [],
      "toc_visible": true,
      "authorship_tag": "ABX9TyORIcfR1be37b1Bcs74Fd8E",
      "include_colab_link": true
    },
    "kernelspec": {
      "name": "python3",
      "display_name": "Python 3"
    },
    "language_info": {
      "name": "python"
    }
  },
  "cells": [
    {
      "cell_type": "markdown",
      "metadata": {
        "id": "view-in-github",
        "colab_type": "text"
      },
      "source": [
        "<a href=\"https://colab.research.google.com/github/Swati642/Python-Assignment-1/blob/main/Assignment_2_1_data_structure.ipynb\" target=\"_parent\"><img src=\"https://colab.research.google.com/assets/colab-badge.svg\" alt=\"Open In Colab\"/></a>"
      ]
    },
    {
      "cell_type": "markdown",
      "source": [
        "1. Write a code to reverse a string"
      ],
      "metadata": {
        "id": "NjeW0gl9py0-"
      }
    },
    {
      "cell_type": "code",
      "source": [
        "# Function to reverse a string\n",
        "def reverse_string(s):\n",
        "    return ''.join(reversed(s))\n",
        "\n",
        "# Example usage\n",
        "original_string = \"Python\"\n",
        "reversed_string = reverse_string(original_string)\n",
        "print(reversed_string)  # Output: nohtyP"
      ],
      "metadata": {
        "id": "Y3-kSc8up2yU"
      },
      "execution_count": null,
      "outputs": []
    },
    {
      "cell_type": "markdown",
      "source": [
        "2. Write a code to count the number of vowels in a string"
      ],
      "metadata": {
        "id": "ghuCIE-tqXSE"
      }
    },
    {
      "cell_type": "code",
      "source": [
        "# Example string\n",
        "input_string = \"Hello, World!\"\n",
        "\n",
        "# Count vowels using a generator expression\n",
        "vowel_count = sum(1 for char in input_string if char in 'aeiouAEIOU')\n",
        "\n",
        "# Output the result\n",
        "print(vowel_count)  # Output: 3"
      ],
      "metadata": {
        "id": "QcswG2ybqcLu"
      },
      "execution_count": null,
      "outputs": []
    },
    {
      "cell_type": "markdown",
      "source": [
        "3.  Write a code to check if a given string is a palindrome or not"
      ],
      "metadata": {
        "id": "dYyLPr7prB5s"
      }
    },
    {
      "cell_type": "code",
      "source": [
        "# Example string\n",
        "input_string = \"madam\"\n",
        "\n",
        "# Check if the string is equal to its reverse\n",
        "if input_string == input_string[::-1]:\n",
        "    print(\"The string is a palindrome.\")\n",
        "else:\n",
        "    print(\"The string is not a palindrome.\")"
      ],
      "metadata": {
        "id": "jnJartP_rIX8"
      },
      "execution_count": null,
      "outputs": []
    },
    {
      "cell_type": "markdown",
      "source": [
        "4.  Write a code to check if two given strings are anagrams of each other."
      ],
      "metadata": {
        "id": "YJKKw5zurQQ-"
      }
    },
    {
      "cell_type": "code",
      "source": [
        "# Example strings\n",
        "str1 = \"listen\"\n",
        "str2 = \"silent\"\n",
        "\n",
        "# Check if sorted versions of the strings are equal\n",
        "if sorted(str1) == sorted(str2):\n",
        "    print(\"The strings are anagrams.\")\n",
        "else:\n",
        "    print(\"The strings are not anagrams.\")"
      ],
      "metadata": {
        "id": "UxevsK4PrVls"
      },
      "execution_count": null,
      "outputs": []
    },
    {
      "cell_type": "markdown",
      "source": [
        "5. Write a code to find all occurrences of a given substring within another string."
      ],
      "metadata": {
        "id": "Mmk8Swu8raMm"
      }
    },
    {
      "cell_type": "code",
      "source": [
        "# Example strings\n",
        "main_string = \"The quick brown fox jumps over the lazy dog. The fox is quick.\"\n",
        "substring = \"fox\"\n",
        "\n",
        "# Find all occurrences using list comprehension\n",
        "indices = [i for i in range(len(main_string)) if main_string.startswith(substring, i)]\n",
        "\n",
        "# Output the result\n",
        "print(\"Occurrences found at indices:\", indices)"
      ],
      "metadata": {
        "id": "ysa_R8vfrfNu"
      },
      "execution_count": null,
      "outputs": []
    },
    {
      "cell_type": "markdown",
      "source": [
        "6. Write a code to perform basic string compression using the counts of repeated characters"
      ],
      "metadata": {
        "id": "SijaB0U5rwdf"
      }
    },
    {
      "cell_type": "code",
      "source": [
        "input_string = \"aaabbbcccdde\"\n",
        "compressed = []\n",
        "count = 1\n",
        "\n",
        "for i in range(1, len(input_string)):\n",
        "    if input_string[i] == input_string[i - 1]:\n",
        "        count += 1\n",
        "    else:\n",
        "        compressed.append(input_string[i - 1] + str(count))\n",
        "        count = 1\n",
        "compressed.append(input_string[-1] + str(count))\n",
        "\n",
        "compressed_string = ''.join(compressed)\n",
        "print(compressed_string if len(compressed_string) < len(input_string) else input_string)"
      ],
      "metadata": {
        "id": "5_A4wlmwr0M-"
      },
      "execution_count": null,
      "outputs": []
    },
    {
      "cell_type": "markdown",
      "source": [
        "7. Write a code to determine if a string has all unique characters\n"
      ],
      "metadata": {
        "id": "2r9SxBhvsHgM"
      }
    },
    {
      "cell_type": "code",
      "source": [
        "input_string = \"abcde\"\n",
        "\n",
        "if len(input_string) == len(set(input_string)):\n",
        "    print(\"The string has all unique characters.\")\n",
        "else:\n",
        "    print(\"The string does not have all unique characters.\")"
      ],
      "metadata": {
        "id": "rA4HTw5ksXRq"
      },
      "execution_count": null,
      "outputs": []
    },
    {
      "cell_type": "markdown",
      "source": [
        "8. Write a code to convert a given string to uppercase or lowercase"
      ],
      "metadata": {
        "id": "Cn6tTV--sfGc"
      }
    },
    {
      "cell_type": "code",
      "source": [
        "input_string = \"Hello, World!\"\n",
        "\n",
        "# Convert to uppercase\n",
        "uppercase_string = input_string.upper()\n",
        "print(uppercase_string)  # Output: \"HELLO, WORLD!\"\n",
        "\n",
        "# Convert to lowercase\n",
        "lowercase_string = input_string.lower()\n",
        "print(lowercase_string)  # Output: \"hello, world!\""
      ],
      "metadata": {
        "id": "dIqp7RO7snel"
      },
      "execution_count": null,
      "outputs": []
    },
    {
      "cell_type": "markdown",
      "source": [
        " Write a code to count the number of words in a string"
      ],
      "metadata": {
        "id": "HNtEo39ossWU"
      }
    },
    {
      "cell_type": "code",
      "source": [
        "input_string = \"This is a simple sentence.\"\n",
        "\n",
        "# Split the string into words and count them\n",
        "word_count = len(input_string.split())\n",
        "\n",
        "print(word_count)  # Output: 5"
      ],
      "metadata": {
        "id": "xVCJVrnrs1im"
      },
      "execution_count": null,
      "outputs": []
    },
    {
      "cell_type": "markdown",
      "source": [
        " Write a code to concatenate two strings without using the + operator"
      ],
      "metadata": {
        "id": "dAuqaaiRs5Hh"
      }
    },
    {
      "cell_type": "code",
      "source": [
        "str1 = \"Hello\"\n",
        "str2 = \"World\"\n",
        "\n",
        "# Using join() to concatenate strings\n",
        "result = ''.join([str1, str2])\n",
        "\n",
        "print(result)  # Output: \"HelloWorld\""
      ],
      "metadata": {
        "id": "zs-6cY0us9bo"
      },
      "execution_count": null,
      "outputs": []
    },
    {
      "cell_type": "markdown",
      "source": [
        " Write a code to remove all occurrences of a specific element from a list"
      ],
      "metadata": {
        "id": "VTAdnTYKtCxV"
      }
    },
    {
      "cell_type": "code",
      "source": [
        "my_list = [1, 2, 3, 4, 2, 5, 2]\n",
        "element_to_remove = 2\n",
        "\n",
        "# Using list comprehension to remove all occurrences of the element\n",
        "my_list = [x for x in my_list if x != element_to_remove]\n",
        "\n",
        "print(my_list)  # Output: [1, 3, 4, 5"
      ],
      "metadata": {
        "id": "Cjh5134atI93"
      },
      "execution_count": null,
      "outputs": []
    },
    {
      "cell_type": "markdown",
      "source": [
        " Implement a code to find the second largest number in a given list of integers"
      ],
      "metadata": {
        "id": "PfjGMHMBtV0n"
      }
    },
    {
      "cell_type": "code",
      "source": [
        "my_list = [10, 20, 4, 45, 99]\n",
        "\n",
        "# Remove duplicates by converting the list to a set and then sorting\n",
        "unique_numbers = sorted(set(my_list), reverse=True)\n",
        "\n",
        "# The second largest number is at index 1 after sorting in descending order\n",
        "second_largest = unique_numbers[1] if len(unique_numbers) > 1 else None\n",
        "\n",
        "print(second_largest)  # Output: 45\n"
      ],
      "metadata": {
        "id": "c5BtlNgmteq9"
      },
      "execution_count": null,
      "outputs": []
    },
    {
      "cell_type": "markdown",
      "source": [
        " Create a code to count the occurrences of each element in a list and return a dictionary with elements as\n",
        "keys and their counts as values"
      ],
      "metadata": {
        "id": "i9JJGNX_tfsY"
      }
    },
    {
      "cell_type": "code",
      "source": [
        "my_list = [1, 2, 2, 3, 4, 4, 4, 5]\n",
        "\n",
        "# Create an empty dictionary to store counts\n",
        "count_dict = {}\n",
        "\n",
        "# Loop through the list and count each element\n",
        "for item in my_list:\n",
        "    count_dict[item] = count_dict.get(item, 0) + 1\n",
        "\n",
        "print(count_dict)  # Output: {1: 1, 2: 2, 3: 1, 4: 3, 5: 1}"
      ],
      "metadata": {
        "id": "e9A5yN9GtmBQ"
      },
      "execution_count": null,
      "outputs": []
    },
    {
      "cell_type": "markdown",
      "source": [
        "Write a code to reverse a list in-place without using any built-in reverse functions"
      ],
      "metadata": {
        "id": "i0NwxW9ztz6-"
      }
    },
    {
      "cell_type": "code",
      "source": [
        "my_list = [1, 2, 3, 4, 5]\n",
        "\n",
        "# Use two-pointer technique to reverse the list in-place\n",
        "start, end = 0, len(my_list) - 1\n",
        "\n",
        "while start < end:\n",
        "    # Swap the elements at start and end positions\n",
        "    my_list[start], my_list[end] = my_list[end], my_list[start]\n",
        "\n",
        "    # Move the pointers towards the center\n",
        "    start += 1\n",
        "    end -= 1\n",
        "\n",
        "print(my_list)  # Output: [5, 4, 3, 2, 1]"
      ],
      "metadata": {
        "id": "ZphK7OJ3t_-c"
      },
      "execution_count": null,
      "outputs": []
    },
    {
      "cell_type": "markdown",
      "source": [
        "Implement a code to find and remove duplicates from a list while preserving the original order of\n",
        "elements"
      ],
      "metadata": {
        "id": "l9vLs6iNuEl2"
      }
    },
    {
      "cell_type": "code",
      "source": [
        "\n",
        "python\n",
        "Copy code\n",
        "my_list = [1, 2, 2, 3, 4, 4, 5]\n",
        "\n",
        "# Create an empty set to track seen elements\n",
        "seen = set()\n",
        "\n",
        "# Create an empty list to store unique elements\n",
        "unique_list = []\n",
        "\n",
        "# Loop through the original list and add only unique elements to the result\n",
        "for item in my_list:\n",
        "    if item not in seen:\n",
        "        unique_list.append(item)\n",
        "        seen.add(item)\n",
        "\n",
        "print(unique_list)  # Output: [1, 2, 3, 4, 5]"
      ],
      "metadata": {
        "id": "kO083naNuNDI"
      },
      "execution_count": null,
      "outputs": []
    },
    {
      "cell_type": "markdown",
      "source": [
        " Create a code to check if a given list is sorted (either in ascending or descending order) or not"
      ],
      "metadata": {
        "id": "2w7rq1eXuN_m"
      }
    },
    {
      "cell_type": "code",
      "source": [
        "my_list = [1, 2, 3, 4, 5]\n",
        "\n",
        "# Check if the list is sorted in ascending order\n",
        "if my_list == sorted(my_list):\n",
        "    print(\"The list is sorted in ascending order.\")\n",
        "# Check if the list is sorted in descending order\n",
        "elif my_list == sorted(my_list, reverse=True):\n",
        "    print(\"The list is sorted in descending order.\")\n",
        "else:\n",
        "    print(\"The list is not sorted.\")"
      ],
      "metadata": {
        "id": "32bv5Qohudmf"
      },
      "execution_count": null,
      "outputs": []
    },
    {
      "cell_type": "markdown",
      "source": [
        "Write a code to merge two sorted lists into a single sorted list"
      ],
      "metadata": {
        "id": "xNz_5qRyuead"
      }
    },
    {
      "cell_type": "code",
      "source": [
        "list1 = [1, 3, 5, 7]\n",
        "list2 = [2, 4, 6, 8]\n",
        "\n",
        "# Initialize pointers for both lists\n",
        "i, j = 0, 0\n",
        "merged_list = []\n",
        "\n",
        "# Merge the two lists in sorted order\n",
        "while i < len(list1) and j < len(list2):\n",
        "    if list1[i] < list2[j]:\n",
        "        merged_list.append(list1[i])\n",
        "        i += 1\n",
        "    else:\n",
        "        merged_list.append(list2[j])\n",
        "        j += 1\n",
        "\n",
        "# Add remaining elements from list1 if any\n",
        "while i < len(list1):\n",
        "    merged_list.append(list1[i])\n",
        "    i += 1\n",
        "\n",
        "# Add remaining elements from list2 if any\n",
        "while j < len(list2):\n",
        "    merged_list.append(list2[j])\n",
        "    j += 1\n",
        "\n",
        "print(merged_list)  # Output: [1, 2, 3, 4, 5, 6, 7, 8]"
      ],
      "metadata": {
        "id": "6GsInl44umGt"
      },
      "execution_count": null,
      "outputs": []
    },
    {
      "cell_type": "markdown",
      "source": [
        " Implement a code to find the intersection of two given lists"
      ],
      "metadata": {
        "id": "sIcJ0qmOunLt"
      }
    },
    {
      "cell_type": "code",
      "source": [
        "list1 = [1, 2, 3, 4, 5]\n",
        "list2 = [4, 5, 6, 7, 8]\n",
        "\n",
        "# Find the intersection using set intersection\n",
        "intersection = list(set(list1) & set(list2))\n",
        "\n",
        "print(intersection)  # Output: [4, 5]\n"
      ],
      "metadata": {
        "id": "6qHucCywuzc2"
      },
      "execution_count": null,
      "outputs": []
    },
    {
      "cell_type": "markdown",
      "source": [
        " Create a code to find the union of two lists without duplicates"
      ],
      "metadata": {
        "id": "1evYgLl6u0VP"
      }
    },
    {
      "cell_type": "code",
      "source": [
        "list1 = [1, 2, 3, 4, 5]\n",
        "list2 = [4, 5, 6, 7, 8]\n",
        "\n",
        "# Find the union by converting both lists to sets and merging them\n",
        "union = list(set(list1) | set(list2))\n",
        "\n",
        "print(union)  # Output: [1, 2, 3, 4, 5, 6, 7, 8]\n"
      ],
      "metadata": {
        "id": "UVEJN_Jdu5Jb"
      },
      "execution_count": null,
      "outputs": []
    },
    {
      "cell_type": "markdown",
      "source": [
        " Write a code to shuffle a given list randomly without using any built-in shuffle functions"
      ],
      "metadata": {
        "id": "1wxPTBhLvA4F"
      }
    },
    {
      "cell_type": "code",
      "source": [
        "import random\n",
        "\n",
        "my_list = [1, 2, 3, 4, 5]\n",
        "\n",
        "# Perform the shuffle by swapping elements randomly\n",
        "for i in range(len(my_list) - 1, 0, -1):\n",
        "    j = random.randint(0, i)  # Pick a random index from 0 to i\n",
        "    # Swap elements at index i and j\n",
        "    my_list[i], my_list[j] = my_list[j], my_list[i]\n",
        "\n",
        "print(my_list)"
      ],
      "metadata": {
        "id": "TFNNkRzqvI1R"
      },
      "execution_count": null,
      "outputs": []
    },
    {
      "cell_type": "markdown",
      "source": [
        "Write a code that takes two tuples as input and returns a new tuple containing elements that are\n",
        "common to both input tuples"
      ],
      "metadata": {
        "id": "hOR0OTirvOqH"
      }
    },
    {
      "cell_type": "code",
      "source": [
        "tuple1 = (1, 2, 3, 4, 5)\n",
        "tuple2 = (4, 5, 6, 7, 8)\n",
        "\n",
        "# Find the common elements using set intersection and convert it back to a tuple\n",
        "common_elements = tuple(set(tuple1) & set(tuple2))\n",
        "\n",
        "print(common_elements)  # Output: (4, 5)"
      ],
      "metadata": {
        "id": "kExwihJAvUSg"
      },
      "execution_count": null,
      "outputs": []
    },
    {
      "cell_type": "markdown",
      "source": [
        "Create a code that prompts the user to enter two sets of integers separated by commas. Then, print the\n",
        "intersection of these two sets"
      ],
      "metadata": {
        "id": "MNsR6cF9ve8g"
      }
    },
    {
      "cell_type": "code",
      "source": [
        "set1_input = input(\"Enter the first set of integers (separated by commas): \")\n",
        "set2_input = input(\"Enter the second set of integers (separated by commas): \")\n",
        "\n",
        "# Convert the input strings into sets of integers\n",
        "set1 = set(map(int, set1_input.split(',')))\n",
        "set2 = set(map(int, set2_input.split(',')))\n",
        "\n",
        "# Find the intersection of the two sets\n",
        "intersection = set1 & set2\n",
        "\n",
        "# Print the result\n",
        "print(\"The intersection of the two sets is:\", intersection)"
      ],
      "metadata": {
        "id": "WBAH_D_lvl6G"
      },
      "execution_count": null,
      "outputs": []
    },
    {
      "cell_type": "markdown",
      "source": [
        " Write a code to concatenate two tuples. The function should take two tuples as input and return a new\n",
        "tuple containing elements from both input tuples"
      ],
      "metadata": {
        "id": "fjZbC8eLvw7o"
      }
    },
    {
      "cell_type": "code",
      "source": [
        "tuple1 = (1, 2, 3)\n",
        "tuple2 = (4, 5, 6)\n",
        "\n",
        "# Concatenate the two tuples using the + operator\n",
        "result = tuple1 + tuple2\n",
        "\n",
        "print(result)  # Output: (1, 2, 3, 4, 5, 6)"
      ],
      "metadata": {
        "id": "wXqEQqO1v3Gg"
      },
      "execution_count": null,
      "outputs": []
    },
    {
      "cell_type": "markdown",
      "source": [
        " Develop a code that prompts the user to input two sets of strings. Then, print the elements that are\n",
        "present in the first set but not in the second set"
      ],
      "metadata": {
        "id": "dHqzPjUPwB42"
      }
    },
    {
      "cell_type": "code",
      "source": [
        "set1_input = input(\"Enter the first set of strings (separated by commas): \")\n",
        "set2_input = input(\"Enter the second set of strings (separated by commas): \")\n",
        "\n",
        "# Convert the input strings into sets of strings\n",
        "set1 = set(set1_input.split(','))\n",
        "set2 = set(set2_input.split(','))\n",
        "\n",
        "# Find the elements that are in set1 but not in set2\n",
        "difference = set1 - set2\n",
        "\n",
        "# Print the result\n",
        "print(\"The elements that are in the first set but not in the second set are:\", difference)"
      ],
      "metadata": {
        "id": "3Lf2roBMwJCV"
      },
      "execution_count": null,
      "outputs": []
    },
    {
      "cell_type": "markdown",
      "source": [
        "Create a code that takes a tuple and two integers as input. The function should return a new tuple\n",
        "containing elements from the original tuple within the specified range of indices&"
      ],
      "metadata": {
        "id": "NPAWbd13wWyI"
      }
    },
    {
      "cell_type": "code",
      "source": [
        "# Input the tuple and range of indices\n",
        "my_tuple = (1, 2, 3, 4, 5, 6, 7, 8, 9)\n",
        "start_index = int(input(\"Enter the start index: \"))\n",
        "end_index = int(input(\"Enter the end index: \"))\n",
        "\n",
        "# Extract the elements within the specified index range\n",
        "result_tuple = my_tuple[start_index:end_index]\n",
        "\n",
        "print(\"The new tuple with elements in the specified range is:\", result_tuple)"
      ],
      "metadata": {
        "id": "wz2B1E-owa5f"
      },
      "execution_count": null,
      "outputs": []
    },
    {
      "cell_type": "markdown",
      "source": [
        "& Write a code that prompts the user to input two sets of characters. Then, print the union of these two sets&\n"
      ],
      "metadata": {
        "id": "04eb7yLxwhTf"
      }
    },
    {
      "cell_type": "code",
      "source": [
        "set1_input = input(\"Enter the first set of characters (separated by commas): \")\n",
        "set2_input = input(\"Enter the second set of characters (separated by commas): \")\n",
        "\n",
        "# Convert the input strings into sets of characters\n",
        "set1 = set(set1_input.split(','))\n",
        "set2 = set(set2_input.split(','))\n",
        "\n",
        "# Find the union of the two sets\n",
        "union_set = set1 | set2\n",
        "\n",
        "# Print the result\n",
        "print(\"The union of the two sets is:\", union_set)"
      ],
      "metadata": {
        "id": "YVHRsnRpwl4i"
      },
      "execution_count": null,
      "outputs": []
    },
    {
      "cell_type": "markdown",
      "source": [
        " Develop a code that takes a tuple of integers as input. The function should return the maximum and\n",
        "minimum values from the tuple using tuple unpacking&"
      ],
      "metadata": {
        "id": "fvkq0Sj-wqiF"
      }
    },
    {
      "cell_type": "code",
      "source": [
        "my_tuple = tuple(map(int, input(\"Enter a tuple of integers (separated by commas): \").split(',')))\n",
        "\n",
        "# Find the maximum and minimum values using tuple unpacking\n",
        "max_value, min_value = max(my_tuple), min(my_tuple)\n",
        "\n",
        "# Print the result\n",
        "print(\"The maximum value is:\", max_value)\n",
        "print(\"The minimum value is:\", min_value)\n"
      ],
      "metadata": {
        "id": "vos3V9FHw20v"
      },
      "execution_count": null,
      "outputs": []
    },
    {
      "cell_type": "markdown",
      "source": [
        "Create a code that defines two sets of integers. Then, print the union, intersection, and difference of these\n",
        "two sets"
      ],
      "metadata": {
        "id": "vPo1ZhoVw-y-"
      }
    },
    {
      "cell_type": "code",
      "source": [
        "# Define two sets of integers\n",
        "set1 = {1, 2, 3, 4, 5}\n",
        "set2 = {4, 5, 6, 7, 8}\n",
        "\n",
        "# Find the union of the two sets\n",
        "union_set = set1 | set2\n",
        "\n",
        "# Find the intersection of the two sets\n",
        "intersection_set = set1 & set2\n",
        "\n",
        "# Find the difference of the two sets (elements in set1 but not in set2)\n",
        "difference_set = set1 - set2\n",
        "\n",
        "# Print the results\n",
        "print(\"Union of the two sets:\", union_set)\n",
        "print(\"Intersection of the two sets:\", intersection_set)\n",
        "print(\"Difference (set1 - set2):\", difference_set)"
      ],
      "metadata": {
        "id": "HexwFgX-xB7u"
      },
      "execution_count": null,
      "outputs": []
    },
    {
      "cell_type": "markdown",
      "source": [
        " Write a code that takes a tuple and an element as input. The function should return the count of\n",
        "occurrences of the given element in the tuple&"
      ],
      "metadata": {
        "id": "VmTdj4FSxJ3R"
      }
    },
    {
      "cell_type": "code",
      "source": [
        "# Input the tuple and element\n",
        "my_tuple = tuple(map(int, input(\"Enter a tuple of integers (separated by commas): \").split(',')))\n",
        "element = int(input(\"Enter the element to count: \"))\n",
        "\n",
        "# Count the occurrences of the element in the tuple\n",
        "count = my_tuple.count(element)\n",
        "\n",
        "# Print the result\n",
        "print(f\"The element {element} appears {count} time(s) in the tuple.\")"
      ],
      "metadata": {
        "id": "m-z-Mv-jxNeI"
      },
      "execution_count": null,
      "outputs": []
    },
    {
      "cell_type": "markdown",
      "source": [
        "Develop a code that prompts the user to input two sets of strings. Then, print the symmetric difference of\n",
        "these two sets"
      ],
      "metadata": {
        "id": "iqAL-qo0xSHB"
      }
    },
    {
      "cell_type": "code",
      "source": [
        "# Prompt the user to input two sets of strings\n",
        "set1_input = input(\"Enter the first set of strings (separated by commas): \")\n",
        "set2_input = input(\"Enter the second set of strings (separated by commas): \")\n",
        "\n",
        "# Convert the input strings into sets of strings\n",
        "set1 = set(set1_input.split(','))\n",
        "set2 = set(set2_input.split(','))\n",
        "\n",
        "# Find the symmetric difference of the two sets\n",
        "symmetric_difference = set1.symmetric_difference(set2)\n",
        "\n",
        "# Print the result\n",
        "print(\"The symmetric difference of the two sets is:\", symmetric_difference)"
      ],
      "metadata": {
        "id": "L-XiziLsxWFS"
      },
      "execution_count": null,
      "outputs": []
    },
    {
      "cell_type": "markdown",
      "source": [
        "Write a code that takes a list of words as input and returns a dictionary where the keys are unique words\n",
        "and the values are the frequencies of those words in the input list"
      ],
      "metadata": {
        "id": "V4CRLrp5xthj"
      }
    },
    {
      "cell_type": "code",
      "source": [
        "words_input = input(\"Enter a list of words (separated by spaces): \")\n",
        "\n",
        "# Split the input string into a list of words\n",
        "words_list = words_input.split()\n",
        "\n",
        "# Initialize an empty dictionary to store word frequencies\n",
        "word_frequency = {}\n",
        "\n",
        "# Iterate over the list of words and count occurrences\n",
        "for word in words_list:\n",
        "    if word in word_frequency:\n",
        "        word_frequency[word] += 1\n",
        "    else:\n",
        "        word_frequency[word] = 1\n",
        "\n",
        "# Print the result\n",
        "print(\"Word frequencies:\", word_frequency)"
      ],
      "metadata": {
        "id": "cIvGbkrnxyu4"
      },
      "execution_count": null,
      "outputs": []
    },
    {
      "cell_type": "markdown",
      "source": [
        "Write a code that takes two dictionaries as input and merges them into a single dictionary. If there are\n",
        "common keys, the values should be added together&"
      ],
      "metadata": {
        "id": "mruuZD4Ux8nJ"
      }
    },
    {
      "cell_type": "code",
      "source": [
        "dict1_input = input(\"Enter the first dictionary (e.g. key1:value1,key2:value2): \")\n",
        "dict2_input = input(\"Enter the second dictionary (e.g. key1:value1,key2:value2): \")\n",
        "\n",
        "# Convert the input strings to dictionaries\n",
        "dict1 = dict(item.split(\":\") for item in dict1_input.split(\",\"))\n",
        "dict2 = dict(item.split(\":\") for item in dict2_input.split(\",\"))\n",
        "\n",
        "# Convert the string values to integers\n",
        "dict1 = {key: int(value) for key, value in dict1.items()}\n",
        "dict2 = {key: int(value) for key, value in dict2.items()}\n",
        "\n",
        "# Merge the dictionaries, adding values for common keys\n",
        "merged_dict = dict1.copy()  # Start with the first dictionary\n",
        "\n",
        "for key, value in dict2.items():\n",
        "    if key in merged_dict:\n",
        "        merged_dict[key] += value  # Add the values for common keys\n",
        "    else:\n",
        "        merged_dict[key] = value  # Add the new key-value pair\n",
        "\n",
        "# Print the merged dictionary\n",
        "print(\"Merged dictionary:\", merged_dict)"
      ],
      "metadata": {
        "id": "IpdiLgvOx701"
      },
      "execution_count": null,
      "outputs": []
    },
    {
      "cell_type": "markdown",
      "source": [
        "Write a code to access a value in a nested dictionary. The function should take the dictionary and a list of\n",
        "keys as input, and return the corresponding value. If any of the keys do not exist in the dictionary, the\n",
        "function should return None"
      ],
      "metadata": {
        "id": "Uc0V1pxtyJGg"
      }
    },
    {
      "cell_type": "code",
      "source": [
        "nested_dict = {'a': {'b': {'c': 10}}}\n",
        "keys = ['a', 'b', 'c']\n",
        "\n",
        "# Access the value using the keys list\n",
        "value = nested_dict\n",
        "for key in keys:\n",
        "    value = value.get(key)\n",
        "    if value is None:\n",
        "        break\n",
        "\n",
        "print(value)  # Output: 10"
      ],
      "metadata": {
        "id": "pMgj4N_cyMVd"
      },
      "execution_count": null,
      "outputs": []
    },
    {
      "cell_type": "markdown",
      "source": [
        "Write a code that takes a dictionary as input and returns a sorted version of it based on the values. You\n",
        "can choose whether to sort in ascending or descending order"
      ],
      "metadata": {
        "id": "Soh7SeI5ye7S"
      }
    },
    {
      "cell_type": "code",
      "source": [
        "# Input the dictionary\n",
        "input_dict = {\n",
        "    'apple': 3,\n",
        "    'banana': 1,\n",
        "    'cherry': 2,\n",
        "    'date': 4\n",
        "}\n",
        "\n",
        "# Choose the sort order (True for ascending, False for descending)\n",
        "ascending = True\n",
        "\n",
        "# Sort the dictionary by values\n",
        "sorted_dict = dict(sorted(input_dict.items(), key=lambda item: item[1], reverse=not ascending))\n",
        "\n",
        "# Print the sorted dictionary\n",
        "print(\"Sorted dictionary:\", sorted_dict)"
      ],
      "metadata": {
        "id": "VGbg8LFYyiOO"
      },
      "execution_count": null,
      "outputs": []
    },
    {
      "cell_type": "markdown",
      "source": [
        "Write a code that inverts a dictionary, swapping keys and values. Ensure that the inverted dictionary\n",
        "correctly handles cases where multiple keys have the same value by storing the keys as a list in the\n",
        "inverted dictionary"
      ],
      "metadata": {
        "id": "uEMt12zmynXo"
      }
    },
    {
      "cell_type": "code",
      "source": [
        "# Original dictionary\n",
        "original_dict = {\n",
        "    'a': 1,\n",
        "    'b': 2,\n",
        "    'c': 1,\n",
        "    'd': 3,\n",
        "    'e': 2\n",
        "}\n",
        "\n",
        "# Invert the dictionary\n",
        "inverted_dict = {}\n",
        "\n",
        "for key, value in original_dict.items():\n",
        "    if value in inverted_dict:\n",
        "        inverted_dict[value].append(key)  # If value already exists, append the key\n",
        "    else:\n",
        "        inverted_dict[value] = [key]  # If value does not exist, create a new list with the key\n",
        "\n",
        "# Print the inverted dictionary\n",
        "print(\"Inverted dictionary:\", inverted_dict)"
      ],
      "metadata": {
        "id": "NaJzol0mypvI"
      },
      "execution_count": null,
      "outputs": []
    }
  ]
}