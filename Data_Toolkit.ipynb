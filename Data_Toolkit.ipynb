{
  "nbformat": 4,
  "nbformat_minor": 0,
  "metadata": {
    "colab": {
      "provenance": [],
      "authorship_tag": "ABX9TyP6Rg5SDTLRWklnFruiQrAk",
      "include_colab_link": true
    },
    "kernelspec": {
      "name": "python3",
      "display_name": "Python 3"
    },
    "language_info": {
      "name": "python"
    }
  },
  "cells": [
    {
      "cell_type": "markdown",
      "metadata": {
        "id": "view-in-github",
        "colab_type": "text"
      },
      "source": [
        "<a href=\"https://colab.research.google.com/github/Swati642/Python-Assignment-1/blob/main/Data_Toolkit.ipynb\" target=\"_parent\"><img src=\"https://colab.research.google.com/assets/colab-badge.svg\" alt=\"Open In Colab\"/></a>"
      ]
    },
    {
      "cell_type": "markdown",
      "source": [
        "2. Using the Numpy function, generate an array of 100 evenly spaced numbers between 1 and 10 and\n",
        "Reshape that 1D array into a 2D array"
      ],
      "metadata": {
        "id": "v16TPcpVQmBv"
      }
    },
    {
      "cell_type": "code",
      "source": [
        "import numpy as np\n",
        "\n",
        "# Generate 100 evenly spaced numbers between 1 and 10\n",
        "array_1d = np.linspace(1, 10, 100)\n",
        "\n",
        "# Reshape the 1D array into a 2D array (10 rows and 10 columns)\n",
        "array_2d = array_1d.reshape(10, 10)\n",
        "\n",
        "print(array_2d)\n"
      ],
      "metadata": {
        "id": "nGNtQfYcQqit"
      },
      "execution_count": null,
      "outputs": []
    },
    {
      "cell_type": "markdown",
      "source": [
        "3. Explain the following termsg\n",
        " The difference in np.array, np.asarray and np.asanyarrayX\n",
        "The difference between Deep copy and shallow copyX\n"
      ],
      "metadata": {
        "id": "Zh6hO3o1RBVE"
      }
    },
    {
      "cell_type": "markdown",
      "source": [
        ". Difference between np.array, np.asarray, and np.asanyarray\n",
        "np.array:\n",
        "This is the most commonly used function to create a NumPy array. It takes an input (such as a list, tuple, or another array) and converts it into a NumPy array. It always creates a new array, even if the input is already a NumPy array."
      ],
      "metadata": {
        "id": "QF73jNECRPae"
      }
    },
    {
      "cell_type": "code",
      "source": [
        "import numpy as np\n",
        "arr = np.array([1, 2, 3])\n",
        "print(arr)\n"
      ],
      "metadata": {
        "id": "h0FL9-TBRQDd"
      },
      "execution_count": null,
      "outputs": []
    },
    {
      "cell_type": "markdown",
      "source": [
        "4. Generate a 3x3 array with random floating-point numbers between 5 and 20. Then, round each number in\n",
        "the array to 2 decimal places."
      ],
      "metadata": {
        "id": "gINSoj8ERRZL"
      }
    },
    {
      "cell_type": "code",
      "source": [
        "[[17.83 14.70 13.35]\n",
        " [15.47 13.68 13.96]\n",
        " [ 7.53 11.90 19.39]]"
      ],
      "metadata": {
        "id": "_egomvm8-KK7"
      },
      "execution_count": null,
      "outputs": []
    },
    {
      "cell_type": "markdown",
      "source": [
        "5.  Create a NumPy array with random integers between 1 and 10 of shape (5, 6). After creating the array\n",
        "perform the following operations:\n",
        "\n",
        " a)Extract all even integers from array.\n",
        "\n",
        " b)Extract all odd integers from arrayX"
      ],
      "metadata": {
        "id": "t8tRjxtD-PHW"
      }
    },
    {
      "cell_type": "code",
      "source": [
        "import numpy as np\n",
        "\n",
        "# Create a NumPy array with random integers between 1 and 10, shape (5, 6)\n",
        "array = np.random.randint(1, 11, (5, 6))\n",
        "\n",
        "# Extract even and odd integers\n",
        "even_integers = array[array % 2 == 0]\n",
        "odd_integers = array[array % 2 != 0]\n",
        "\n",
        "# Print results\n",
        "print(\"Original Array:\\n\", array)\n",
        "print(\"\\nEven Integers:\\n\", even_integers)\n",
        "print(\"\\nOdd Integers:\\n\", odd_integers)\n"
      ],
      "metadata": {
        "id": "0DOsOJEp-QXl"
      },
      "execution_count": null,
      "outputs": []
    },
    {
      "cell_type": "markdown",
      "source": [
        "(6 Create a 3D NumPy array of shape (3, 3, 3) containing random integers between 1 and 10. Perform the\n",
        "following operations:\n",
        "\n",
        " a) Find the indices of the maximum values along each depth level (third axis).\n",
        "\n",
        " b) Perform element-wise multiplication of between both a"
      ],
      "metadata": {
        "id": "J60GbwVa-jTR"
      }
    },
    {
      "cell_type": "code",
      "source": [
        "import numpy as np\n",
        "\n",
        "# Create a 3D NumPy array of shape (3, 3, 3) with random integers between 1 and 10\n",
        "array_3d = np.random.randint(1, 11, (3, 3, 3))\n",
        "\n",
        "# a) Find the indices of the maximum values along the third axis (depth)\n",
        "max_indices = np.argmax(array_3d, axis=2)\n",
        "\n",
        "# b) Perform element-wise multiplication of the array with itself\n",
        "elementwise_multiplication = array_3d * array_3d\n",
        "\n",
        "# Print results\n",
        "print(\"Original 3D Array:\\n\", array_3d)\n",
        "print(\"\\nIndices of Maximum Values Along Depth Axis:\\n\", max_indices)\n",
        "print(\"\\nElement-wise Multiplication (Array * Array):\\n\", elementwise_multiplication)\n"
      ],
      "metadata": {
        "id": "62ChYBMA-mNi"
      },
      "execution_count": null,
      "outputs": []
    },
    {
      "cell_type": "markdown",
      "source": [
        "7. Clean and transform the 'Phone' column in the sample dataset to remove non-numeric characters and\n",
        "convert it to a numeric data type. Also display the table attributes and data types of each column"
      ],
      "metadata": {
        "id": "_LwZLSeM-x5j"
      }
    },
    {
      "cell_type": "code",
      "source": [
        "import pandas as pd\n",
        "\n",
        "# Sample dataset\n",
        "data = {'Name': ['Alice', 'Bob', 'Charlie'],\n",
        "        'Phone': ['(123) 456-7890', '987-654-3210', '+1 800 555 0199']}\n",
        "\n",
        "df = pd.DataFrame(data)\n",
        "\n",
        "# Clean and convert 'Phone' column\n",
        "df['Phone'] = df['Phone'].str.replace(r'\\D', '', regex=True).astype('int64')\n",
        "\n",
        "# Display DataFrame\n",
        "print(df)\n",
        "\n",
        "# Display attributes and data types\n",
        "print(\"\\nAttributes:\\n\", df.columns)\n",
        "print(\"\\nData types:\\n\", df.dtypes)\n"
      ],
      "metadata": {
        "id": "NOFadOGv-2Ni"
      },
      "execution_count": null,
      "outputs": []
    },
    {
      "cell_type": "markdown",
      "source": [
        "8. Perform the following tasks using people dataset:\n",
        "\n",
        " a) Read the 'data.csv' file using pandas, skipping the first 50 rows.\n",
        "\n",
        " b) Only read the columns: 'Last Name', ‘Gender’,’Email’,‘Phone’ and ‘Salary’ from the file.\n",
        "\n",
        " c) Display the first 10 rows of the filtered dataset.\n",
        "\n",
        " d) Extract the ‘Salary’' column as a Series and display its last 5 valuesX"
      ],
      "metadata": {
        "id": "Juy9_H8K_GA3"
      }
    },
    {
      "cell_type": "code",
      "source": [
        "import pandas as pd\n",
        "\n",
        "# a) Read the 'data.csv' file, skipping the first 50 rows\n",
        "# b) Only read specific columns\n",
        "cols = ['Last Name', 'Gender', 'Email', 'Phone', 'Salary']\n",
        "df = pd.read_csv('data.csv', skiprows=50, usecols=cols)\n",
        "\n",
        "# c) Display first 10 rows\n",
        "print(df.head(10))\n",
        "\n",
        "# d) Extract 'Salary' column and show last 5 values\n",
        "salary_series = df['Salary']\n",
        "print(\"\\nLast 5 Salary values:\\n\", salary_series.tail())\n"
      ],
      "metadata": {
        "id": "sCOf4b1Q_JXb"
      },
      "execution_count": null,
      "outputs": []
    },
    {
      "cell_type": "markdown",
      "source": [
        "9.  Filter and select rows from the People_Dataset, where the “Last Name' column contains the name 'Duke',\n",
        "'Gender' column contains the word Female and ‘Salary’ should be less than 85000"
      ],
      "metadata": {
        "id": "aPGrkIFo_0q7"
      }
    },
    {
      "cell_type": "code",
      "source": [
        "# Filter the dataset\n",
        "filtered_df = df[\n",
        "    (df['Last Name'].str.contains('Duke', case=False, na=False)) &\n",
        "    (df['Gender'].str.lower() == 'female') &\n",
        "    (df['Salary'] < 85000)\n",
        "]\n",
        "\n",
        "# Display the result\n",
        "print(filtered_df)\n"
      ],
      "metadata": {
        "id": "TuQ6ZTGh_1mR"
      },
      "execution_count": null,
      "outputs": []
    },
    {
      "cell_type": "markdown",
      "source": [
        "10. Create a 7*5 Dataframe in Pandas using a series generated from 35 random integers between 1 to 6?"
      ],
      "metadata": {
        "id": "ztQhXOiB_7ld"
      }
    },
    {
      "cell_type": "code",
      "source": [
        "import pandas as pd\n",
        "import numpy as np\n",
        "\n",
        "# Generate 35 random integers between 1 and 6\n",
        "random_integers = np.random.randint(1, 7, size=35)\n",
        "\n",
        "# Reshape the series into a 7x5 DataFrame\n",
        "df = pd.DataFrame(random_integers.reshape(7, 5))\n",
        "\n",
        "# Display the DataFrame\n",
        "print(df)\n"
      ],
      "metadata": {
        "id": "i0dU3L5a_-m5"
      },
      "execution_count": null,
      "outputs": []
    },
    {
      "cell_type": "markdown",
      "source": [
        "11. Create two different Series, each of length 50, with the following criteria:\n",
        "\n",
        "a) The first Series should contain random numbers ranging from 10 to 50.\n",
        "\n",
        "b) The second Series should contain random numbers ranging from 100 to 1000.\n",
        "\n",
        "c) Create a DataFrame by joining these Series by column, and, change the names of the columns to 'col1', 'col2',\n",
        "etc"
      ],
      "metadata": {
        "id": "RYoOm7ewACPk"
      }
    },
    {
      "cell_type": "code",
      "source": [
        "import pandas as pd\n",
        "import numpy as np\n",
        "\n",
        "# a) First Series: Random numbers between 10 and 50\n",
        "series1 = np.random.randint(10, 51, size=50)\n",
        "\n",
        "# b) Second Series: Random numbers between 100 and 1000\n",
        "series2 = np.random.randint(100, 1001, size=50)\n",
        "\n",
        "# c) Create a DataFrame by joining these Series\n",
        "df = pd.DataFrame({'col1': series1, 'col2': series2})\n",
        "\n",
        "# Display the DataFrame\n",
        "print(df)\n"
      ],
      "metadata": {
        "id": "1QC7WSOdAFir"
      },
      "execution_count": null,
      "outputs": []
    },
    {
      "cell_type": "markdown",
      "source": [
        "12. Perform the following operations using people data set:\n",
        "\n",
        "a) Delete the 'Email', 'Phone', and 'Date of birth' columns from the dataset.\n",
        "\n",
        "b) Delete the rows containing any missing values.\n",
        "\n",
        "d) Print the final output also&"
      ],
      "metadata": {
        "id": "QTuozK0oAJHC"
      }
    },
    {
      "cell_type": "code",
      "source": [
        "import pandas as pd\n",
        "\n",
        "# a) Delete the 'Email', 'Phone', and 'Date of birth' columns\n",
        "df = df.drop(columns=['Email', 'Phone', 'Date of birth'])\n",
        "\n",
        "# b) Delete rows containing any missing values\n",
        "df = df.dropna()\n",
        "\n",
        "# d) Print the final output\n",
        "print(df)\n"
      ],
      "metadata": {
        "id": "1VccwnNVAS-c"
      },
      "execution_count": null,
      "outputs": []
    },
    {
      "cell_type": "markdown",
      "source": [
        "13. Create two NumPy arrays, x and y, each containing 100 random float values between 0 and 1. Perform the\n",
        "following tasks using Matplotlib and NumPy:\n",
        "\n",
        "a) Create a scatter plot using x and y, setting the color of the points to red and the marker style to 'o'.\n",
        "\n",
        "b) Add a horizontal line at y = 0.5 using a dashed line style and label it as 'y = 0.5'.\n",
        "\n",
        "c) Add a vertical line at x = 0.5 using a dotted line style and label it as 'x = 0.5'.\n",
        "\n",
        "d) Label the x-axis as 'X-axis' and the y-axis as 'Y-axis'.\n",
        "\n",
        "e) Set the title of the plot as 'Advanced Scatter Plot of Random Values'.\n",
        "\n",
        "f) Display a legend for the scatter plot, the horizontal line, and the vertical line"
      ],
      "metadata": {
        "id": "Q6f2I_L1ATvn"
      }
    },
    {
      "cell_type": "code",
      "source": [
        "import numpy as np\n",
        "import matplotlib.pyplot as plt\n",
        "\n",
        "# Create two NumPy arrays with 100 random float values between 0 and 1\n",
        "x = np.random.rand(100)\n",
        "y = np.random.rand(100)\n",
        "\n",
        "# a) Create a scatter plot\n",
        "plt.scatter(x, y, color='red', marker='o', label='Scatter Points')\n",
        "\n",
        "# b) Add a horizontal line at y = 0.5\n",
        "plt.axhline(y=0.5, color='blue', linestyle='--', label='y = 0.5')\n",
        "\n",
        "# c) Add a vertical line at x = 0.5\n",
        "plt.axvline(x=0.5, color='green', linestyle=':', label='x = 0.5')\n",
        "\n",
        "# d) Label the axes\n",
        "plt.xlabel('X-axis')\n",
        "plt.ylabel('Y-axis')\n",
        "\n",
        "# e) Set the title of the plot\n",
        "plt.title('Advanced Scatter Plot of Random Values')\n",
        "\n",
        "# f) Display a legend\n",
        "plt.legend()\n",
        "\n",
        "# Show the plot\n",
        "plt.show()\n"
      ],
      "metadata": {
        "id": "nsIoEsJzAYaz"
      },
      "execution_count": null,
      "outputs": []
    },
    {
      "cell_type": "markdown",
      "source": [
        "14. Create a time-series dataset in a Pandas DataFrame with columns: 'Date', 'Temperature', 'Humidity' and\n",
        "Perform the following tasks using Matplotlib:\n",
        "a) Plot the 'Temperature' and 'Humidity' on the same plot with different y-axes (left y-axis for 'Temperature' and\n",
        "right y-axis for 'Humidity').\n",
        "\n",
        "b) Label the x-axis as 'Date'.\n",
        "\n",
        "c) Set the title of the plot as 'Temperature and Humidity Over Time'."
      ],
      "metadata": {
        "id": "x7wWaCurAXjs"
      }
    },
    {
      "cell_type": "code",
      "source": [
        "import pandas as pd\n",
        "import numpy as np\n",
        "import matplotlib.pyplot as plt\n",
        "\n",
        "# Create a time-series dataset\n",
        "dates = pd.date_range(start='2023-01-01', periods=10, freq='D')\n",
        "temperature = np.random.uniform(20, 35, size=10)  # Random temperature values between 20 and 35\n",
        "humidity = np.random.uniform(30, 90, size=10)  # Random humidity values between 30 and 90\n",
        "\n",
        "# Create DataFrame\n",
        "df = pd.DataFrame({'Date': dates, 'Temperature': temperature, 'Humidity': humidity})\n",
        "\n",
        "# a) Plot Temperature and Humidity with different y-axes\n",
        "fig, ax1 = plt.subplots()\n",
        "\n",
        "# Plot Temperature on the left y-axis\n",
        "ax1.plot(df['Date'], df['Temperature'], color='tab:red', label='Temperature')\n",
        "ax1.set_xlabel('Date')\n",
        "ax1.set_ylabel('Temperature (°C)', color='tab:red')\n",
        "ax1.tick_params(axis='y', labelcolor='tab:red')\n",
        "\n",
        "# Create a second y-axis for Humidity\n",
        "ax2 = ax1.twinx()\n",
        "ax2.plot(df['Date'], df['Humidity'], color='tab:blue', label='Humidity')\n",
        "ax2.set_ylabel('Humidity (%)', color='tab:blue')\n",
        "ax2.tick_params(axis='y', labelcolor='tab:blue')\n",
        "\n",
        "# b) Label the x-axis as 'Date'\n",
        "ax1.set_xlabel('Date')\n",
        "\n",
        "# c) Set the title of the plot\n",
        "plt.title('Temperature and Humidity Over Time')\n",
        "\n",
        "# Display the plot\n",
        "plt.show()\n"
      ],
      "metadata": {
        "id": "85cJBM6TAo5x"
      },
      "execution_count": null,
      "outputs": []
    },
    {
      "cell_type": "markdown",
      "source": [
        "15.  Create a NumPy array data containing 1000 samples from a normal distribution. Perform the following\n",
        "tasks using Matplotlib:\n",
        "a) Plot a histogram of the data with 30 bins.\n",
        "\n",
        "b) Overlay a line plot representing the normal distribution's probability density function (PDF).\n",
        "\n",
        "c) Label the x-axis as 'Value' and the y-axis as 'Frequency/Probability'.\n",
        "\n",
        "d) Set the title of the plot as 'Histogram with PDF Overlay"
      ],
      "metadata": {
        "id": "4WPWrQHjAqZ0"
      }
    },
    {
      "cell_type": "code",
      "source": [
        "import numpy as np\n",
        "import matplotlib.pyplot as plt\n",
        "from scipy.stats import norm\n",
        "\n",
        "# Create a NumPy array of 1000 samples from a normal distribution (mean=0, std=1)\n",
        "data = np.random.normal(loc=0, scale=1, size=1000)\n",
        "\n",
        "# a) Plot a histogram with 30 bins\n",
        "plt.hist(data, bins=30, density=True, alpha=0.6, color='g', label='Histogram')\n",
        "\n",
        "# b) Overlay the line plot representing the normal distribution's PDF\n",
        "xmin, xmax = plt.xlim()\n",
        "x = np.linspace(xmin, xmax, 100)\n",
        "pdf = norm.pdf(x, np.mean(data), np.std(data))\n",
        "plt.plot(x, pdf, 'k', linewidth=2, label='Normal Distribution PDF')\n",
        "\n",
        "# c) Label the axes\n",
        "plt.xlabel('Value')\n",
        "plt.ylabel('Frequency/Probability')\n",
        "\n",
        "# d) Set the title\n",
        "plt.title('Histogram with PDF Overlay')\n",
        "\n",
        "# Display the legend\n",
        "plt.legend()\n",
        "\n",
        "# Show the plot\n",
        "plt.show()\n"
      ],
      "metadata": {
        "id": "y2-NP9ShAveZ"
      },
      "execution_count": null,
      "outputs": []
    },
    {
      "cell_type": "markdown",
      "source": [
        "16.  Set the title of the plot as 'Histogram with PDF Overlay'"
      ],
      "metadata": {
        "id": "69uEoFRjA452"
      }
    },
    {
      "cell_type": "code",
      "source": [
        "import numpy as np\n",
        "import matplotlib.pyplot as plt\n",
        "from scipy.stats import norm\n",
        "\n",
        "# Create a NumPy array of 1000 samples from a normal distribution (mean=0, std=1)\n",
        "data = np.random.normal(loc=0, scale=1, size=1000)\n",
        "\n",
        "# a) Plot a histogram with 30 bins\n",
        "plt.hist(data, bins=30, density=True, alpha=0.6, color='g', label='Histogram')\n",
        "\n",
        "# b) Overlay the line plot representing the normal distribution's PDF\n",
        "xmin, xmax = plt.xlim()\n",
        "x = np.linspace(xmin, xmax, 100)\n",
        "pdf = norm.pdf(x, np.mean(data), np.std(data))\n",
        "plt.plot(x, pdf, 'k', linewidth=2, label='Normal Distribution PDF')\n",
        "\n",
        "# c) Label the axes\n",
        "plt.xlabel('Value')\n",
        "plt.ylabel('Frequency/Probability')\n",
        "\n",
        "# d) Set the title\n",
        "plt.title('Histogram with PDF Overlay')  # Title set here\n",
        "\n",
        "# Display the legend\n",
        "plt.legend()\n",
        "\n",
        "# Show the plot\n",
        "plt.show()\n"
      ],
      "metadata": {
        "id": "X1pLtrAeA535"
      },
      "execution_count": null,
      "outputs": []
    },
    {
      "cell_type": "markdown",
      "source": [
        "17. Create a Seaborn scatter plot of two random arrays, color points based on their position relative to the\n",
        "origin (quadrants), add a legend, label the axes, and set the title as 'Quadrant-wise Scatter Plot'."
      ],
      "metadata": {
        "id": "XCep7EjWA9CM"
      }
    },
    {
      "cell_type": "code",
      "source": [
        "import seaborn as sns\n",
        "import numpy as np\n",
        "import matplotlib.pyplot as plt\n",
        "import pandas as pd\n",
        "\n",
        "# Generate two random arrays\n",
        "x = np.random.randn(100)  # Random values for x\n",
        "y = np.random.randn(100)  # Random values for y\n",
        "\n",
        "# Create a DataFrame for easier handling\n",
        "df = pd.DataFrame({'x': x, 'y': y})\n",
        "\n",
        "# Assign colors based on the quadrant\n",
        "df['quadrant'] = np.select(\n",
        "    [\n",
        "        (df['x'] > 0) & (df['y'] > 0),  # Quadrant I\n",
        "        (df['x'] < 0) & (df['y'] > 0),  # Quadrant II\n",
        "        (df['x'] < 0) & (df['y'] < 0),  # Quadrant III\n",
        "        (df['x'] > 0) & (df['y'] < 0)   # Quadrant IV\n",
        "    ],\n",
        "    ['Quadrant I', 'Quadrant II', 'Quadrant III', 'Quadrant IV'],\n",
        "    default='Origin'\n",
        ")\n",
        "\n",
        "# Create a Seaborn scatter plot\n",
        "plt.figure(figsize=(8, 6))\n",
        "sns.scatterplot(data=df, x='x', y='y', hue='quadrant', palette='coolwarm', s=100)\n",
        "\n",
        "# Add labels and title\n",
        "plt.xlabel('X-axis')\n",
        "plt.ylabel('Y-axis')\n",
        "plt.title('Quadrant-wise Scatter Plot')\n",
        "\n",
        "# Display the legend\n",
        "plt.legend(title='Quadrants')\n",
        "\n",
        "# Show the plot\n",
        "plt.show()\n"
      ],
      "metadata": {
        "id": "u9IRgcuaBDEq"
      },
      "execution_count": null,
      "outputs": []
    },
    {
      "cell_type": "markdown",
      "source": [
        "18. With Bokeh, plot a line chart of a sine wave function, add grid lines, label the axes, and set the title as 'Sine\n",
        "Wave Function'"
      ],
      "metadata": {
        "id": "eaW7aQkEBEFT"
      }
    },
    {
      "cell_type": "code",
      "source": [
        "from bokeh.plotting import figure, show\n",
        "import numpy as np\n",
        "\n",
        "# Generate data for the sine wave\n",
        "x = np.linspace(0, 4 * np.pi, 100)\n",
        "y = np.sin(x)\n",
        "\n",
        "# Create a figure\n",
        "p = figure(title=\"Sine Wave Function\", x_axis_label='X', y_axis_label='Y', width=800, height=400)\n",
        "\n",
        "# Plot the sine wave\n",
        "p.line(x, y, legend_label=\"Sine Wave\", line_width=2, color=\"blue\")\n",
        "\n",
        "# Add grid lines\n",
        "p.grid.grid_line_color = \"gray\"\n",
        "p.grid.grid_line_alpha = 0.3\n",
        "\n",
        "# Show the plot\n",
        "show(p)\n"
      ],
      "metadata": {
        "id": "Z6sB7KygBIqs"
      },
      "execution_count": null,
      "outputs": []
    },
    {
      "cell_type": "markdown",
      "source": [
        "19. Using Bokeh, generate a bar chart of randomly generated categorical data, color bars based on their\n",
        "values, add hover tooltips to display exact values, label the axes, and set the title as 'Random Categorical\n",
        "Bar Chart'8"
      ],
      "metadata": {
        "id": "BuKoZsrMBLux"
      }
    },
    {
      "cell_type": "code",
      "source": [
        "from bokeh.plotting import figure, show\n",
        "from bokeh.io import output_notebook\n",
        "from bokeh.models import ColumnDataSource, HoverTool\n",
        "import numpy as np\n",
        "import pandas as pd\n",
        "\n",
        "# Generate random categorical data\n",
        "categories = ['Category A', 'Category B', 'Category C', 'Category D', 'Category E']\n",
        "values = np.random.randint(1, 20, size=5)\n",
        "\n",
        "# Create a DataFrame for better handling\n",
        "df = pd.DataFrame({'Category': categories, 'Value': values})\n",
        "\n",
        "# Create ColumnDataSource\n",
        "source = ColumnDataSource(df)\n",
        "\n",
        "# Create a figure\n",
        "p = figure(x_range=df['Category'], title=\"Random Categorical Bar Chart\", toolbar_location=None, tools=\"\")\n",
        "\n",
        "# Plot the bars with colors based on their values\n",
        "p.vbar(x='Category', top='Value', width=0.8, source=source, color='blue', legend_field='Category')\n",
        "\n",
        "# Add hover tooltips\n",
        "hover = HoverTool()\n",
        "hover.tooltips = [(\"Category\", \"@Category\"), (\"Value\", \"@Value\")]\n",
        "p.add_tools(hover)\n",
        "\n",
        "# Label the axes\n",
        "p.xaxis.axis_label = \"Category\"\n",
        "p.yaxis.axis_label = \"Value\"\n",
        "\n",
        "# Set grid lines and title\n",
        "p.grid.grid_line_color = \"gray\"\n",
        "p.grid.grid_line_alpha = 0.3\n",
        "\n",
        "# Show the plot\n",
        "show(p)\n"
      ],
      "metadata": {
        "id": "RgpS8l5HBPf5"
      },
      "execution_count": null,
      "outputs": []
    },
    {
      "cell_type": "markdown",
      "source": [
        "20.Using Plotly, create a basic line plot of a randomly generated dataset, label the axes, and set the title as\n",
        "'Simple Line Plot'"
      ],
      "metadata": {
        "id": "sdhoLgBiBS9U"
      }
    },
    {
      "cell_type": "code",
      "source": [
        "import plotly.graph_objects as go\n",
        "import numpy as np\n",
        "\n",
        "# Generate a random dataset\n",
        "x = np.linspace(0, 10, 100)\n",
        "y = np.random.random(100) * 10  # Random values for y\n",
        "\n",
        "# Create a figure\n",
        "fig = go.Figure()\n",
        "\n",
        "# Add a line plot\n",
        "fig.add_trace(go.Scatter(x=x, y=y, mode='lines', name='Random Data'))\n",
        "\n",
        "# Set the title and labels\n",
        "fig.update_layout(\n",
        "    title=\"Simple Line Plot\",\n",
        "    xaxis_title=\"X-axis\",\n",
        "    yaxis_title=\"Y-axis\"\n",
        ")\n",
        "\n",
        "# Show the plot\n",
        "fig.show()\n"
      ],
      "metadata": {
        "id": "wvaTmrdmBYxK"
      },
      "execution_count": null,
      "outputs": []
    },
    {
      "cell_type": "markdown",
      "source": [
        "21. Using Plotly, create an interactive pie chart of randomly generated data, add labels and percentages, set\n",
        "the title as 'Interactive Pie Chart'."
      ],
      "metadata": {
        "id": "BouZWVf9BcfC"
      }
    },
    {
      "cell_type": "code",
      "source": [
        "import plotly.graph_objects as go\n",
        "import numpy as np\n",
        "\n",
        "# Generate random data\n",
        "labels = ['Category A', 'Category B', 'Category C', 'Category D', 'Category E']\n",
        "values = np.random.randint(1, 20, size=5)\n",
        "\n",
        "# Create a figure for the pie chart\n",
        "fig = go.Figure(data=[go.Pie(labels=labels, values=values, hoverinfo='label+percent', textinfo='label+percent')])\n",
        "\n",
        "# Set the title\n",
        "fig.update_layout(\n",
        "    title=\"Interactive Pie Chart\"\n",
        ")\n",
        "\n",
        "# Show the plot\n",
        "fig.show()\n"
      ],
      "metadata": {
        "id": "NueIspYiBgLb"
      },
      "execution_count": null,
      "outputs": []
    }
  ]
}