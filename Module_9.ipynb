{
  "nbformat": 4,
  "nbformat_minor": 0,
  "metadata": {
    "colab": {
      "provenance": [],
      "authorship_tag": "ABX9TyO8C3BtIVfJBxINolnanJL2",
      "include_colab_link": true
    },
    "kernelspec": {
      "name": "python3",
      "display_name": "Python 3"
    },
    "language_info": {
      "name": "python"
    }
  },
  "cells": [
    {
      "cell_type": "markdown",
      "metadata": {
        "id": "view-in-github",
        "colab_type": "text"
      },
      "source": [
        "<a href=\"https://colab.research.google.com/github/Swati642/Python-Assignment-1/blob/main/Module_9.ipynb\" target=\"_parent\"><img src=\"https://colab.research.google.com/assets/colab-badge.svg\" alt=\"Open In Colab\"/></a>"
      ]
    },
    {
      "cell_type": "markdown",
      "source": [
        "1.  Discuss the scenarios where multithreading is preferable to multiprocessing and scenarios where\n",
        "multiprocessing is a better choice."
      ],
      "metadata": {
        "id": "WAK_EfomPUeZ"
      }
    },
    {
      "cell_type": "markdown",
      "source": [
        "Scenarios where multithreading is preferable:\n",
        "I/O-bound tasks:\n",
        "\n",
        "Example: Web scraping, downloading files from the internet, or handling multiple file read/write operations.\n",
        "Reason: Multithreading is well-suited for I/O-bound tasks because threads can run while waiting for I/O operations to complete (e.g., waiting for network responses or disk access), allowing other threads to proceed with their tasks.\n",
        "Concurrent operations with shared resources:\n",
        "\n",
        "Example: Implementing a server that needs to handle many simultaneous client requests (e.g., a web server).\n",
        "Reason: Threads share the same memory space, which makes it easier to share resources like variables or data structures without needing complex inter-process communication mechanisms.\n",
        "Lightweight task switching:\n",
        "\n",
        "Example: GUI applications (like desktop apps) where you want to keep the interface responsive while running background tasks.\n",
        "Reason: Threads are lightweight compared to processes, so they can efficiently manage many tasks with less overhead. You can perform background tasks (like updating the UI or polling a database) without blocking the main thread.\n",
        "Real-time systems or applications that require low-latency responses:\n",
        "\n",
        "Example: Real-time monitoring or event-driven systems.\n",
        "Reason: Since threads are lighter than processes, they can be spun up and shut down more quickly, making them suitable for systems that require fast, concurrent operations.\n",
        "\n",
        "Scenarios where multiprocessing is preferable:\n",
        "CPU-bound tasks:\n",
        "\n",
        "Example: Performing complex computations, numerical simulations, image processing, machine learning training, or data analysis.\n",
        "Reason: Each process runs on a separate CPU core and has its own memory space, allowing for true parallel execution. This bypasses the GIL and takes full advantage of multi-core CPUs, speeding up CPU-intensive tasks.\n",
        "Heavy parallel computations:\n",
        "\n",
        "Example: Scientific calculations, video encoding, or processing large datasets.\n",
        "Reason: Multiprocessing is ideal for splitting a heavy computational load into smaller tasks that can be executed in parallel, improving overall performance by distributing the workload across multiple processes.\n",
        "Tasks requiring isolation:\n",
        "\n",
        "Example: Running different programs or services where you want to completely isolate memory, as in running multiple instances of different services or heavy computational tasks.\n",
        "Reason: Processes do not share memory space, so you get better fault isolation. If one process crashes, it doesn't affect others, making multiprocessing more fault-tolerant for certain types of tasks.\n",
        "Applications requiring large memory usage:\n",
        "\n",
        "Example: Data processing pipelines that require substantial amounts of memory (e.g., working with large datasets or running machine learning models that require significant RAM).\n",
        "Reason: Since processes don't share memory space, each process can allocate its own resources. This allows for more efficient memory usage, especially for memory-intensive applications."
      ],
      "metadata": {
        "id": "4BG3EOy5Q7kV"
      }
    },
    {
      "cell_type": "markdown",
      "source": [
        "2.  Describe what a process pool is and how it helps in managing multiple processes efficiently.\n",
        "\n",
        "\n"
      ],
      "metadata": {
        "id": "zhGJgtj3RK5c"
      }
    },
    {
      "cell_type": "markdown",
      "source": [
        "A process pool is a collection of pre-initialized processes that are used to execute multiple tasks concurrently. Instead of creating new processes for each task, the pool reuses existing processes, reducing overhead and improving efficiency. It manages the distribution of tasks to available processes, ensuring optimal CPU utilization."
      ],
      "metadata": {
        "id": "euo_31vQRNgQ"
      }
    },
    {
      "cell_type": "code",
      "source": [
        "import multiprocessing\n",
        "\n",
        "def square(x):\n",
        "    return x * x\n",
        "\n",
        "if __name__ == \"__main__\":\n",
        "    with multiprocessing.Pool(4) as pool:\n",
        "        result = pool.map(square, [1, 2, 3, 4, 5])\n",
        "        print(result)"
      ],
      "metadata": {
        "id": "mWlVZAdYRR8j"
      },
      "execution_count": null,
      "outputs": []
    },
    {
      "cell_type": "markdown",
      "source": [
        "3.  Explain what multiprocessing is and why it is used in Python programs"
      ],
      "metadata": {
        "id": "aVrQSpqNRWUj"
      }
    },
    {
      "cell_type": "markdown",
      "source": [
        "Multiprocessing in Python allows you to run multiple processes simultaneously, taking full advantage of multiple CPU cores. It’s used to perform CPU-bound tasks (like heavy computations or data processing) more efficiently, as each process runs independently with its own memory space, bypassing Python’s Global Interpreter Lock (GIL). This results in true parallelism, improving performance for tasks that require a lot of CPU power.\n",
        "\n",
        "Example: Using the multiprocessing module to split a task across multiple processes and execute it in parallel."
      ],
      "metadata": {
        "id": "av4xDkd5ReOb"
      }
    },
    {
      "cell_type": "markdown",
      "source": [
        "4.  Write a Python program using multithreading where one thread adds numbers to a list, and another\n",
        "thread removes numbers from the list. Implement a mechanism to avoid race conditions using\n",
        "threading.Lock."
      ],
      "metadata": {
        "id": "_3xP4UCQRqN3"
      }
    },
    {
      "cell_type": "code",
      "source": [
        "import threading\n",
        "import time\n",
        "\n",
        "# Shared list and a lock\n",
        "shared_list = []\n",
        "lock = threading.Lock()\n",
        "\n",
        "# Function to add numbers to the list\n",
        "def add_numbers():\n",
        "    for i in range(1, 6):\n",
        "        time.sleep(1)  # Simulate some processing time\n",
        "        with lock:  # Locking the shared resource\n",
        "            shared_list.append(i)\n",
        "            print(f\"Added {i} to the list.\")\n",
        "\n",
        "# Function to remove numbers from the list\n",
        "def remove_numbers():\n",
        "    for _ in range(5):\n",
        "        time.sleep(2)  # Simulate some processing time\n",
        "        with lock:  # Locking the shared resource\n",
        "            if shared_list:\n",
        "                removed = shared_list.pop(0)  # Remove the first element\n",
        "                print(f\"Removed {removed} from the list.\")\n",
        "            else:\n",
        "                print(\"List is empty, nothing to remove.\")\n",
        "\n",
        "# Create threads for adding and removing numbers\n",
        "thread1 = threading.Thread(target=add_numbers)\n",
        "thread2 = threading.Thread(target=remove_numbers)\n",
        "\n",
        "# Start the threads\n",
        "thread1.start()\n",
        "thread2.start()\n",
        "\n",
        "# Wait for both threads to complete\n",
        "thread1.join()\n",
        "thread2.join()\n",
        "\n",
        "# Final content of the list\n",
        "print(\"Final list:\", shared_list)"
      ],
      "metadata": {
        "id": "fFL4XXYERucT"
      },
      "execution_count": null,
      "outputs": []
    },
    {
      "cell_type": "markdown",
      "source": [
        "5. Describe the methods and tools available in Python for safely sharing data between threads and\n",
        "processes"
      ],
      "metadata": {
        "id": "HyFTNCLwUZE5"
      }
    },
    {
      "cell_type": "markdown",
      "source": [
        "a. threading.Lock\n",
        "A Lock is a synchronization primitive used to ensure that only one thread can access a shared resource at a time.\n",
        "It prevents race conditions by locking the resource before modifying it and unlocking it after the modification is complete.\n",
        "Example: Using threading.Lock to protect shared variables from being accessed simultaneously by multiple threads.\n",
        "\n",
        "b. threading.Semaphore\n",
        "A Semaphore is a synchronization tool used to control access to a shared resource by multiple threads.\n",
        "It maintains a counter that controls how many threads can access a resource simultaneously. When the counter reaches zero, threads must wait until it’s decremented.\n",
        "Useful for limiting the number of threads accessing a resource.\n",
        "\n",
        "c. threading.Event\n",
        "An Event is used for thread synchronization. One thread signals an event, while others wait for it. It’s useful when threads need to coordinate or synchronize their actions.\n",
        "\n",
        "d. queue.Queue (Thread-Safe Queues)\n",
        "A Queue provides a thread-safe way to share data between threads.\n",
        "queue.Queue allows one thread to put data into the queue and another thread to retrieve it safely, managing thread synchronization internally."
      ],
      "metadata": {
        "id": "lTWaUtUmUkG7"
      }
    },
    {
      "cell_type": "markdown",
      "source": [
        "5. Describe the methods and tools available in Python for safely sharing data between threads and\n",
        "processes."
      ],
      "metadata": {
        "id": "BQQP2rY5UvG0"
      }
    },
    {
      "cell_type": "markdown",
      "source": [
        "Threading:\n",
        "a. threading.Lock: Ensures only one thread can access shared data at a time, preventing race conditions.\n",
        "b. queue.Queue: A thread-safe queue for sharing data between threads.\n",
        "c. threading.Semaphore: Limits the number of threads accessing a resource simultaneously.\n",
        "d. threading.Event: Synchronizes threads by signaling when a specific event occurs.\n",
        "\n",
        "Multiprocessing:\n",
        "a. multiprocessing.Queue: A thread-safe queue for inter-process communication.\n",
        "b. multiprocessing.Value / Array: Share simple data types and arrays between processes using shared memory.\n",
        "c. multiprocessing.Manager: Allows sharing complex objects like lists and dictionaries between processes.\n",
        "d. multiprocessing.Pipe: Provides one-way or two-way communication between processes.\n",
        "\n",
        "These tools help manage synchronization and ensure safe data sharing in concurrent Python programs."
      ],
      "metadata": {
        "id": "lu0vUvFoUk20"
      }
    },
    {
      "cell_type": "markdown",
      "source": [
        "6. Discuss why it’s crucial to handle exceptions in concurrent programs and the techniques available for\n",
        "doing so."
      ],
      "metadata": {
        "id": "Jd8e8Oh-V0A8"
      }
    },
    {
      "cell_type": "markdown",
      "source": [
        "Handling exceptions in concurrent programs is crucial to ensure the program runs smoothly, maintains stability, and manages resources properly. In concurrent execution, multiple threads or processes are running simultaneously, and an exception in one unit of execution (like a thread or process) can cause unexpected behavior, crash the entire program, or lead to resource leaks.\n",
        "\n",
        "Importance of Exception Handling:\n",
        "Prevent Program Crashes: An unhandled exception in one thread/process could bring down the entire program.\n",
        "Ensure Proper Resource Management: Unhandled exceptions may cause resources (e.g., memory, file handles) to not be released properly, leading to resource leaks.\n",
        "Improve Stability: By handling exceptions, we ensure that errors are caught and handled without disrupting the execution of the entire program.\n",
        "Techniques for Handling Exceptions:\n",
        "a. try-except Blocks:\n",
        "\n",
        "Use try-except blocks within threads or processes to catch and handle exceptions locally without crashing the entire unit of execution.\n",
        "b. Exception Propagation:\n",
        "\n",
        "Exceptions can be propagated from child threads or processes to the main program using mechanisms like shared variables or queues for reporting errors.\n",
        "c. Queue:\n",
        "\n",
        "A thread-safe Queue can be used to send error messages or exceptions from worker threads or processes to the main thread, allowing the main program to handle them appropriately.\n",
        "d. multiprocessing.Manager:\n",
        "\n",
        "In multiprocessing, exceptions can be stored in shared objects like lists, which are accessible by the parent process for handling.\n",
        "e. concurrent.futures:\n",
        "\n",
        "The ThreadPoolExecutor or ProcessPoolExecutor from the concurrent.futures module automatically captures exceptions raised in worker threads/processes, which can then be retrieved via the Future object."
      ],
      "metadata": {
        "id": "PUl5WxaPV4Ih"
      }
    },
    {
      "cell_type": "markdown",
      "source": [
        "7. Create a program that uses a thread pool to calculate the factorial of numbers from 1 to 10 concurrently.\n",
        "Use concurrent.futures.ThreadPoolExecutor to manage the threads."
      ],
      "metadata": {
        "id": "HkkmTAZuWSPF"
      }
    },
    {
      "cell_type": "code",
      "source": [
        "import concurrent.futures\n",
        "\n",
        "# Function to calculate factorial\n",
        "def factorial(n):\n",
        "    if n == 0 or n == 1:\n",
        "        return 1\n",
        "    else:\n",
        "        result = 1\n",
        "        for i in range(2, n + 1):\n",
        "            result *= i\n",
        "        return result\n",
        "\n",
        "# Using ThreadPoolExecutor to calculate factorials concurrently\n",
        "def calculate_factorials():\n",
        "    with concurrent.futures.ThreadPoolExecutor() as executor:\n",
        "        # Submit tasks for numbers 1 to 10\n",
        "        results = [executor.submit(factorial, i) for i in range(1, 11)]\n",
        "\n",
        "        # Wait for all tasks to complete and print results\n",
        "        for future in concurrent.futures.as_completed(results):\n",
        "            print(f\"Factorial: {future.result()}\")\n",
        "\n",
        "# Run the program\n",
        "if __name__ == \"__main__\":\n",
        "    calculate_factorials()"
      ],
      "metadata": {
        "id": "hNyZinBUWV-c"
      },
      "execution_count": null,
      "outputs": []
    },
    {
      "cell_type": "markdown",
      "source": [
        "8. Create a Python program that uses multiprocessing.Pool to compute the square of numbers from 1 to 10 in\n",
        "parallel. Measure the time taken to perform this computation using a pool of different sizes (e.g., 2, 4, 8\n",
        "processes)"
      ],
      "metadata": {
        "id": "bP-lS7OoWbWt"
      }
    },
    {
      "cell_type": "code",
      "source": [
        "import multiprocessing\n",
        "import time\n",
        "\n",
        "# Function to calculate the square of a number\n",
        "def square(n):\n",
        "    return n * n\n",
        "\n",
        "# Function to measure the time taken to compute squares using a pool of processes\n",
        "def compute_squares(pool_size):\n",
        "    # Create a pool of processes\n",
        "    with multiprocessing.Pool(pool_size) as pool:\n",
        "        # List of numbers from 1 to 10\n",
        "        numbers = list(range(1, 11))\n",
        "\n",
        "        # Measure start time\n",
        "        start_time = time.time()\n",
        "\n",
        "        # Map the 'square' function to the list of numbers\n",
        "        results = pool.map(square, numbers)\n",
        "\n",
        "        # Measure end time\n",
        "        end_time = time.time()\n",
        "\n",
        "        # Print the results and the time taken\n",
        "        print(f\"Pool size {pool_size}: {results}\")\n",
        "        print(f\"Time taken: {end_time - start_time:.4f} seconds\\n\")\n",
        "\n",
        "# Run the program for different pool sizes\n",
        "if __name__ == \"__main__\":\n",
        "    for pool_size in [2, 4, 8]:\n",
        "        compute_squares(pool_size)"
      ],
      "metadata": {
        "id": "oeVqnZa1Wd3P"
      },
      "execution_count": null,
      "outputs": []
    }
  ]
}