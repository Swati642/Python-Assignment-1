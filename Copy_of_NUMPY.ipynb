{
  "nbformat": 4,
  "nbformat_minor": 0,
  "metadata": {
    "colab": {
      "provenance": [],
      "authorship_tag": "ABX9TyP+BgMq9ELGpd5hba9YMKxR",
      "include_colab_link": true
    },
    "kernelspec": {
      "name": "python3",
      "display_name": "Python 3"
    },
    "language_info": {
      "name": "python"
    }
  },
  "cells": [
    {
      "cell_type": "markdown",
      "metadata": {
        "id": "view-in-github",
        "colab_type": "text"
      },
      "source": [
        "<a href=\"https://colab.research.google.com/github/Swati642/Python-Assignment-1/blob/main/Copy_of_NUMPY.ipynb\" target=\"_parent\"><img src=\"https://colab.research.google.com/assets/colab-badge.svg\" alt=\"Open In Colab\"/></a>"
      ]
    },
    {
      "cell_type": "markdown",
      "source": [
        "1.  Explain the purpose and advantages of NumPy in scientific computing and data analysis. How does it\n",
        "enhance Python's capabilities for numerical operations?\n",
        "Ans. NumPy is a powerful library in Python designed for scientific computing and data analysis. Its main purpose is to provide efficient array manipulation and numerical operations. Key advantages include:\n",
        "\n",
        "Efficient Multidimensional Arrays: NumPy introduces the ndarray object, a highly efficient, fixed-size, and homogeneous data structure for storing large datasets.\n",
        "\n",
        "Performance: It is much faster than regular Python lists due to optimized C and Fortran code under the hood, enabling vectorized operations and parallel computation.\n",
        "\n",
        "Mathematical Functions: NumPy offers a vast collection of built-in functions for operations like linear algebra, statistics, and Fourier transforms, enhancing Python's ability for complex calculations.\n",
        "\n",
        "Memory Efficiency: NumPy arrays use less memory compared to lists and can handle large datasets more effectively.\n",
        "\n",
        "Interoperability: It integrates seamlessly with other scientific libraries (e.g., SciPy, pandas, Matplotlib), enhancing Python's utility for data analysis and scientific research."
      ],
      "metadata": {
        "id": "TGOOqsvXifGy"
      }
    },
    {
      "cell_type": "markdown",
      "source": [
        "2. Compare and contrast np.mean() and np.average() functions in NumPy. When would you use one over the\n",
        "other?\n",
        "Ans. In NumPy, both np.mean() and np.average() are used to compute the average of an array, but they have distinct differences:\n",
        "\n",
        "np.mean():\n",
        "Purpose: Computes the arithmetic mean (average) of an array or along a specified axis.\n",
        "Usage: np.mean(a, axis=None, dtype=None, out=None, keepdims=False)\n",
        "Default behavior: It simply sums the elements of the array and divides by the total number of elements.\n",
        "No weighting: It assumes equal weights for all elements.\n",
        "np.average():\n",
        "Purpose: Computes a weighted average of an array, with the option to apply different weights to different elements.\n",
        "Usage: np.average(a, axis=None, weights=None, returned=False)\n",
        "Default behavior: When no weights are specified, it behaves like np.mean(). However, it allows the user to specify weights, enabling the calculation of a weighted average.\n",
        "Weighted averaging: If weights are provided, each element is multiplied by its corresponding weight before averaging."
      ],
      "metadata": {
        "id": "05eYF3PYlbMi"
      }
    },
    {
      "cell_type": "markdown",
      "source": [
        "3. Describe the methods for reversing a NumPy array along different axes. Provide examples for 1D and 2D\n",
        "arrays.\n",
        "Ans. 1D Array Reversal:\n",
        "Use slicing ([::-1]) or np.flip() to reverse a 1D array.\n",
        "2D Array Reversal:\n",
        "Use np.flip(arr_2d, axis=0) to reverse along rows (up-down).\n",
        "Use np.flip(arr_2d, axis=1) to reverse along columns (left-right).\n",
        "Use np.flipud() for up-down reversal (rows).\n",
        "Use np.fliplr() for left-right reversal (columns)."
      ],
      "metadata": {
        "id": "BTVmxW-envub"
      }
    },
    {
      "cell_type": "code",
      "source": [
        "import numpy as np\n",
        "\n",
        "# Create a 1D array\n",
        "arr_1d = np.array([1, 2, 3, 4, 5])\n",
        "reversed_arr_1d = np.flip(arr_1d)\n",
        "print(reversed_arr_1d)"
      ],
      "metadata": {
        "colab": {
          "base_uri": "https://localhost:8080/"
        },
        "id": "8mhZlrSwtyrn",
        "outputId": "95cd8705-3768-44af-991a-1189ab9aa99d"
      },
      "execution_count": null,
      "outputs": [
        {
          "output_type": "stream",
          "name": "stdout",
          "text": [
            "[5 4 3 2 1]\n"
          ]
        }
      ]
    },
    {
      "cell_type": "code",
      "source": [
        "import numpy as np\n",
        "\n",
        "# Create a 2D array\n",
        "arr_2d = np.array([[1, 2, 3], [4, 5, 6], [7, 8, 9]])\n",
        "\n",
        "# Reverse along rows (axis=1)\n",
        "reversed_rows = np.flip(arr_2d, axis=0)\n",
        "print(reversed_rows)"
      ],
      "metadata": {
        "colab": {
          "base_uri": "https://localhost:8080/"
        },
        "id": "safzChsAuGX0",
        "outputId": "bbf83ed1-2f3f-4225-c055-ed722c1bf3b7"
      },
      "execution_count": null,
      "outputs": [
        {
          "output_type": "stream",
          "name": "stdout",
          "text": [
            "[[7 8 9]\n",
            " [4 5 6]\n",
            " [1 2 3]]\n"
          ]
        }
      ]
    },
    {
      "cell_type": "markdown",
      "source": [
        "4. How can you determine the data type of elements in a NumPy array? Discuss the importance of data types\n",
        "in memory management and performance.\n",
        "Ans. to determine Data Type in NumPy, dtype attribute is used"
      ],
      "metadata": {
        "id": "Y6v3g0-auYAc"
      }
    },
    {
      "cell_type": "code",
      "source": [
        "import numpy as np\n",
        "arr = np.array([1, 2, 3])\n",
        "print(arr.dtype)"
      ],
      "metadata": {
        "id": "gYcmi5cTutrj"
      },
      "execution_count": null,
      "outputs": []
    },
    {
      "cell_type": "markdown",
      "source": [
        "Importance of Data Types in Memory and Performance\n",
        "Memory Efficiency: Smaller data types (e.g., int8, float32) consume less memory, enabling handling larger datasets.\n",
        "Performance: Smaller data types lead to faster computations, better cache utilization, and reduced memory access time.\n",
        "Overflow: Choosing an appropriate data type avoids overflow and errors (e.g., int8 for values larger than 127 will overflow).\n",
        "Type Conversion: You can convert data types using astype() to optimize memory or ensure compatibility."
      ],
      "metadata": {
        "id": "3F9naMuXuwWN"
      }
    },
    {
      "cell_type": "markdown",
      "source": [
        "5. Define ndarrays in NumPy and explain their key features. How do they differ from standard Python lists?\n",
        "Ans. An ndarray (n-dimensional array) is the core data structure in NumPy. It is a grid of values, all of the same data type, indexed by a tuple of non-negative integers. It is used for efficient storage and manipulation of large datasets.\n",
        "Key Features of ndarrays:\n",
        "Homogeneous Data: All elements in an ndarray are of the same type (e.g., integers, floats).\n",
        "Multidimensional: ndarrays can be one-dimensional (1D), two-dimensional (2D), or more, supporting n-dimensional data structures.\n",
        "Fixed Size: Once created, the size of an ndarray cannot be changed. However, reshaping can create a new array with different dimensions.\n",
        "Efficient Memory Layout: ndarrays are stored in contiguous memory locations, allowing for faster access and operations compared to Python lists.\n",
        "Vectorized Operations: You can perform element-wise operations on entire arrays, avoiding Python loops and significantly improving performance.\n",
        "Differences Between ndarrays and Python Lists:\n",
        "Homogeneity:\n",
        "\n",
        "ndarrays: All elements must be of the same type.\n",
        "Python Lists: Can store elements of different types.\n",
        "Performance:\n",
        "\n",
        "ndarrays: More memory-efficient and faster for numerical operations due to fixed data type and contiguous memory storage.\n",
        "Python Lists: Slower for numerical computations due to flexibility in data types and non-contiguous memory storage.\n",
        "Functionality:\n",
        "\n",
        "ndarrays: Support advanced operations like slicing, broadcasting, and vectorized arithmetic.\n",
        "Python Lists: Lack support for such operations, requiring manual iteration or external libraries."
      ],
      "metadata": {
        "id": "OWLoFgl6u0R0"
      }
    },
    {
      "cell_type": "code",
      "source": [
        "#example -\n",
        "import numpy as np\n",
        "\n",
        "# Creating a 1D ndarray\n",
        "arr = np.array([1, 2, 3, 4])\n",
        "print(arr)  # Output: [1 2 3 4]\n",
        "\n",
        "# Creating a 2D ndarray\n",
        "arr_2d = np.array([[1, 2], [3, 4]])\n",
        "print(arr_2d)  # Output: [[1 2]\n",
        "               #          [3 4]]\n",
        "\n",
        "# Python list\n",
        "py_list = [1, 2, 3, 4]\n",
        "print(py_list)  # Output: [1, 2, 3, 4]"
      ],
      "metadata": {
        "id": "kYnGKYqxvPTb"
      },
      "execution_count": null,
      "outputs": []
    },
    {
      "cell_type": "markdown",
      "source": [
        "6. Analyze the performance benefits of NumPy arrays over Python lists for large-scale numerical operations.\n",
        "Ans.\n",
        "Performance Benefits of NumPy Arrays Over Python Lists\n",
        "Memory Efficiency:\n",
        "\n",
        "NumPy: Stores elements in contiguous memory, reducing overhead.\n",
        "Python lists: Store elements as pointers, leading to more memory usage.\n",
        "Faster Computations:\n",
        "\n",
        "NumPy: Uses optimized C/Fortran libraries, supports vectorized operations (element-wise on entire arrays).\n",
        "Python lists: Requires manual iteration, slower for large data.\n",
        "Broadcasting:\n",
        "\n",
        "NumPy: Supports broadcasting for operations on arrays of different shapes.\n",
        "Python lists: No native broadcasting, requires custom loops.\n",
        "Multithreading:\n",
        "\n",
        "NumPy: Optimized for multi-threading and parallelism in large datasets.\n",
        "Python lists: No built-in parallelism.\n",
        "Vectorization:\n",
        "\n",
        "NumPy: Supports vectorized operations, faster computation.\n"
      ],
      "metadata": {
        "id": "4Ve2_0nJvUJD"
      }
    },
    {
      "cell_type": "code",
      "source": [
        "#example\n",
        "import numpy as np\n",
        "import time\n",
        "\n",
        "# Python list sum\n",
        "py_list = [i for i in range(10**6)]\n",
        "start = time.time()\n",
        "sum(py_list)\n",
        "end = time.time()\n",
        "print(f\"Python list sum time: {end - start}\")\n",
        "\n",
        "# NumPy array sum\n",
        "np_array = np.array([i for i in range(10**6)])\n",
        "start = time.time()\n",
        "np.sum(np_array)\n",
        "end = time.time()\n",
        "print(f\"NumPy array sum time: {end - start}\")"
      ],
      "metadata": {
        "id": "-UBIHEB2vk4u"
      },
      "execution_count": null,
      "outputs": []
    },
    {
      "cell_type": "markdown",
      "source": [
        "7. Compare vstack() and hstack() functions in NumPy. Provide examples demonstrating their usage and\n",
        "output.\n",
        "Ans. Comparison of vstack() and hstack() in NumPy\n",
        "vstack(): Stacks arrays vertically (row-wise).\n",
        "hstack(): Stacks arrays horizontally (column-wise).\n",
        "Usage:\n",
        "vstack(): Stacks arrays on top of each other (along the first axis)."
      ],
      "metadata": {
        "id": "CBwigApuvome"
      }
    },
    {
      "cell_type": "code",
      "source": [
        "import numpy as np\n",
        "\n",
        "arr1 = np.array([1, 2, 3])\n",
        "arr2 = np.array([4, 5, 6])\n",
        "\n",
        "result_vstack = np.vstack((arr1, arr2))\n",
        "print(result_vstack)"
      ],
      "metadata": {
        "id": "N3bFS3uDvwqO"
      },
      "execution_count": null,
      "outputs": []
    },
    {
      "cell_type": "markdown",
      "source": [
        "hstack(): Stacks arrays side by side (along the second axis)."
      ],
      "metadata": {
        "id": "uZUD-yFRvyiD"
      }
    },
    {
      "cell_type": "code",
      "source": [
        "result_hstack = np.hstack((arr1, arr2))\n",
        "print(result_hstack)"
      ],
      "metadata": {
        "id": "yzyoQ6AVv0ij"
      },
      "execution_count": null,
      "outputs": []
    },
    {
      "cell_type": "markdown",
      "source": [
        "8. Explain the differences between fliplr() and flipud() methods in NumPy, including their effects on various\n",
        "array dimensions.\n",
        "Ans fliplr() (Flip Left-Right):\n",
        "\n",
        "Effect: Reverses the elements of an array horizontally (left to right), i.e., along the second axis (axis=1).\n",
        "Use case: Used to reverse the columns of an array.\n",
        "Example:"
      ],
      "metadata": {
        "id": "jH5Gh30Jv4Dl"
      }
    },
    {
      "cell_type": "code",
      "source": [
        "import numpy as np\n",
        "\n",
        "arr = np.array([[1, 2, 3], [4, 5, 6]])\n",
        "flipped_lr = np.fliplr(arr)\n",
        "print(flipped_lr)"
      ],
      "metadata": {
        "id": "Gpavv3dYwI0G"
      },
      "execution_count": null,
      "outputs": []
    },
    {
      "cell_type": "markdown",
      "source": [
        "flipud() (Flip Up-Down):\n",
        "\n",
        "Effect: Reverses the elements of an array vertically (top to bottom), i.e., along the first axis (axis=0).\n",
        "Use case: Used to reverse the rows of an array."
      ],
      "metadata": {
        "id": "g4ybdfgLwKqk"
      }
    },
    {
      "cell_type": "code",
      "source": [
        "flipped_ud = np.flipud(arr)\n",
        "print(flipped_ud)"
      ],
      "metadata": {
        "id": "HNqMvVLgwNBG"
      },
      "execution_count": null,
      "outputs": []
    },
    {
      "cell_type": "markdown",
      "source": [
        "9. Discuss the functionality of the array_split() method in NumPy. How does it handle uneven splits?\n",
        "Ans. The array_split() method in NumPy is used to split an array into multiple sub-arrays. It allows for splitting arrays along a specified axis into a specified number of parts.\n",
        "\n",
        "Functionality:\n",
        "Syntax: np.array_split(array, indices_or_sections, axis=0)\n",
        "array: The input NumPy array to split.\n",
        "indices_or_sections: Number of splits or an array of indices where splits should occur.\n",
        "axis: The axis along which to split (default is 0).\n",
        "Handling Uneven Splits:\n",
        "When the array cannot be evenly divided into the specified number of sections, NumPy distributes the remaining elements across the first few sub-arrays.\n",
        "For example, if you try to split an array with 10 elements into 3 parts, the first two parts will contain 4 elements, and the third will contain 2 elements."
      ],
      "metadata": {
        "id": "3nkGWOjBwO-H"
      }
    },
    {
      "cell_type": "code",
      "source": [
        "#Even split\n",
        "import numpy as np\n",
        "arr = np.array([1, 2, 3, 4, 5, 6])\n",
        "result = np.array_split(arr, 3)\n",
        "print(result)"
      ],
      "metadata": {
        "id": "g_YaQ-LnwX3n"
      },
      "execution_count": null,
      "outputs": []
    },
    {
      "cell_type": "code",
      "source": [
        "#uneven split\n",
        "arr = np.array([1, 2, 3, 4, 5, 6, 7, 8, 9])\n",
        "result = np.array_split(arr, 4)\n",
        "print(result)"
      ],
      "metadata": {
        "id": "UnI_ezoDwnG7"
      },
      "execution_count": null,
      "outputs": []
    },
    {
      "cell_type": "markdown",
      "source": [
        "10. Explain the concepts of vectorization and broadcasting in NumPy. How do they contribute to efficient array\n",
        "operations?\n",
        "Ans. Vectorization refers to the process of performing operations on entire arrays without using explicit loops. NumPy allows you to apply mathematical operations (like addition, multiplication, etc.) directly to whole arrays, and it automatically handles the element-wise computations behind the scenes.\n",
        "\n",
        "Benefits:\n",
        "Faster Execution: Operations are executed in compiled C code, making them faster than Python loops.\n",
        "Cleaner Code: No need for loops, making the code more concise and easier to read."
      ],
      "metadata": {
        "id": "dn4Jhuf_wr0g"
      }
    },
    {
      "cell_type": "code",
      "source": [
        "import numpy as np\n",
        "arr = np.array([1, 2, 3])\n",
        "result = arr * 2  # Element-wise multiplication\n",
        "print(result)"
      ],
      "metadata": {
        "id": "bi6nmSecw53-"
      },
      "execution_count": null,
      "outputs": []
    },
    {
      "cell_type": "markdown",
      "source": [
        "Broadcasting is a technique that allows NumPy to perform operations on arrays of different shapes. When performing operations between arrays of different sizes, NumPy automatically \"broadcasts\" the smaller array to match the shape of the larger array, without explicitly replicating data.\n",
        "\n",
        "Rules:\n",
        "The dimensions of the arrays must be compatible.\n",
        "The smaller array is broadcasted to match the shape of the larger one."
      ],
      "metadata": {
        "id": "QY4mZFYbw8c9"
      }
    },
    {
      "cell_type": "code",
      "source": [
        "arr1 = np.array([1, 2, 3])       # Shape: (3,)\n",
        "arr2 = np.array([10])             # Shape: (1,)\n",
        "result = arr1 + arr2              # Broadcasting occurs\n",
        "print(result)"
      ],
      "metadata": {
        "id": "2OMlQDpxw_eW"
      },
      "execution_count": null,
      "outputs": []
    },
    {
      "cell_type": "markdown",
      "source": [
        "Efficiency Benefits:\n",
        "Faster Execution: Vectorized operations are highly optimized and run much faster than Python loops.\n",
        "Memory Efficiency: Broadcasting avoids the need to replicate data, which reduces memory overhead.\n",
        "Concise Code: Both vectorization and broadcasting make it easier to write and maintain code for array operations."
      ],
      "metadata": {
        "id": "L56X8mGWxCLc"
      }
    },
    {
      "cell_type": "markdown",
      "source": [
        "1. Create a 3x3 NumPy array with random integers between 1 and 100. Then, interchange its rows and columns"
      ],
      "metadata": {
        "id": "iAARpfUHxoI1"
      }
    },
    {
      "cell_type": "code",
      "source": [
        "import numpy as np\n",
        "\n",
        "# Create a 3x3 array with random integers between 1 and 100\n",
        "arr = np.random.randint(1, 101, size=(3, 3))\n",
        "print(\"Original Array:\")\n",
        "print(arr)\n",
        "\n",
        "# Interchange rows and columns (transpose the array)\n",
        "arr_transposed = arr.T\n",
        "print(\"\\nTransposed Array:\")\n",
        "print(arr_transposed)"
      ],
      "metadata": {
        "id": "ZFVProNZxrO3"
      },
      "execution_count": null,
      "outputs": []
    },
    {
      "cell_type": "markdown",
      "source": [
        "2. Generate a 1D NumPy array with 10 elements. Reshape it into a 2x5 array, then into a 5x2 array"
      ],
      "metadata": {
        "id": "2urhCwmjxw3U"
      }
    },
    {
      "cell_type": "code",
      "source": [
        "import numpy as np\n",
        "\n",
        "# Step 1: Generate a 1D NumPy array with 10 elements\n",
        "array_1d = np.arange(10)  # This creates an array with elements from 0 to 9\n",
        "\n",
        "# Step 2: Reshape it into a 2x5 array\n",
        "array_2x5 = array_1d.reshape(2, 5)\n",
        "\n",
        "# Step 3: Reshape it into a 5x2 array\n",
        "array_5x2 = array_2x5.reshape(5, 2)\n",
        "\n",
        "# (Optional) Print the arrays to see the results\n",
        "print(\"1D Array:\\n\", array_1d)\n",
        "print(\"\\nReshaped to 2x5 Array:\\n\", array_2x5)\n",
        "print(\"\\nReshaped again to 5x2 Array:\\n\", array_5x2)"
      ],
      "metadata": {
        "id": "eY7b53BZyKWe"
      },
      "execution_count": null,
      "outputs": []
    },
    {
      "cell_type": "markdown",
      "source": [
        "3. Create a 4x4 NumPy array with random float values. Add a border of zeros around it, resulting in a 6x6 array."
      ],
      "metadata": {
        "id": "_CcSc9qtyhqz"
      }
    },
    {
      "cell_type": "code",
      "source": [
        "import numpy as np\n",
        "\n",
        "# Create a 4x4 array with random float values\n",
        "original_array = np.random.rand(4, 4)\n",
        "\n",
        "# Add a border of zeros around the original array\n",
        "bordered_array = np.pad(original_array, pad_width=1, mode='constant', constant_values=0)\n",
        "\n",
        "print(\"Original 4x4 Array:\\n\", original_array)\n",
        "print(\"\\n6x6 Array with Border of Zeros:\\n\", bordered_array)"
      ],
      "metadata": {
        "id": "qObfrjrlyk7Y"
      },
      "execution_count": null,
      "outputs": []
    },
    {
      "cell_type": "markdown",
      "source": [
        "4. Using NumPy, create an array of integers from 10 to 60 with a step of 5."
      ],
      "metadata": {
        "id": "64tI_-MF08on"
      }
    },
    {
      "cell_type": "code",
      "source": [
        "import numpy as np\n",
        "\n",
        "# Create the array\n",
        "array = np.arange(10, 61, 5)\n",
        "\n",
        "print(array)"
      ],
      "metadata": {
        "id": "m3KbUXr60_b3"
      },
      "execution_count": null,
      "outputs": []
    },
    {
      "cell_type": "markdown",
      "source": [
        "5. Create a NumPy array of strings ['python', 'numpy', 'pandas']. Apply different case transformations\n",
        "(uppercase, lowercase, title case, etc.) to each element."
      ],
      "metadata": {
        "id": "3Ohse19p1HUU"
      }
    },
    {
      "cell_type": "code",
      "source": [
        "import numpy as np\n",
        "\n",
        "# Step 1: Create a NumPy array of strings\n",
        "arr = np.array(['python', 'numpy', 'pandas'])\n",
        "\n",
        "# Step 2: Apply different case transformations\n",
        "upper_case = np.char.upper(arr)        # Uppercase\n",
        "lower_case = np.char.lower(arr)        # Lowercase\n",
        "title_case = np.char.title(arr)        # Title Case\n",
        "capitalize = np.char.capitalize(arr)    # Capitalize\n",
        "\n",
        "# Displaying the results\n",
        "print(\"Original:\", arr)\n",
        "print(\"Uppercase:\", upper_case)\n",
        "print(\"Lowercase:\", lower_case)\n",
        "print(\"Title Case:\", title_case)\n",
        "print(\"Capitalize:\", capitalize)"
      ],
      "metadata": {
        "id": "OJp6lUDb1Kpk"
      },
      "execution_count": null,
      "outputs": []
    },
    {
      "cell_type": "markdown",
      "source": [
        "6. Generate a NumPy array of words. Insert a space between each character of every word in the array."
      ],
      "metadata": {
        "id": "sk5C8Q8z1VIV"
      }
    },
    {
      "cell_type": "code",
      "source": [
        "import numpy as np\n",
        "\n",
        "# Create a NumPy array of words\n",
        "words = np.array(['python', 'numpy', 'pandas'])\n",
        "\n",
        "# Insert a space between each character of every word\n",
        "spaced_words = np.array([' '.join(word) for word in words])\n",
        "\n",
        "print(spaced_words)"
      ],
      "metadata": {
        "id": "T6jFsh8S1YKk"
      },
      "execution_count": null,
      "outputs": []
    },
    {
      "cell_type": "markdown",
      "source": [
        "7. Create two 2D NumPy arrays and perform element-wise addition, subtraction, multiplication, and division."
      ],
      "metadata": {
        "id": "fjEi3CCc1tL0"
      }
    },
    {
      "cell_type": "code",
      "source": [
        "import numpy as np\n",
        "\n",
        "# Create two 2D NumPy arrays\n",
        "arr1 = np.array([[1, 2], [3, 4]])\n",
        "arr2 = np.array([[5, 6], [7, 8]])\n",
        "\n",
        "# Element-wise addition\n",
        "addition_result = arr1 + arr2\n",
        "\n",
        "# Element-wise subtraction\n",
        "subtraction_result = arr1 - arr2\n",
        "\n",
        "# Element-wise multiplication\n",
        "multiplication_result = arr1 * arr2\n",
        "\n",
        "# Element-wise division\n",
        "division_result = arr1 / arr2\n",
        "\n",
        "addition_result, subtraction_result, multiplication_result, division_result"
      ],
      "metadata": {
        "id": "PkLmdeYe1ww3"
      },
      "execution_count": null,
      "outputs": []
    },
    {
      "cell_type": "markdown",
      "source": [
        "8. Use NumPy to create a 5x5 identity matrix, then extract its diagonal elements\n"
      ],
      "metadata": {
        "id": "bC0Znja711xv"
      }
    },
    {
      "cell_type": "code",
      "source": [
        "import numpy as np\n",
        "\n",
        "# Create a 5x5 identity matrix\n",
        "identity_matrix = np.eye(5)\n",
        "\n",
        "# Extract the diagonal elements\n",
        "diagonal_elements = identity_matrix.diagonal()\n",
        "\n",
        "identity_matrix, diagonal_elements"
      ],
      "metadata": {
        "id": "W6o4KJo-2HVV"
      },
      "execution_count": null,
      "outputs": []
    },
    {
      "cell_type": "markdown",
      "source": [
        "9. Generate a NumPy array of 100 random integers between 0 and 1000. Find and display all prime numbers in\n",
        "this array"
      ],
      "metadata": {
        "id": "T4PHdkds2Ie0"
      }
    },
    {
      "cell_type": "code",
      "source": [
        "import numpy as np\n",
        "\n",
        "# Generate a NumPy array of 100 random integers between 0 and 1000\n",
        "arr = np.random.randint(0, 1001, 100)\n",
        "\n",
        "# Function to check if a number is prime\n",
        "def is_prime(num):\n",
        "    if num <= 1:\n",
        "        return False\n",
        "    for i in range(2, int(np.sqrt(num)) + 1):\n",
        "        if num % i == 0:\n",
        "            return False\n",
        "    return True\n",
        "\n",
        "# Filter and display all prime numbers in the array\n",
        "prime_numbers = arr[np.vectorize(is_prime)(arr)]\n",
        "\n",
        "prime_numbers"
      ],
      "metadata": {
        "id": "py7dauxp2K1d"
      },
      "execution_count": null,
      "outputs": []
    },
    {
      "cell_type": "markdown",
      "source": [
        "10. Create a NumPy array representing daily temperatures for a month. Calculate and display the weekly\n",
        "averages."
      ],
      "metadata": {
        "id": "D2niV5eK2PGV"
      }
    },
    {
      "cell_type": "code",
      "source": [
        "import numpy as np\n",
        "\n",
        "# Generate a NumPy array representing daily temperatures for a month (30 days)\n",
        "daily_temperatures = np.random.uniform(10, 30, 30)  # Random temperatures between 10 and 30 degrees\n",
        "\n",
        "# Reshape the array into 4 weeks (7 days per week, leaving 2 days in the last week)\n",
        "reshaped_temperatures = daily_temperatures.reshape(4, -1)\n",
        "\n",
        "# Calculate the weekly averages\n",
        "weekly_averages = reshaped_temperatures.mean(axis=1)\n",
        "\n",
        "daily_temperatures, reshaped_temperatures, weekly_averages"
      ],
      "metadata": {
        "id": "xfeGvfMW2SpE"
      },
      "execution_count": null,
      "outputs": []
    },
    {
      "cell_type": "code",
      "source": [],
      "metadata": {
        "id": "uged1aVqaXuW"
      },
      "execution_count": null,
      "outputs": []
    },
    {
      "cell_type": "code",
      "source": [],
      "metadata": {
        "id": "6ETx6czPaYLM"
      },
      "execution_count": null,
      "outputs": []
    },
    {
      "cell_type": "markdown",
      "source": [],
      "metadata": {
        "id": "J0UVO0kv2Crs"
      }
    }
  ]
}