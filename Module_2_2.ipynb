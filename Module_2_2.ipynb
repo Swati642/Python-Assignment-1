{
  "nbformat": 4,
  "nbformat_minor": 0,
  "metadata": {
    "colab": {
      "provenance": [],
      "authorship_tag": "ABX9TyNA0EagDWvxyNuKxafuIZCa",
      "include_colab_link": true
    },
    "kernelspec": {
      "name": "python3",
      "display_name": "Python 3"
    },
    "language_info": {
      "name": "python"
    }
  },
  "cells": [
    {
      "cell_type": "markdown",
      "metadata": {
        "id": "view-in-github",
        "colab_type": "text"
      },
      "source": [
        "<a href=\"https://colab.research.google.com/github/Swati642/Python-Assignment-1/blob/main/Module_2_2.ipynb\" target=\"_parent\"><img src=\"https://colab.research.google.com/assets/colab-badge.svg\" alt=\"Open In Colab\"/></a>"
      ]
    },
    {
      "cell_type": "markdown",
      "source": [
        "1."
      ],
      "metadata": {
        "id": "EVrjGfAH5JZm"
      }
    },
    {
      "cell_type": "code",
      "source": [
        "import matplotlib.pyplot as plt\n",
        "\n",
        "# Given data\n",
        "x = [1, 2, 3, 4, 5, 6, 7, 8, 9, 10]\n",
        "y = [2, 4, 5, 7, 6, 8, 9, 10, 12, 13]\n",
        "\n",
        "# Create a scatter plot\n",
        "plt.scatter(x, y, color='blue', label='Data points')\n",
        "\n",
        "# Add titles and labels\n",
        "plt.title(\"Scatter Plot of x vs y\")\n",
        "plt.xlabel(\"x values\")\n",
        "plt.ylabel(\"y values\")\n",
        "\n",
        "# Display the plot\n",
        "plt.legend()\n",
        "plt.grid(True)\n",
        "plt.show()"
      ],
      "metadata": {
        "id": "YbPA4bdg5cin"
      },
      "execution_count": null,
      "outputs": []
    },
    {
      "cell_type": "markdown",
      "source": [
        "2."
      ],
      "metadata": {
        "id": "XHNGiZdw5dvG"
      }
    },
    {
      "cell_type": "code",
      "source": [
        "import numpy as np\n",
        "import matplotlib.pyplot as plt\n",
        "\n",
        "# Given data\n",
        "data = np.array([3, 7, 9, 15, 22, 29, 35])\n",
        "\n",
        "# Generate x values (the index of the data array)\n",
        "x = np.arange(len(data))\n",
        "\n",
        "# Create a line plot\n",
        "plt.plot(x, data, marker='o', color='green', label='Trend Line')\n",
        "\n",
        "# Add titles and labels\n",
        "plt.title(\"Line Plot of Trend\")\n",
        "plt.xlabel(\"Index\")\n",
        "plt.ylabel(\"Values\")\n",
        "\n",
        "# Display the plot\n",
        "plt.legend()\n",
        "plt.grid(True)\n",
        "plt.show()"
      ],
      "metadata": {
        "id": "xC-cYbGl5gOm"
      },
      "execution_count": null,
      "outputs": []
    },
    {
      "cell_type": "markdown",
      "source": [
        "3."
      ],
      "metadata": {
        "id": "CtoYBlMb66Vg"
      }
    },
    {
      "cell_type": "code",
      "source": [
        "import matplotlib.pyplot as plt\n",
        "\n",
        "# Given data\n",
        "categories = ['A', 'B', 'C', 'D', 'E']\n",
        "values = [25, 40, 30, 35, 20]\n",
        "\n",
        "# Create a bar chart\n",
        "plt.bar(categories, values, color='skyblue')\n",
        "\n",
        "# Add titles and labels\n",
        "plt.title(\"Bar Chart of Categories\")\n",
        "plt.xlabel(\"Categories\")\n",
        "plt.ylabel(\"Values\")\n",
        "\n",
        "# Display the plot\n",
        "plt.show()"
      ],
      "metadata": {
        "id": "B1dHC40L8ooS"
      },
      "execution_count": null,
      "outputs": []
    },
    {
      "cell_type": "markdown",
      "source": [
        "4."
      ],
      "metadata": {
        "id": "5glRlIac8ufh"
      }
    },
    {
      "cell_type": "code",
      "source": [
        "import numpy as np\n",
        "import matplotlib.pyplot as plt\n",
        "\n",
        "# Generate data: 1000 random numbers from a normal distribution (mean=0, std=1)\n",
        "data = np.random.normal(0, 1, 1000)\n",
        "\n",
        "# Create a histogram\n",
        "plt.hist(data, bins=30, color='skyblue', edgecolor='black')\n",
        "\n",
        "# Add titles and labels\n",
        "plt.title(\"Histogram of Normally Distributed Data\")\n",
        "plt.xlabel(\"Value\")\n",
        "plt.ylabel(\"Frequency\")\n",
        "\n",
        "# Display the plot\n",
        "plt.show()"
      ],
      "metadata": {
        "id": "sp2aQThj8vYP"
      },
      "execution_count": null,
      "outputs": []
    },
    {
      "cell_type": "markdown",
      "source": [
        "5."
      ],
      "metadata": {
        "id": "mRbPaImT8_iR"
      }
    },
    {
      "cell_type": "code",
      "source": [
        "import matplotlib.pyplot as plt\n",
        "\n",
        "# Given data\n",
        "sections = ['Section A', 'Section B', 'Section C', 'Section D']\n",
        "sizes = [25, 30, 15, 30]\n",
        "\n",
        "# Create a pie chart\n",
        "plt.pie(sizes, labels=sections, autopct='%1.1f%%', startangle=90, colors=['#ff9999','#66b3ff','#99ff99','#ffcc99'])\n",
        "\n",
        "# Add a title\n",
        "plt.title(\"Percentage Distribution of Sections\")\n",
        "\n",
        "# Display the plot\n",
        "plt.show()"
      ],
      "metadata": {
        "id": "eMyO4FaT9Ar5"
      },
      "execution_count": null,
      "outputs": []
    },
    {
      "cell_type": "markdown",
      "source": [
        "1."
      ],
      "metadata": {
        "id": "UAS0CweY9f0y"
      }
    },
    {
      "cell_type": "code",
      "source": [
        "import numpy as np\n",
        "import matplotlib.pyplot as plt\n",
        "\n",
        "# Generate a synthetic dataset\n",
        "np.random.seed(42)  # For reproducibility\n",
        "x = np.random.rand(100) * 10  # 100 random values for x between 0 and 10\n",
        "y = 2 * x + np.random.randn(100) * 2  # y = 2x + some noise\n",
        "\n",
        "# Create a scatter plot\n",
        "plt.scatter(x, y, color='blue', label='Data points')\n",
        "\n",
        "# Add titles and labels\n",
        "plt.title(\"Scatter Plot of Synthetic Data\")\n",
        "plt.xlabel(\"X Values\")\n",
        "plt.ylabel(\"Y Values\")\n",
        "\n",
        "# Display the plot\n",
        "plt.legend()\n",
        "plt.grid(True)\n",
        "plt.show()"
      ],
      "metadata": {
        "id": "76qhgg899iJW"
      },
      "execution_count": null,
      "outputs": []
    },
    {
      "cell_type": "markdown",
      "source": [
        "2."
      ],
      "metadata": {
        "id": "mVNEl1vK9r6X"
      }
    },
    {
      "cell_type": "code",
      "source": [
        "import numpy as np\n",
        "import matplotlib.pyplot as plt\n",
        "import seaborn as sns\n",
        "\n",
        "# Generate a dataset of 1000 random numbers from a normal distribution\n",
        "data = np.random.randn(1000)  # mean=0, std=1, 1000 data points\n",
        "\n",
        "# Create a histogram to visualize the distribution\n",
        "plt.figure(figsize=(8, 6))\n",
        "sns.histplot(data, kde=True, bins=30, color='skyblue')\n",
        "\n",
        "# Add titles and labels\n",
        "plt.title(\"Distribution of Random Numbers\", fontsize=16)\n",
        "plt.xlabel(\"Value\", fontsize=14)\n",
        "plt.ylabel(\"Frequency\", fontsize=14)\n",
        "\n",
        "# Display the plot\n",
        "plt.show()"
      ],
      "metadata": {
        "id": "h3DEYvpR920n"
      },
      "execution_count": null,
      "outputs": []
    },
    {
      "cell_type": "markdown",
      "source": [
        "3."
      ],
      "metadata": {
        "id": "ljQHKV4Y94H3"
      }
    },
    {
      "cell_type": "code",
      "source": [
        "import matplotlib.pyplot as plt\n",
        "\n",
        "# Dataset representing categories and their corresponding values\n",
        "categories = ['Category A', 'Category B', 'Category C', 'Category D', 'Category E']\n",
        "values = [45, 60, 30, 80, 55]\n",
        "\n",
        "# Create a bar chart to compare the categories based on their numerical values\n",
        "plt.figure(figsize=(8, 6))\n",
        "plt.bar(categories, values, color='skyblue', edgecolor='black')\n",
        "\n",
        "# Add titles and labels\n",
        "plt.title(\"Comparison of Categories Based on Numerical Values\", fontsize=16)\n",
        "plt.xlabel(\"Categories\", fontsize=14)\n",
        "plt.ylabel(\"Values\", fontsize=14)\n",
        "\n",
        "# Display the plot\n",
        "plt.show()"
      ],
      "metadata": {
        "id": "jH2ITxxo95G_"
      },
      "execution_count": null,
      "outputs": []
    },
    {
      "cell_type": "markdown",
      "source": [
        "4. Generate a dataset with categories and numerical values. Visualize the distribution of a numerical\n",
        "variable across different categories."
      ],
      "metadata": {
        "id": "t1ctWspe-lb_"
      }
    },
    {
      "cell_type": "code",
      "source": [
        "import numpy as np\n",
        "import seaborn as sns\n",
        "import matplotlib.pyplot as plt\n",
        "\n",
        "# Generate a dataset with categories and numerical values\n",
        "categories = ['Category A', 'Category B', 'Category C', 'Category D', 'Category E']\n",
        "np.random.seed(42)\n",
        "\n",
        "# Create random data for each category\n",
        "data = {\n",
        "    'Category A': np.random.normal(loc=50, scale=10, size=100),  # mean=50, std=10\n",
        "    'Category B': np.random.normal(loc=60, scale=15, size=100),  # mean=60, std=15\n",
        "    'Category C': np.random.normal(loc=40, scale=5, size=100),   # mean=40, std=5\n",
        "    'Category D': np.random.normal(loc=70, scale=20, size=100),  # mean=70, std=20\n",
        "    'Category E': np.random.normal(loc=55, scale=8, size=100)    # mean=55, std=8\n",
        "}\n",
        "\n",
        "# Convert data into a format suitable for seaborn (long-form data)\n",
        "import pandas as pd\n",
        "\n",
        "# Create a DataFrame from the generated data\n",
        "category_data = pd.DataFrame({\n",
        "    'Category': np.repeat(categories, 100),\n",
        "    'Value': np.concatenate(list(data.values()))\n",
        "})\n",
        "\n",
        "# Create a box plot to visualize the distribution of values across categories\n",
        "plt.figure(figsize=(10, 6))\n",
        "sns.boxplot(x='Category', y='Value', data=category_data, palette='Set2')\n",
        "\n",
        "# Add titles and labels\n",
        "plt.title(\"Distribution of Values Across Different Categories\", fontsize=16)\n",
        "plt.xlabel(\"Categories\", fontsize=14)\n",
        "plt.ylabel(\"Values\", fontsize=14)\n",
        "\n",
        "# Display the plot\n",
        "plt.show()"
      ],
      "metadata": {
        "id": "jBw0Bf3X_Gul"
      },
      "execution_count": null,
      "outputs": []
    },
    {
      "cell_type": "markdown",
      "source": [
        "5. Generate a synthetic dataset with correlated features. Visualize the correlation matrix of a dataset using a\n",
        "heatmap."
      ],
      "metadata": {
        "id": "WD4JM13f_Ict"
      }
    },
    {
      "cell_type": "code",
      "source": [
        "import numpy as np\n",
        "import pandas as pd\n",
        "import seaborn as sns\n",
        "import matplotlib.pyplot as plt\n",
        "\n",
        "# Set random seed for reproducibility\n",
        "np.random.seed(42)\n",
        "\n",
        "# Generate a synthetic dataset with correlated features\n",
        "# Create a base feature\n",
        "x = np.random.randn(1000)\n",
        "\n",
        "# Create correlated features by adding noise to the base feature\n",
        "y = 2 * x + np.random.randn(1000) * 0.5  # y is positively correlated with x\n",
        "z = -3 * x + np.random.randn(1000) * 0.5  # z is negatively correlated with x\n",
        "\n",
        "# Combine into a DataFrame\n",
        "data = pd.DataFrame({'X': x, 'Y': y, 'Z': z})\n",
        "\n",
        "# Calculate the correlation matrix\n",
        "corr_matrix = data.corr()\n",
        "\n",
        "# Create a heatmap to visualize the correlation matrix\n",
        "plt.figure(figsize=(8, 6))\n",
        "sns.heatmap(corr_matrix, annot=True, cmap='coolwarm', fmt='.2f', linewidths=0.5)\n",
        "\n",
        "# Add titles and labels\n",
        "plt.title(\"Correlation Matrix Heatmap\", fontsize=16)\n",
        "\n",
        "# Display the plot\n",
        "plt.show()"
      ],
      "metadata": {
        "id": "-9moi6K9_ZqU"
      },
      "execution_count": null,
      "outputs": []
    },
    {
      "cell_type": "markdown",
      "source": [
        " Using the given dataset, to generate a 3D scatter plot to visualize the distribution of data points in a threedimensional space"
      ],
      "metadata": {
        "id": "eQjyPa-__dk3"
      }
    },
    {
      "cell_type": "code",
      "source": [
        "import numpy as np\n",
        "import pandas as pd\n",
        "import matplotlib.pyplot as plt\n",
        "from mpl_toolkits.mplot3d import Axes3D\n",
        "\n",
        "# Set random seed for reproducibility\n",
        "np.random.seed(30)\n",
        "\n",
        "# Create a dataset with random values\n",
        "data = {\n",
        "    'X': np.random.uniform(-10, 10, 300),\n",
        "    'Y': np.random.uniform(-10, 10, 300),\n",
        "    'Z': np.random.uniform(-10, 10, 300)\n",
        "}\n",
        "\n",
        "# Convert the dataset into a pandas DataFrame\n",
        "df = pd.DataFrame(data)\n",
        "\n",
        "# Create a 3D scatter plot\n",
        "fig = plt.figure(figsize=(10, 7))\n",
        "\n",
        "# Add a 3D subplot\n",
        "ax = fig.add_subplot(111, projection='3d')\n",
        "\n",
        "# Scatter plot with the data points (X, Y, Z)\n",
        "ax.scatter(df['X'], df['Y'], df['Z'], c='r', marker='o')\n",
        "\n",
        "# Add titles and labels for axes\n",
        "ax.set_title('3D Scatter Plot', fontsize=16)\n",
        "ax.set_xlabel('X-axis', fontsize=14)\n",
        "ax.set_ylabel('Y-axis', fontsize=14)\n",
        "ax.set_zlabel('Z-axis', fontsize=14)\n",
        "\n",
        "# Display the plot\n",
        "plt.show()"
      ],
      "metadata": {
        "id": "NiIbl6Gt_120"
      },
      "execution_count": null,
      "outputs": []
    },
    {
      "cell_type": "markdown",
      "source": [
        "2. Using the Student Grades, create a violin plot to display the distribution of scores across different grade\n",
        "categories"
      ],
      "metadata": {
        "id": "cathx9U6_2kD"
      }
    },
    {
      "cell_type": "code",
      "source": [
        "import numpy as np\n",
        "import pandas as pd\n",
        "import seaborn as sns\n",
        "import matplotlib.pyplot as plt\n",
        "\n",
        "# Set random seed for reproducibility\n",
        "np.random.seed(15)\n",
        "\n",
        "# Create dataset for student grades and scores\n",
        "data = {\n",
        "    'Grade': np.random.choice(['A', 'B', 'C', 'D', 'F'], 200),\n",
        "    'Score': np.random.randint(50, 100, 200)\n",
        "}\n",
        "df = pd.DataFrame(data)\n",
        "\n",
        "# Create a violin plot for the distribution of scores across different grades\n",
        "plt.figure(figsize=(8, 6))\n",
        "sns.violinplot(x='Grade', y='Score', data=df, palette='muted')\n",
        "\n",
        "# Add titles and labels\n",
        "plt.title('Distribution of Scores across Different Grade Categories', fontsize=16)\n",
        "plt.xlabel('Grade', fontsize=14)\n",
        "plt.ylabel('Score', fontsize=14)\n",
        "\n",
        "# Show the plot\n",
        "plt.show()"
      ],
      "metadata": {
        "id": "m8LQF6_8_457"
      },
      "execution_count": null,
      "outputs": []
    },
    {
      "cell_type": "markdown",
      "source": [
        "3.  Using the sales data, generate a heatmap to visualize the variation in sales across different months and\n",
        "days"
      ],
      "metadata": {
        "id": "vUsRkKPPAPYV"
      }
    },
    {
      "cell_type": "code",
      "source": [
        "import numpy as np\n",
        "import pandas as pd\n",
        "import seaborn as sns\n",
        "import matplotlib.pyplot as plt\n",
        "\n",
        "# Set random seed for reproducibility\n",
        "np.random.seed(20)\n",
        "\n",
        "# Create dataset for sales data\n",
        "data = {\n",
        "    'Month': np.random.choice(['Jan', 'Feb', 'Mar', 'Apr', 'May'], 100),\n",
        "    'Day': np.random.choice(range(1, 31), 100),\n",
        "    'Sales': np.random.randint(1000, 5000, 100)\n",
        "}\n",
        "df = pd.DataFrame(data)\n",
        "\n",
        "# Create a pivot table to structure the sales data\n",
        "pivot_table = df.pivot_table(index='Day', columns='Month', values='Sales', aggfunc='mean')\n",
        "\n",
        "# Create a heatmap to visualize the variation in sales across different months and days\n",
        "plt.figure(figsize=(10, 8))\n",
        "sns.heatmap(pivot_table, annot=True, fmt='.0f', cmap='coolwarm', linewidths=0.5)\n",
        "\n",
        "# Add titles and labels\n",
        "plt.title('Sales Variation Across Different Months and Days', fontsize=16)\n",
        "plt.xlabel('Month', fontsize=14)\n",
        "plt.ylabel('Day', fontsize=14)\n",
        "\n",
        "# Show the plot\n",
        "plt.show()"
      ],
      "metadata": {
        "id": "f1htNoDaAkMA"
      },
      "execution_count": null,
      "outputs": []
    },
    {
      "cell_type": "markdown",
      "source": [
        "4."
      ],
      "metadata": {
        "id": "iRswCIxUAk5V"
      }
    },
    {
      "cell_type": "code",
      "source": [
        "import numpy as np\n",
        "import matplotlib.pyplot as plt\n",
        "from mpl_toolkits.mplot3d import Axes3D\n",
        "\n",
        "# Generate the data\n",
        "x = np.linspace(-5, 5, 100)\n",
        "y = np.linspace(-5, 5, 100)\n",
        "x, y = np.meshgrid(x, y)\n",
        "z = np.sin(np.sqrt(x**2 + y**2))\n",
        "\n",
        "# Plotting the 3D surface\n",
        "fig = plt.figure(figsize=(10, 8))\n",
        "ax = fig.add_subplot(111, projection='3d')\n",
        "\n",
        "# Plot the surface\n",
        "ax.plot_surface(x, y, z, cmap='viridis', edgecolor='none')\n",
        "\n",
        "# Labels\n",
        "ax.set_xlabel('X axis')\n",
        "ax.set_ylabel('Y axis')\n",
        "ax.set_zlabel('Z axis')\n",
        "ax.set_title('3D Surface plot of z = sin(sqrt(x^2 + y^2))')\n",
        "\n",
        "# Show the plot\n",
        "plt.show()"
      ],
      "metadata": {
        "id": "0sTSMJR4CIiB"
      },
      "execution_count": null,
      "outputs": []
    },
    {
      "cell_type": "markdown",
      "source": [
        "import numpy as np\n",
        "import pandas as pd\n",
        "import matplotlib.pyplot as plt\n",
        "\n",
        "# Set the seed and generate the dataset\n",
        "np.random.seed(25)\n",
        "data = {\n",
        "    'Country': ['USA', 'Canada', 'UK', 'Germany', 'France'],\n",
        "    'Population': np.random.randint(100, 1000, 5),\n",
        "    'GDP': np.random.randint(500, 2000, 5)\n",
        "}\n",
        "\n",
        "# Create the DataFrame\n",
        "df = pd.DataFrame(data)\n",
        "\n",
        "# Plotting the bubble chart\n",
        "plt.figure(figsize=(10, 6))\n",
        "\n",
        "# Scatter plot where size of the bubble is proportional to population\n",
        "plt.scatter(df['GDP'], df['Population'],\n",
        "            s=df['Population'] * 10,  # Adjust bubble size by population (scale factor 10)\n",
        "            alpha=0.6,  # Transparency for bubbles\n",
        "            c=df['Population'],  # Color by population\n",
        "            cmap='viridis')  # Colormap for bubbles\n",
        "\n",
        "# Annotate with country names\n",
        "for i in range(len(df)):\n",
        "    plt.text(df['GDP'][i] + 10, df['Population'][i], df['Country'][i], fontsize=12)\n",
        "\n",
        "# Labels and title\n",
        "plt.xlabel('GDP (in billions)')\n",
        "plt.ylabel('Population (in millions)')\n",
        "plt.title('Bubble Chart: Population vs GDP')\n",
        "\n",
        "# Show the plot\n",
        "plt.colorbar(label='Population')  # Show color bar for population\n",
        "plt.show()"
      ],
      "metadata": {
        "id": "5VpXniyHCJMx"
      }
    },
    {
      "cell_type": "markdown",
      "source": [
        "1.Create a Bokeh plot displaying a sine wave. Set x-values from 0 to 10 and y-values as the sine of x."
      ],
      "metadata": {
        "id": "wPTmWSfZDWtx"
      }
    },
    {
      "cell_type": "code",
      "source": [
        "import numpy as np\n",
        "from bokeh.plotting import figure, show\n",
        "from bokeh.io import output_notebook\n",
        "\n",
        "# Generate data\n",
        "x = np.linspace(0, 10, 100)\n",
        "y = np.sin(x)\n",
        "\n",
        "# Create a Bokeh plot\n",
        "p = figure(title=\"Sine Wave\", x_axis_label='x', y_axis_label='sin(x)', plot_width=800, plot_height=400)\n",
        "\n",
        "# Add a line to the plot\n",
        "p.line(x, y, legend_label=\"Sine Wave\", line_width=2, color=\"blue\")\n",
        "\n",
        "# Show the plot in the notebook\n",
        "output_notebook()\n",
        "show(p)"
      ],
      "metadata": {
        "id": "zI_VY1lkDaH9"
      },
      "execution_count": null,
      "outputs": []
    },
    {
      "cell_type": "markdown",
      "source": [
        "2.Create a Bokeh scatter plot using randomly generated x and y values. Use different sizes and colors for the\n",
        "markers based on the 'sizes' and 'colors' columns."
      ],
      "metadata": {
        "id": "8ythQgd3Di-m"
      }
    },
    {
      "cell_type": "code",
      "source": [
        "import numpy as np\n",
        "from bokeh.plotting import figure, show\n",
        "from bokeh.io import output_notebook\n",
        "from bokeh.models import ColumnDataSource\n",
        "\n",
        "# Generate random data\n",
        "np.random.seed(42)  # For reproducibility\n",
        "n = 100  # Number of data points\n",
        "\n",
        "x = np.random.rand(n) * 10  # Random x values between 0 and 10\n",
        "y = np.random.rand(n) * 10  # Random y values between 0 and 10\n",
        "sizes = np.random.randint(10, 50, n)  # Random marker sizes between 10 and 50\n",
        "colors = np.random.choice(['red', 'green', 'blue', 'yellow', 'purple'], size=n)  # Random colors for the points\n",
        "\n",
        "# Create a ColumnDataSource\n",
        "source = ColumnDataSource(data=dict(x=x, y=y, size=sizes, color=colors))\n",
        "\n",
        "# Create the scatter plot\n",
        "p = figure(title=\"Random Scatter Plot\", x_axis_label='X', y_axis_label='Y', plot_width=800, plot_height=400)\n",
        "\n",
        "# Add scatter points\n",
        "p.scatter(x='x', y='y', source=source, size='size', color='color', legend_field='color', fill_alpha=0.6)\n",
        "\n",
        "# Set the legend title and location\n",
        "p.legend.title = 'Color'\n",
        "p.legend.location = 'top_left'\n",
        "\n",
        "# Show the plot in the notebook\n",
        "output_notebook()\n",
        "show(p)"
      ],
      "metadata": {
        "id": "BKviDmA-DmL6"
      },
      "execution_count": null,
      "outputs": []
    },
    {
      "cell_type": "markdown",
      "source": [
        "3. 3. Generate a Bokeh bar chart representing the counts of different fruits using the following dataset\n",
        "fruits = ['Apples', 'Oranges', 'Bananas', 'Pears']\n",
        "counts = [20, 25, 30, 35]"
      ],
      "metadata": {
        "id": "lz20AyWqEZCv"
      }
    },
    {
      "cell_type": "code",
      "source": [
        "from bokeh.plotting import figure, show\n",
        "from bokeh.io import output_notebook\n",
        "from bokeh.models import ColumnDataSource\n",
        "\n",
        "# Define the data\n",
        "fruits = ['Apples', 'Oranges', 'Bananas', 'Pears']\n",
        "counts = [20, 25, 30, 35]\n",
        "\n",
        "# Create a ColumnDataSource\n",
        "source = ColumnDataSource(data=dict(fruits=fruits, counts=counts))\n",
        "\n",
        "# Create a bar chart\n",
        "p = figure(x_range=fruits, title=\"Fruit Counts\",\n",
        "           x_axis_label='Fruit', y_axis_label='Count',\n",
        "           plot_height=400, plot_width=600)\n",
        "\n",
        "# Add the bars to the plot\n",
        "p.vbar(x='fruits', top='counts', source=source, width=0.4, color=\"skyblue\", legend_field=\"fruits\")\n",
        "\n",
        "# Customize the legend\n",
        "p.legend.title = 'Fruit Type'\n",
        "p.legend.location = 'top_left'\n",
        "\n",
        "# Show the plot in the notebook\n",
        "output_notebook()\n",
        "show(p)\n"
      ],
      "metadata": {
        "id": "Z6aZEHJ3FSDi"
      },
      "execution_count": null,
      "outputs": []
    },
    {
      "cell_type": "markdown",
      "source": [
        "4. Create a Bokeh histogram to visualize the distribution of the given data"
      ],
      "metadata": {
        "id": "sk369wL5FZHV"
      }
    },
    {
      "cell_type": "code",
      "source": [
        "import numpy as np\n",
        "from bokeh.plotting import figure, show\n",
        "from bokeh.io import output_notebook\n",
        "from bokeh.models import ColumnDataSource\n",
        "\n",
        "# Generate random data\n",
        "data_hist = np.random.randn(1000)\n",
        "\n",
        "# Compute the histogram data\n",
        "hist, edges = np.histogram(data_hist, bins=30)\n",
        "\n",
        "# Create a ColumnDataSource for the histogram\n",
        "source = ColumnDataSource(data=dict(top=hist, left=edges[:-1], right=edges[1:], bottom=[0]*len(hist)))\n",
        "\n",
        "# Create the histogram plot\n",
        "p = figure(title=\"Histogram of Random Data\",\n",
        "           x_axis_label='Value', y_axis_label='Frequency',\n",
        "           plot_height=400, plot_width=600)\n",
        "\n",
        "# Add bars to the plot\n",
        "p.quad(top='top', bottom='bottom', left='left', right='right', source=source,\n",
        "       fill_color=\"skyblue\", line_color=\"white\", alpha=0.7)\n",
        "\n",
        "# Show the plot in the notebook\n",
        "output_notebook()\n",
        "show(p)"
      ],
      "metadata": {
        "id": "KF4hragWFo69"
      },
      "execution_count": null,
      "outputs": []
    },
    {
      "cell_type": "markdown",
      "source": [
        "5."
      ],
      "metadata": {
        "id": "AiL_w9TyFp_s"
      }
    },
    {
      "cell_type": "code",
      "source": [
        "import numpy as np\n",
        "from bokeh.plotting import figure, show\n",
        "from bokeh.io import output_notebook\n",
        "from bokeh.models import ColorBar\n",
        "from bokeh.transform import linear_cmap\n",
        "from bokeh.palettes import Viridis256\n",
        "from bokeh.layouts import column\n",
        "\n",
        "# Generate random data for heatmap\n",
        "data_heatmap = np.random.rand(10, 10)\n",
        "\n",
        "# Create x and y coordinates\n",
        "x = np.linspace(0, 1, 10)\n",
        "y = np.linspace(0, 1, 10)\n",
        "xx, yy = np.meshgrid(x, y)\n",
        "\n",
        "# Flatten the arrays for x, y, and data for plotting\n",
        "x_vals = xx.flatten()\n",
        "y_vals = yy.flatten()\n",
        "colors = data_heatmap.flatten()\n",
        "\n",
        "# Create the plot\n",
        "p = figure(width=400, height=400, title=\"Heatmap\", toolbar_location=None)\n",
        "\n",
        "# Define a color map (linear color scale)\n",
        "color_mapper = linear_cmap(field_name='colors', palette=Viridis256, low=min(colors), high=max(colors))\n",
        "\n",
        "# Plot the image (heatmap)\n",
        "p.image('colors', x=0, y=0, dw=1, dh=1, source={'colors': colors}, color_mapper=color_mapper)\n",
        "\n",
        "# Remove gridlines and axes\n",
        "p.xgrid.grid_line_color = None\n",
        "p.ygrid.grid_line_color = None\n",
        "p.xaxis.visible = False\n",
        "p.yaxis.visible = False\n",
        "\n",
        "# Add a color bar for reference\n",
        "color_bar = ColorBar(color_mapper=color_mapper['transform'], width=8, location=(0, 0))\n",
        "p.add_layout(color_bar, 'right')\n",
        "\n",
        "# Show the plot\n",
        "output_notebook()\n",
        "show(p)"
      ],
      "metadata": {
        "id": "QKUt2TjLGjO3"
      },
      "execution_count": null,
      "outputs": []
    }
  ]
}